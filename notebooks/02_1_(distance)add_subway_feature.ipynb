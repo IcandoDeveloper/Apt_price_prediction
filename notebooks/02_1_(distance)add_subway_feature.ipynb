{
 "cells": [
  {
   "cell_type": "markdown",
   "id": "55b980f4-c6af-4031-8946-d947639475c2",
   "metadata": {},
   "source": [
    " "
   ]
  },
  {
   "cell_type": "markdown",
   "id": "dc32beb8-89d4-434c-a044-28e55b93dc43",
   "metadata": {},
   "source": [
    "## 역세권 피처 추가"
   ]
  },
  {
   "cell_type": "code",
   "execution_count": 4,
   "id": "7b1b078a-3e31-4048-9515-f1e1ba548f59",
   "metadata": {},
   "outputs": [],
   "source": [
    "#강제 새로고침\n",
    "import importlib\n",
    "import base_model_utils\n",
    "importlib.reload(base_model_utils)\n",
    "from base_model_utils import set_korean_font, preprocess_base_df, train_compare_models, plot_dealamount_correlation, clean_numeric_df\n"
   ]
  },
  {
   "cell_type": "code",
   "execution_count": 66,
   "id": "7f770100-3d08-4213-b0d0-75b813a6983b",
   "metadata": {},
   "outputs": [],
   "source": [
    "# df_cleaned = preprocess_base_df(df)\n",
    "# model = train_and_compare_models(df, features = ['excluUseAr', 'floor', 'buildingAge', 'deal_quarter', 'umdNm',\n",
    "#             'is_high_floor', 'subway_distance', 'isStationNearby'])\n",
    "# train_and_compare_models(df_cleaned, features)"
   ]
  },
  {
   "cell_type": "code",
   "execution_count": 5,
   "id": "384ab6ea-432c-4c32-9f66-0e5e59c1c791",
   "metadata": {},
   "outputs": [],
   "source": [
    "set_korean_font()"
   ]
  },
  {
   "cell_type": "code",
   "execution_count": 6,
   "id": "0f3544fa-e4a7-4656-b0d7-832cee805316",
   "metadata": {},
   "outputs": [],
   "source": [
    "import pandas as pd\n",
    "base_model_df = pd.read_csv('01_base_model_df.csv')\n",
    "df_cleaned = preprocess_base_df(base_model_df)\n",
    "df = df_cleaned.copy()"
   ]
  },
  {
   "cell_type": "code",
   "execution_count": 7,
   "id": "04b4c66b-4737-470c-bac8-642de64dde18",
   "metadata": {},
   "outputs": [
    {
     "data": {
      "text/html": [
       "<div>\n",
       "<style scoped>\n",
       "    .dataframe tbody tr th:only-of-type {\n",
       "        vertical-align: middle;\n",
       "    }\n",
       "\n",
       "    .dataframe tbody tr th {\n",
       "        vertical-align: top;\n",
       "    }\n",
       "\n",
       "    .dataframe thead th {\n",
       "        text-align: right;\n",
       "    }\n",
       "</style>\n",
       "<table border=\"1\" class=\"dataframe\">\n",
       "  <thead>\n",
       "    <tr style=\"text-align: right;\">\n",
       "      <th></th>\n",
       "      <th>aptDong</th>\n",
       "      <th>aptNm</th>\n",
       "      <th>buildYear</th>\n",
       "      <th>buyerGbn</th>\n",
       "      <th>cdealDay</th>\n",
       "      <th>cdealType</th>\n",
       "      <th>dealAmount</th>\n",
       "      <th>dealDay</th>\n",
       "      <th>dealMonth</th>\n",
       "      <th>dealYear</th>\n",
       "      <th>...</th>\n",
       "      <th>jibun</th>\n",
       "      <th>landLeaseholdGbn</th>\n",
       "      <th>rgstDate</th>\n",
       "      <th>sggCd</th>\n",
       "      <th>slerGbn</th>\n",
       "      <th>umdNm</th>\n",
       "      <th>buildingAge</th>\n",
       "      <th>isHighFloor</th>\n",
       "      <th>dealYearMonth</th>\n",
       "      <th>dealQuarter</th>\n",
       "    </tr>\n",
       "  </thead>\n",
       "  <tbody>\n",
       "    <tr>\n",
       "      <th>0</th>\n",
       "      <td>306</td>\n",
       "      <td>우장산롯데캐슬</td>\n",
       "      <td>2003</td>\n",
       "      <td>개인</td>\n",
       "      <td></td>\n",
       "      <td></td>\n",
       "      <td>110000</td>\n",
       "      <td>29</td>\n",
       "      <td>3</td>\n",
       "      <td>2025</td>\n",
       "      <td>...</td>\n",
       "      <td>1145</td>\n",
       "      <td>N</td>\n",
       "      <td>25.07.01</td>\n",
       "      <td>11500</td>\n",
       "      <td>개인</td>\n",
       "      <td>화곡동</td>\n",
       "      <td>22</td>\n",
       "      <td>0</td>\n",
       "      <td>2025-03</td>\n",
       "      <td>1</td>\n",
       "    </tr>\n",
       "    <tr>\n",
       "      <th>1</th>\n",
       "      <td></td>\n",
       "      <td>청솔102동</td>\n",
       "      <td>1997</td>\n",
       "      <td>개인</td>\n",
       "      <td></td>\n",
       "      <td></td>\n",
       "      <td>56991</td>\n",
       "      <td>17</td>\n",
       "      <td>3</td>\n",
       "      <td>2025</td>\n",
       "      <td>...</td>\n",
       "      <td>673-14</td>\n",
       "      <td>N</td>\n",
       "      <td>25.07.01</td>\n",
       "      <td>11500</td>\n",
       "      <td>개인</td>\n",
       "      <td>내발산동</td>\n",
       "      <td>28</td>\n",
       "      <td>0</td>\n",
       "      <td>2025-03</td>\n",
       "      <td>1</td>\n",
       "    </tr>\n",
       "    <tr>\n",
       "      <th>2</th>\n",
       "      <td></td>\n",
       "      <td>강변</td>\n",
       "      <td>1992</td>\n",
       "      <td>개인</td>\n",
       "      <td></td>\n",
       "      <td></td>\n",
       "      <td>73000</td>\n",
       "      <td>29</td>\n",
       "      <td>3</td>\n",
       "      <td>2025</td>\n",
       "      <td>...</td>\n",
       "      <td>1475</td>\n",
       "      <td>N</td>\n",
       "      <td></td>\n",
       "      <td>11500</td>\n",
       "      <td>개인</td>\n",
       "      <td>가양동</td>\n",
       "      <td>33</td>\n",
       "      <td>0</td>\n",
       "      <td>2025-03</td>\n",
       "      <td>1</td>\n",
       "    </tr>\n",
       "  </tbody>\n",
       "</table>\n",
       "<p>3 rows × 24 columns</p>\n",
       "</div>"
      ],
      "text/plain": [
       "  aptDong    aptNm  buildYear buyerGbn cdealDay cdealType  dealAmount  \\\n",
       "0     306  우장산롯데캐슬       2003       개인                         110000   \n",
       "1           청솔102동       1997       개인                          56991   \n",
       "2               강변       1992       개인                          73000   \n",
       "\n",
       "   dealDay  dealMonth  dealYear  ...   jibun landLeaseholdGbn  rgstDate  \\\n",
       "0       29          3      2025  ...    1145                N  25.07.01   \n",
       "1       17          3      2025  ...  673-14                N  25.07.01   \n",
       "2       29          3      2025  ...    1475                N             \n",
       "\n",
       "   sggCd slerGbn umdNm buildingAge  isHighFloor dealYearMonth dealQuarter  \n",
       "0  11500      개인   화곡동          22            0       2025-03           1  \n",
       "1  11500      개인  내발산동          28            0       2025-03           1  \n",
       "2  11500      개인   가양동          33            0       2025-03           1  \n",
       "\n",
       "[3 rows x 24 columns]"
      ]
     },
     "execution_count": 7,
     "metadata": {},
     "output_type": "execute_result"
    }
   ],
   "source": [
    "df.head(3)"
   ]
  },
  {
   "cell_type": "code",
   "execution_count": 23,
   "id": "94dfdc06-f116-47e5-95b7-9aae9471748e",
   "metadata": {
    "scrolled": true
   },
   "outputs": [
    {
     "data": {
      "text/plain": [
       "0       서울 강서구 화곡동 1145\n",
       "1           내발산동 673-14\n",
       "2       서울 강서구 가양동 1475\n",
       "3      서울 강서구 마곡동 743-4\n",
       "4       서울 강서구 내발산동 753\n",
       "             ...       \n",
       "456    서울 강서구 등촌동 634-2\n",
       "457    서울 강서구 화곡동 926-5\n",
       "458      서울 강서구 등촌동 688\n",
       "459     서울 강서구 가양동 1475\n",
       "460     서울 강서구 마곡동 1360\n",
       "Name: aptAddress, Length: 461, dtype: object"
      ]
     },
     "execution_count": 23,
     "metadata": {},
     "output_type": "execute_result"
    }
   ],
   "source": [
    "# estateAgentSggNm에서 첫 번째 주소만 사용하도록 정제\n",
    "df['estateAgentSggNmClean'] = df['estateAgentSggNm'].str.split(',').str[0]\n",
    "df['aptAddress'] = df['estateAgentSggNmClean'] + ' ' + df['umdNm'] + ' ' + df['jibun'].astype(str)\n",
    "df['aptAddress']"
   ]
  },
  {
   "cell_type": "code",
   "execution_count": 24,
   "id": "adccf3ce-c2d5-4714-b5ce-f117cab61c35",
   "metadata": {},
   "outputs": [
    {
     "data": {
      "text/plain": [
       "aptDong                    0\n",
       "aptNm                      0\n",
       "buildYear                  0\n",
       "buyerGbn                   0\n",
       "cdealDay                   0\n",
       "cdealType                  0\n",
       "dealAmount                 0\n",
       "dealDay                    0\n",
       "dealMonth                  0\n",
       "dealYear                   0\n",
       "dealingGbn                 0\n",
       "estateAgentSggNm           0\n",
       "excluUseAr                 0\n",
       "floor                      0\n",
       "jibun                      0\n",
       "landLeaseholdGbn           0\n",
       "rgstDate                   0\n",
       "sggCd                      0\n",
       "slerGbn                    0\n",
       "umdNm                      0\n",
       "buildingAge                0\n",
       "isHighFloor                0\n",
       "dealYearMonth              0\n",
       "dealQuarter                0\n",
       "estateAgentSggNmClean      0\n",
       "aptAddress                 0\n",
       "aptLat                   461\n",
       "aptLng                   461\n",
       "subwayDistance             0\n",
       "isStationNearby            0\n",
       "dtype: int64"
      ]
     },
     "execution_count": 24,
     "metadata": {},
     "output_type": "execute_result"
    }
   ],
   "source": [
    "df.isna().sum()"
   ]
  },
  {
   "cell_type": "code",
   "execution_count": 25,
   "id": "b183cd40-9fb6-4328-9906-4bd8cce8cbaa",
   "metadata": {},
   "outputs": [],
   "source": [
    "df = df.dropna(subset=['aptLat', 'aptLng'])"
   ]
  },
  {
   "cell_type": "code",
   "execution_count": 57,
   "id": "68fce5be-8c46-43d8-acbb-b11e6b7f0f65",
   "metadata": {
    "scrolled": true
   },
   "outputs": [
    {
     "name": "stderr",
     "output_type": "stream",
     "text": [
      "  0%|                                                   | 0/461 [00:00<?, ?it/s]"
     ]
    },
    {
     "name": "stdout",
     "output_type": "stream",
     "text": [
      "1. 우장산롯데캐슬 (서울 강서구 화곡동 1145)\n",
      "  가장 가까운 역: 가양역 9호선 (839m)\n",
      "--------------------------------------------------\n"
     ]
    },
    {
     "name": "stderr",
     "output_type": "stream",
     "text": [
      "  0%|                                           | 1/461 [00:01<09:19,  1.22s/it]"
     ]
    },
    {
     "name": "stdout",
     "output_type": "stream",
     "text": [
      "2. 청솔102동 (  내발산동 673-14)\n",
      "  가장 가까운 역: 우장산역 5호선 (638m)\n",
      "--------------------------------------------------\n"
     ]
    },
    {
     "name": "stderr",
     "output_type": "stream",
     "text": [
      "  0%|▏                                          | 2/461 [00:02<09:01,  1.18s/it]"
     ]
    },
    {
     "name": "stdout",
     "output_type": "stream",
     "text": [
      "3. 강변 (서울 강서구 가양동 1475)\n",
      "  가장 가까운 역: 가양역 9호선 (433m)\n",
      "--------------------------------------------------\n"
     ]
    },
    {
     "name": "stderr",
     "output_type": "stream",
     "text": [
      "  1%|▎                                          | 3/461 [00:03<08:54,  1.17s/it]"
     ]
    },
    {
     "name": "stdout",
     "output_type": "stream",
     "text": [
      "4. 마곡엠밸리7단지 (서울 강서구 마곡동 743-4)\n",
      "  가장 가까운 역: 마곡나루역 공항철도 (373m)\n",
      "--------------------------------------------------\n"
     ]
    },
    {
     "name": "stderr",
     "output_type": "stream",
     "text": [
      "  1%|▎                                          | 4/461 [00:04<08:52,  1.17s/it]"
     ]
    },
    {
     "name": "stdout",
     "output_type": "stream",
     "text": [
      "5. 마곡수명산파크4단지 (서울 강서구 내발산동 753)\n",
      "  가장 가까운 역: 마곡역 5호선 (1005m)\n",
      "--------------------------------------------------\n"
     ]
    },
    {
     "name": "stderr",
     "output_type": "stream",
     "text": [
      "  1%|▍                                          | 5/461 [00:05<08:49,  1.16s/it]"
     ]
    },
    {
     "name": "stdout",
     "output_type": "stream",
     "text": [
      "6. 등촌동아이파크 (서울 강서구 등촌동 715)\n",
      "  가장 가까운 역: 등촌역 9호선 (904m)\n",
      "--------------------------------------------------\n"
     ]
    },
    {
     "name": "stderr",
     "output_type": "stream",
     "text": [
      "  1%|▌                                          | 6/461 [00:06<08:47,  1.16s/it]"
     ]
    },
    {
     "name": "stdout",
     "output_type": "stream",
     "text": [
      "7. 강서쌍용예가 (서울 강서구 염창동 308)\n",
      "  가장 가까운 역: 등촌역 9호선 (525m)\n",
      "--------------------------------------------------\n"
     ]
    },
    {
     "name": "stderr",
     "output_type": "stream",
     "text": [
      "  2%|▋                                          | 7/461 [00:08<08:43,  1.15s/it]"
     ]
    },
    {
     "name": "stdout",
     "output_type": "stream",
     "text": [
      "8. 요산페어뷰 (서울 강서구 화곡동 377-21)\n",
      "  가장 가까운 역: 화곡역 5호선 (655m)\n",
      "--------------------------------------------------\n"
     ]
    },
    {
     "name": "stderr",
     "output_type": "stream",
     "text": [
      "  2%|▋                                          | 8/461 [00:09<08:42,  1.15s/it]"
     ]
    },
    {
     "name": "stdout",
     "output_type": "stream",
     "text": [
      "9. 신동아 (서울 강서구 염창동 289)\n",
      "  가장 가까운 역: 등촌역 9호선 (577m)\n",
      "--------------------------------------------------\n"
     ]
    },
    {
     "name": "stderr",
     "output_type": "stream",
     "text": [
      "  2%|▊                                          | 9/461 [00:10<08:41,  1.15s/it]"
     ]
    },
    {
     "name": "stdout",
     "output_type": "stream",
     "text": [
      "10. 주공3 (서울 강서구 등촌동 688)\n",
      "  가장 가까운 역: 발산역 5호선 (443m)\n",
      "--------------------------------------------------\n"
     ]
    },
    {
     "name": "stderr",
     "output_type": "stream",
     "text": [
      "  2%|▉                                         | 10/461 [00:11<08:43,  1.16s/it]"
     ]
    },
    {
     "name": "stdout",
     "output_type": "stream",
     "text": [
      "11. 마곡금호어울림 (서울 강서구 마곡동 717)\n",
      "  가장 가까운 역: 양천향교역 9호선 (819m)\n",
      "--------------------------------------------------\n"
     ]
    },
    {
     "name": "stderr",
     "output_type": "stream",
     "text": [
      "  2%|█                                         | 11/461 [00:12<08:41,  1.16s/it]"
     ]
    },
    {
     "name": "stdout",
     "output_type": "stream",
     "text": [
      "12. 강변한솔솔파크 (서울 강서구 염창동 300)\n",
      "  가장 가까운 역: 증미역 9호선 (546m)\n",
      "--------------------------------------------------\n"
     ]
    },
    {
     "name": "stderr",
     "output_type": "stream",
     "text": [
      "  3%|█                                         | 12/461 [00:13<08:37,  1.15s/it]"
     ]
    },
    {
     "name": "stdout",
     "output_type": "stream",
     "text": [
      "13. 스위트드림아파트 (서울 강서구 화곡동 1168)\n",
      "  가장 가까운 역: 화곡역 5호선 (453m)\n",
      "--------------------------------------------------\n"
     ]
    },
    {
     "name": "stderr",
     "output_type": "stream",
     "text": [
      "  3%|█▏                                        | 13/461 [00:15<08:34,  1.15s/it]"
     ]
    },
    {
     "name": "stdout",
     "output_type": "stream",
     "text": [
      "14. 요산페어뷰 (서울 강서구 화곡동 377-21)\n",
      "  가장 가까운 역: 화곡역 5호선 (655m)\n",
      "--------------------------------------------------\n"
     ]
    },
    {
     "name": "stderr",
     "output_type": "stream",
     "text": [
      "  3%|█▎                                        | 14/461 [00:16<08:31,  1.14s/it]"
     ]
    },
    {
     "name": "stdout",
     "output_type": "stream",
     "text": [
      "15. 마곡엠벨리(14단지) (서울 강서구 마곡동 750)\n",
      "  가장 가까운 역: 마곡역 5호선 (376m)\n",
      "--------------------------------------------------\n"
     ]
    },
    {
     "name": "stderr",
     "output_type": "stream",
     "text": [
      "  3%|█▎                                        | 15/461 [00:17<08:32,  1.15s/it]"
     ]
    },
    {
     "name": "stdout",
     "output_type": "stream",
     "text": [
      "16. 초록 (서울 강서구 화곡동 1139)\n",
      "  가장 가까운 역: 우장산역 5호선 (421m)\n",
      "--------------------------------------------------\n"
     ]
    },
    {
     "name": "stderr",
     "output_type": "stream",
     "text": [
      "  3%|█▍                                        | 16/461 [00:18<08:34,  1.16s/it]"
     ]
    },
    {
     "name": "stdout",
     "output_type": "stream",
     "text": [
      "17. 가양강나루현대 (서울 강서구 가양동 448-1)\n",
      "  가장 가까운 역: 가양역 9호선 (237m)\n",
      "--------------------------------------------------\n"
     ]
    },
    {
     "name": "stderr",
     "output_type": "stream",
     "text": [
      "  4%|█▌                                        | 17/461 [00:19<08:33,  1.16s/it]"
     ]
    },
    {
     "name": "stdout",
     "output_type": "stream",
     "text": [
      "18. 가양강나루현대 (서울 강서구 가양동 448-1)\n",
      "  가장 가까운 역: 가양역 9호선 (237m)\n",
      "--------------------------------------------------\n"
     ]
    },
    {
     "name": "stderr",
     "output_type": "stream",
     "text": [
      "  4%|█▋                                        | 18/461 [00:20<08:31,  1.15s/it]"
     ]
    },
    {
     "name": "stdout",
     "output_type": "stream",
     "text": [
      "19. 마곡엠밸리10단지 (서울 강서구 마곡동 747)\n",
      "  가장 가까운 역: 마곡역 5호선 (485m)\n",
      "--------------------------------------------------\n"
     ]
    },
    {
     "name": "stderr",
     "output_type": "stream",
     "text": [
      "  4%|█▋                                        | 19/461 [00:21<08:28,  1.15s/it]"
     ]
    },
    {
     "name": "stdout",
     "output_type": "stream",
     "text": [
      "20. 동성 (서울 강서구 방화동 817)\n",
      "  가장 가까운 역: 방화역 5호선 (228m)\n",
      "--------------------------------------------------\n"
     ]
    },
    {
     "name": "stderr",
     "output_type": "stream",
     "text": [
      "  4%|█▊                                        | 20/461 [00:23<08:31,  1.16s/it]"
     ]
    },
    {
     "name": "stdout",
     "output_type": "stream",
     "text": [
      "21. 태영 (  염창동 270-1)\n",
      "  가장 가까운 역: 등촌역 9호선 (327m)\n",
      "--------------------------------------------------\n"
     ]
    },
    {
     "name": "stderr",
     "output_type": "stream",
     "text": [
      "  5%|█▉                                        | 21/461 [00:24<08:27,  1.15s/it]"
     ]
    },
    {
     "name": "stdout",
     "output_type": "stream",
     "text": [
      "22. 가양6단지 (서울 강서구 가양동 1485)\n",
      "  가장 가까운 역: 가양역 9호선 (474m)\n",
      "--------------------------------------------------\n"
     ]
    },
    {
     "name": "stderr",
     "output_type": "stream",
     "text": [
      "  5%|██                                        | 22/461 [00:25<08:25,  1.15s/it]"
     ]
    },
    {
     "name": "stdout",
     "output_type": "stream",
     "text": [
      "23. 신마곡벽산블루밍 (  방화동 904)\n",
      "  가장 가까운 역: 개화산역 5호선 (183m)\n",
      "--------------------------------------------------\n"
     ]
    },
    {
     "name": "stderr",
     "output_type": "stream",
     "text": [
      "  5%|██                                        | 23/461 [00:26<08:23,  1.15s/it]"
     ]
    },
    {
     "name": "stdout",
     "output_type": "stream",
     "text": [
      "24. 화곡1차보람더하임 (  화곡동 1087)\n",
      "  가장 가까운 역: 화곡역 5호선 (605m)\n",
      "--------------------------------------------------\n"
     ]
    },
    {
     "name": "stderr",
     "output_type": "stream",
     "text": [
      "  5%|██▏                                       | 24/461 [00:27<08:23,  1.15s/it]"
     ]
    },
    {
     "name": "stdout",
     "output_type": "stream",
     "text": [
      "25. NS파크APT (서울 강서구 화곡동 1076-9)\n",
      "  가장 가까운 역: 화곡역 5호선 (133m)\n",
      "--------------------------------------------------\n"
     ]
    },
    {
     "name": "stderr",
     "output_type": "stream",
     "text": [
      "  5%|██▎                                       | 25/461 [00:28<08:22,  1.15s/it]"
     ]
    },
    {
     "name": "stdout",
     "output_type": "stream",
     "text": [
      "26. 가양6단지 (서울 강서구 가양동 1485)\n",
      "  가장 가까운 역: 가양역 9호선 (474m)\n",
      "--------------------------------------------------\n"
     ]
    },
    {
     "name": "stderr",
     "output_type": "stream",
     "text": [
      "  6%|██▎                                       | 26/461 [00:30<08:19,  1.15s/it]"
     ]
    },
    {
     "name": "stdout",
     "output_type": "stream",
     "text": [
      "27. 우장산롯데캐슬 (서울 강서구 화곡동 1145)\n",
      "  가장 가까운 역: 가양역 9호선 (839m)\n",
      "--------------------------------------------------\n"
     ]
    },
    {
     "name": "stderr",
     "output_type": "stream",
     "text": [
      "  6%|██▍                                       | 27/461 [00:31<08:17,  1.15s/it]"
     ]
    },
    {
     "name": "stdout",
     "output_type": "stream",
     "text": [
      "28. 빛고을우방 (서울 강서구 가양동 448-9)\n",
      "  가장 가까운 역: 증미역 9호선 (323m)\n",
      "--------------------------------------------------\n"
     ]
    },
    {
     "name": "stderr",
     "output_type": "stream",
     "text": [
      "  6%|██▌                                       | 28/461 [00:32<08:16,  1.15s/it]"
     ]
    },
    {
     "name": "stdout",
     "output_type": "stream",
     "text": [
      "29. 강변 (서울 강서구 가양동 1475)\n",
      "  가장 가까운 역: 가양역 9호선 (433m)\n",
      "--------------------------------------------------\n"
     ]
    },
    {
     "name": "stderr",
     "output_type": "stream",
     "text": [
      "  6%|██▋                                       | 29/461 [00:33<08:14,  1.15s/it]"
     ]
    },
    {
     "name": "stdout",
     "output_type": "stream",
     "text": [
      "30. 동아3 (서울 강서구 염창동 258-1)\n",
      "  가장 가까운 역: 염창역 9호선 (422m)\n",
      "--------------------------------------------------\n"
     ]
    },
    {
     "name": "stderr",
     "output_type": "stream",
     "text": [
      "  7%|██▋                                       | 30/461 [00:34<08:14,  1.15s/it]"
     ]
    },
    {
     "name": "stdout",
     "output_type": "stream",
     "text": [
      "31. 동아3 (서울 강서구 염창동 258-1)\n",
      "  가장 가까운 역: 염창역 9호선 (422m)\n",
      "--------------------------------------------------\n"
     ]
    },
    {
     "name": "stderr",
     "output_type": "stream",
     "text": [
      "  7%|██▊                                       | 31/461 [00:35<08:12,  1.14s/it]"
     ]
    },
    {
     "name": "stdout",
     "output_type": "stream",
     "text": [
      "32. 가양6단지 (서울 강서구 가양동 1485)\n",
      "  가장 가까운 역: 가양역 9호선 (474m)\n",
      "--------------------------------------------------\n"
     ]
    },
    {
     "name": "stderr",
     "output_type": "stream",
     "text": [
      "  7%|██▉                                       | 32/461 [00:36<08:11,  1.15s/it]"
     ]
    },
    {
     "name": "stdout",
     "output_type": "stream",
     "text": [
      "33. 우장산타워빌 (서울 강서구 내발산동 704-2)\n",
      "  가장 가까운 역: 우장산역 5호선 (389m)\n",
      "--------------------------------------------------\n"
     ]
    },
    {
     "name": "stderr",
     "output_type": "stream",
     "text": [
      "  7%|███                                       | 33/461 [00:38<08:09,  1.14s/it]"
     ]
    },
    {
     "name": "stdout",
     "output_type": "stream",
     "text": [
      "34. 길성그랑프리텔 (서울 강서구 방화동 867)\n",
      "  가장 가까운 역: 신방화역 9호선 (213m)\n",
      "--------------------------------------------------\n"
     ]
    },
    {
     "name": "stderr",
     "output_type": "stream",
     "text": [
      "  7%|███                                       | 34/461 [00:39<08:10,  1.15s/it]"
     ]
    },
    {
     "name": "stdout",
     "output_type": "stream",
     "text": [
      "35. 삼정그린코아 (서울 강서구 염창동 282)\n",
      "  가장 가까운 역: 염창역 9호선 (110m)\n",
      "--------------------------------------------------\n"
     ]
    },
    {
     "name": "stderr",
     "output_type": "stream",
     "text": [
      "  8%|███▏                                      | 35/461 [00:40<08:14,  1.16s/it]"
     ]
    },
    {
     "name": "stdout",
     "output_type": "stream",
     "text": [
      "36. 세한(410-150) (서울 강서구 화곡동 410-150)\n",
      "  가장 가까운 역: 까치산역 5호선 (738m)\n",
      "--------------------------------------------------\n"
     ]
    },
    {
     "name": "stderr",
     "output_type": "stream",
     "text": [
      "  8%|███▎                                      | 36/461 [00:41<08:11,  1.16s/it]"
     ]
    },
    {
     "name": "stdout",
     "output_type": "stream",
     "text": [
      "37. 마곡에이치밸리움 (서울 강서구 내발산동 764)\n",
      "  가장 가까운 역: 발산역 5호선 (585m)\n",
      "--------------------------------------------------\n"
     ]
    },
    {
     "name": "stderr",
     "output_type": "stream",
     "text": [
      "  8%|███▎                                      | 37/461 [00:42<08:08,  1.15s/it]"
     ]
    },
    {
     "name": "stdout",
     "output_type": "stream",
     "text": [
      "38. 삼성하나로 (서울 강서구 염창동 248-3)\n",
      "  가장 가까운 역: 등촌역 9호선 (568m)\n",
      "--------------------------------------------------\n"
     ]
    },
    {
     "name": "stderr",
     "output_type": "stream",
     "text": [
      "  8%|███▍                                      | 38/461 [00:43<08:04,  1.15s/it]"
     ]
    },
    {
     "name": "stdout",
     "output_type": "stream",
     "text": [
      "39. 강서힐스테이트 (서울 강서구 화곡동 1165)\n",
      "  가장 가까운 역: 우장산역 5호선 (407m)\n",
      "--------------------------------------------------\n"
     ]
    },
    {
     "name": "stderr",
     "output_type": "stream",
     "text": [
      "  8%|███▌                                      | 39/461 [00:44<08:09,  1.16s/it]"
     ]
    },
    {
     "name": "stdout",
     "output_type": "stream",
     "text": [
      "40. 무학 (서울 강서구 염창동 255)\n",
      "  가장 가까운 역: 염창역 9호선 (511m)\n",
      "--------------------------------------------------\n"
     ]
    },
    {
     "name": "stderr",
     "output_type": "stream",
     "text": [
      "  9%|███▋                                      | 40/461 [00:46<08:07,  1.16s/it]"
     ]
    },
    {
     "name": "stdout",
     "output_type": "stream",
     "text": [
      "41. 가양2단지(성지) (경기 남양주시 가양동 1461)\n",
      "  주소 → 좌표 변환 실패\n",
      "--------------------------------------------------\n"
     ]
    },
    {
     "name": "stderr",
     "output_type": "stream",
     "text": [
      "  9%|███▋                                      | 41/461 [00:47<07:56,  1.13s/it]"
     ]
    },
    {
     "name": "stdout",
     "output_type": "stream",
     "text": [
      "42. 성재센트리움아파트(343-35) (  화곡동 343-35)\n",
      "  가장 가까운 역: 까치산역 2호선 (80m)\n",
      "--------------------------------------------------\n"
     ]
    },
    {
     "name": "stderr",
     "output_type": "stream",
     "text": [
      "  9%|███▊                                      | 42/461 [00:48<08:00,  1.15s/it]"
     ]
    },
    {
     "name": "stdout",
     "output_type": "stream",
     "text": [
      "43. 우장산롯데 (서울 강서구 화곡동 1148)\n",
      "  가장 가까운 역: 우장산역 5호선 (984m)\n",
      "--------------------------------------------------\n"
     ]
    },
    {
     "name": "stderr",
     "output_type": "stream",
     "text": [
      "  9%|███▉                                      | 43/461 [00:49<08:01,  1.15s/it]"
     ]
    },
    {
     "name": "stdout",
     "output_type": "stream",
     "text": [
      "44. 강서힐스테이트 (서울 강서구 화곡동 1165)\n",
      "  가장 가까운 역: 우장산역 5호선 (407m)\n",
      "--------------------------------------------------\n"
     ]
    },
    {
     "name": "stderr",
     "output_type": "stream",
     "text": [
      " 10%|████                                      | 44/461 [00:50<07:59,  1.15s/it]"
     ]
    },
    {
     "name": "stdout",
     "output_type": "stream",
     "text": [
      "45. 가양2단지(성지) (서울 강서구 가양동 1461)\n",
      "  가장 가까운 역: 양천향교역 9호선 (531m)\n",
      "--------------------------------------------------\n"
     ]
    },
    {
     "name": "stderr",
     "output_type": "stream",
     "text": [
      " 10%|████                                      | 45/461 [00:51<07:59,  1.15s/it]"
     ]
    },
    {
     "name": "stdout",
     "output_type": "stream",
     "text": [
      "46. 강변한솔솔파크 (서울 강서구 염창동 300)\n",
      "  가장 가까운 역: 증미역 9호선 (546m)\n",
      "--------------------------------------------------\n"
     ]
    },
    {
     "name": "stderr",
     "output_type": "stream",
     "text": [
      " 10%|████▏                                     | 46/461 [00:53<07:56,  1.15s/it]"
     ]
    },
    {
     "name": "stdout",
     "output_type": "stream",
     "text": [
      "47. 등촌7,8단지주공아파트 (서울 강서구 등촌동 707)\n",
      "  가장 가까운 역: 가양역 9호선 (251m)\n",
      "--------------------------------------------------\n"
     ]
    },
    {
     "name": "stderr",
     "output_type": "stream",
     "text": [
      " 10%|████▎                                     | 47/461 [00:54<07:53,  1.14s/it]"
     ]
    },
    {
     "name": "stdout",
     "output_type": "stream",
     "text": [
      "48. 강변 (서울 강서구 가양동 1475)\n",
      "  가장 가까운 역: 가양역 9호선 (433m)\n",
      "--------------------------------------------------\n"
     ]
    },
    {
     "name": "stderr",
     "output_type": "stream",
     "text": [
      " 10%|████▎                                     | 48/461 [00:55<07:58,  1.16s/it]"
     ]
    },
    {
     "name": "stdout",
     "output_type": "stream",
     "text": [
      "49. 등촌동아이파크 (서울 강서구 등촌동 715)\n",
      "  가장 가까운 역: 등촌역 9호선 (904m)\n",
      "--------------------------------------------------\n"
     ]
    },
    {
     "name": "stderr",
     "output_type": "stream",
     "text": [
      " 11%|████▍                                     | 49/461 [00:56<08:00,  1.17s/it]"
     ]
    },
    {
     "name": "stdout",
     "output_type": "stream",
     "text": [
      "50. 무학 (서울 강서구 염창동 255)\n",
      "  가장 가까운 역: 염창역 9호선 (511m)\n",
      "--------------------------------------------------\n"
     ]
    },
    {
     "name": "stderr",
     "output_type": "stream",
     "text": [
      " 11%|████▌                                     | 50/461 [00:57<07:56,  1.16s/it]"
     ]
    },
    {
     "name": "stdout",
     "output_type": "stream",
     "text": [
      "51. 강서힐스테이트 (서울 강서구 화곡동 1165)\n",
      "  가장 가까운 역: 우장산역 5호선 (407m)\n",
      "--------------------------------------------------\n"
     ]
    },
    {
     "name": "stderr",
     "output_type": "stream",
     "text": [
      " 11%|████▋                                     | 51/461 [00:58<07:53,  1.16s/it]"
     ]
    },
    {
     "name": "stdout",
     "output_type": "stream",
     "text": [
      "52. 마곡엠벨리(14단지) (서울 강서구 마곡동 750)\n",
      "  가장 가까운 역: 마곡역 5호선 (376m)\n",
      "--------------------------------------------------\n"
     ]
    },
    {
     "name": "stderr",
     "output_type": "stream",
     "text": [
      " 11%|████▋                                     | 52/461 [00:59<07:53,  1.16s/it]"
     ]
    },
    {
     "name": "stdout",
     "output_type": "stream",
     "text": [
      "53. 빛고을우방 (서울 강서구 가양동 448-9)\n",
      "  가장 가까운 역: 증미역 9호선 (323m)\n",
      "--------------------------------------------------\n"
     ]
    },
    {
     "name": "stderr",
     "output_type": "stream",
     "text": [
      " 11%|████▊                                     | 53/461 [01:01<07:50,  1.15s/it]"
     ]
    },
    {
     "name": "stdout",
     "output_type": "stream",
     "text": [
      "54. 마곡중앙하이츠아파트 (서울 강서구 방화동 852)\n",
      "  가장 가까운 역: 개화산역 5호선 (303m)\n",
      "--------------------------------------------------\n"
     ]
    },
    {
     "name": "stderr",
     "output_type": "stream",
     "text": [
      " 12%|████▉                                     | 54/461 [01:02<07:50,  1.16s/it]"
     ]
    },
    {
     "name": "stdout",
     "output_type": "stream",
     "text": [
      "55. 강변 (서울 강서구 가양동 1475)\n",
      "  가장 가까운 역: 가양역 9호선 (433m)\n",
      "--------------------------------------------------\n"
     ]
    },
    {
     "name": "stderr",
     "output_type": "stream",
     "text": [
      " 12%|█████                                     | 55/461 [01:03<07:46,  1.15s/it]"
     ]
    },
    {
     "name": "stdout",
     "output_type": "stream",
     "text": [
      "56. 방화3차우림필유 (서울 강서구 방화동 546-1)\n",
      "  가장 가까운 역: 개화산역 5호선 (488m)\n",
      "--------------------------------------------------\n"
     ]
    },
    {
     "name": "stderr",
     "output_type": "stream",
     "text": [
      " 12%|█████                                     | 56/461 [01:04<07:48,  1.16s/it]"
     ]
    },
    {
     "name": "stdout",
     "output_type": "stream",
     "text": [
      "57. 강서힐스테이트 (서울 강서구 화곡동 1165)\n",
      "  가장 가까운 역: 우장산역 5호선 (407m)\n",
      "--------------------------------------------------\n"
     ]
    },
    {
     "name": "stderr",
     "output_type": "stream",
     "text": [
      " 12%|█████▏                                    | 57/461 [01:05<07:53,  1.17s/it]"
     ]
    },
    {
     "name": "stdout",
     "output_type": "stream",
     "text": [
      "58. 염창동한강우성 (서울 강서구 염창동 66-9)\n",
      "  가장 가까운 역: 등촌역 9호선 (693m)\n",
      "--------------------------------------------------\n"
     ]
    },
    {
     "name": "stderr",
     "output_type": "stream",
     "text": [
      " 13%|█████▎                                    | 58/461 [01:06<07:50,  1.17s/it]"
     ]
    },
    {
     "name": "stdout",
     "output_type": "stream",
     "text": [
      "59. 화곡푸르지오 (서울 강서구 화곡동 1091)\n",
      "  가장 가까운 역: 우장산역 5호선 (634m)\n",
      "--------------------------------------------------\n"
     ]
    },
    {
     "name": "stderr",
     "output_type": "stream",
     "text": [
      " 13%|█████▍                                    | 59/461 [01:08<07:47,  1.16s/it]"
     ]
    },
    {
     "name": "stdout",
     "output_type": "stream",
     "text": [
      "60. 관음삼성 (서울 강서구 염창동 268)\n",
      "  가장 가까운 역: 등촌역 9호선 (376m)\n",
      "--------------------------------------------------\n"
     ]
    },
    {
     "name": "stderr",
     "output_type": "stream",
     "text": [
      " 13%|█████▍                                    | 60/461 [01:09<07:42,  1.15s/it]"
     ]
    },
    {
     "name": "stdout",
     "output_type": "stream",
     "text": [
      "61. 삼성하나로 (서울 강서구 염창동 248-3)\n",
      "  가장 가까운 역: 등촌역 9호선 (568m)\n",
      "--------------------------------------------------\n"
     ]
    },
    {
     "name": "stderr",
     "output_type": "stream",
     "text": [
      " 13%|█████▌                                    | 61/461 [01:10<07:40,  1.15s/it]"
     ]
    },
    {
     "name": "stdout",
     "output_type": "stream",
     "text": [
      "62. 주공3 (서울 강서구 등촌동 688)\n",
      "  가장 가까운 역: 발산역 5호선 (443m)\n",
      "--------------------------------------------------\n"
     ]
    },
    {
     "name": "stderr",
     "output_type": "stream",
     "text": [
      " 13%|█████▋                                    | 62/461 [01:11<07:37,  1.15s/it]"
     ]
    },
    {
     "name": "stdout",
     "output_type": "stream",
     "text": [
      "63. 가양강나루현대 (서울 강서구 가양동 448-1)\n",
      "  가장 가까운 역: 가양역 9호선 (237m)\n",
      "--------------------------------------------------\n"
     ]
    },
    {
     "name": "stderr",
     "output_type": "stream",
     "text": [
      " 14%|█████▋                                    | 63/461 [01:12<07:34,  1.14s/it]"
     ]
    },
    {
     "name": "stdout",
     "output_type": "stream",
     "text": [
      "64. 가양6단지 (서울 강서구 가양동 1485)\n",
      "  가장 가까운 역: 가양역 9호선 (474m)\n",
      "--------------------------------------------------\n"
     ]
    },
    {
     "name": "stderr",
     "output_type": "stream",
     "text": [
      " 14%|█████▊                                    | 64/461 [01:13<07:33,  1.14s/it]"
     ]
    },
    {
     "name": "stdout",
     "output_type": "stream",
     "text": [
      "65. 현대1 (서울 강서구 염창동 288)\n",
      "  가장 가까운 역: 염창역 9호선 (651m)\n",
      "--------------------------------------------------\n"
     ]
    },
    {
     "name": "stderr",
     "output_type": "stream",
     "text": [
      " 14%|█████▉                                    | 65/461 [01:14<07:33,  1.15s/it]"
     ]
    },
    {
     "name": "stdout",
     "output_type": "stream",
     "text": [
      "66. 청솔 (서울 강서구 방화동 832)\n",
      "  가장 가까운 역: 방화역 5호선 (219m)\n",
      "--------------------------------------------------\n"
     ]
    },
    {
     "name": "stderr",
     "output_type": "stream",
     "text": [
      " 14%|██████                                    | 66/461 [01:16<07:33,  1.15s/it]"
     ]
    },
    {
     "name": "stdout",
     "output_type": "stream",
     "text": [
      "67. 한진로즈힐 (서울 강서구 방화동 579)\n",
      "  가장 가까운 역: 신방화역 9호선 (565m)\n",
      "--------------------------------------------------\n"
     ]
    },
    {
     "name": "stderr",
     "output_type": "stream",
     "text": [
      " 15%|██████                                    | 67/461 [01:17<07:31,  1.15s/it]"
     ]
    },
    {
     "name": "stdout",
     "output_type": "stream",
     "text": [
      "68. 염창3차보람 (서울 강서구 염창동 301)\n",
      "  가장 가까운 역: 염창역 9호선 (660m)\n",
      "--------------------------------------------------\n"
     ]
    },
    {
     "name": "stderr",
     "output_type": "stream",
     "text": [
      " 15%|██████▏                                   | 68/461 [01:18<07:41,  1.17s/it]"
     ]
    },
    {
     "name": "stdout",
     "output_type": "stream",
     "text": [
      "69. 강변 (서울 강서구 가양동 1475)\n",
      "  가장 가까운 역: 가양역 9호선 (433m)\n",
      "--------------------------------------------------\n"
     ]
    },
    {
     "name": "stderr",
     "output_type": "stream",
     "text": [
      " 15%|██████▎                                   | 69/461 [01:19<07:38,  1.17s/it]"
     ]
    },
    {
     "name": "stdout",
     "output_type": "stream",
     "text": [
      "70. 부영 (서울 강서구 등촌동 691-3)\n",
      "  가장 가까운 역: 양천향교역 9호선 (523m)\n",
      "--------------------------------------------------\n"
     ]
    },
    {
     "name": "stderr",
     "output_type": "stream",
     "text": [
      " 15%|██████▍                                   | 70/461 [01:20<07:36,  1.17s/it]"
     ]
    },
    {
     "name": "stdout",
     "output_type": "stream",
     "text": [
      "71. 강변한솔솔파크 (서울 강서구 염창동 300)\n",
      "  가장 가까운 역: 증미역 9호선 (546m)\n",
      "--------------------------------------------------\n"
     ]
    },
    {
     "name": "stderr",
     "output_type": "stream",
     "text": [
      " 15%|██████▍                                   | 71/461 [01:21<07:37,  1.17s/it]"
     ]
    },
    {
     "name": "stdout",
     "output_type": "stream",
     "text": [
      "72. 장미 (서울 강서구 방화동 841)\n",
      "  가장 가까운 역: 방화역 5호선 (552m)\n",
      "--------------------------------------------------\n"
     ]
    },
    {
     "name": "stderr",
     "output_type": "stream",
     "text": [
      " 16%|██████▌                                   | 72/461 [01:23<07:38,  1.18s/it]"
     ]
    },
    {
     "name": "stdout",
     "output_type": "stream",
     "text": [
      "73. 방화그린 (서울 강서구 방화동 839)\n",
      "  가장 가까운 역: 방화역 5호선 (626m)\n",
      "--------------------------------------------------\n"
     ]
    },
    {
     "name": "stderr",
     "output_type": "stream",
     "text": [
      " 16%|██████▋                                   | 73/461 [01:24<08:00,  1.24s/it]"
     ]
    },
    {
     "name": "stdout",
     "output_type": "stream",
     "text": [
      "74. 강서쌍용예가 (서울 강서구 염창동 308)\n",
      "  가장 가까운 역: 등촌역 9호선 (525m)\n",
      "--------------------------------------------------\n"
     ]
    },
    {
     "name": "stderr",
     "output_type": "stream",
     "text": [
      " 16%|██████▋                                   | 74/461 [01:25<07:58,  1.24s/it]"
     ]
    },
    {
     "name": "stdout",
     "output_type": "stream",
     "text": [
      "75. 강변 (서울 강서구 가양동 1475)\n",
      "  가장 가까운 역: 가양역 9호선 (433m)\n",
      "--------------------------------------------------\n"
     ]
    },
    {
     "name": "stderr",
     "output_type": "stream",
     "text": [
      " 16%|██████▊                                   | 75/461 [01:26<07:52,  1.22s/it]"
     ]
    },
    {
     "name": "stdout",
     "output_type": "stream",
     "text": [
      "76. 마곡서광(치현마을) (서울 강서구 방화동 860)\n",
      "  가장 가까운 역: 방화역 5호선 (602m)\n",
      "--------------------------------------------------\n"
     ]
    },
    {
     "name": "stderr",
     "output_type": "stream",
     "text": [
      " 16%|██████▉                                   | 76/461 [01:28<07:44,  1.21s/it]"
     ]
    },
    {
     "name": "stdout",
     "output_type": "stream",
     "text": [
      "77. 이너스내안에 (서울 강서구 염창동 254-2)\n",
      "  가장 가까운 역: 염창역 9호선 (437m)\n",
      "--------------------------------------------------\n"
     ]
    },
    {
     "name": "stderr",
     "output_type": "stream",
     "text": [
      " 17%|███████                                   | 77/461 [01:29<07:35,  1.19s/it]"
     ]
    },
    {
     "name": "stdout",
     "output_type": "stream",
     "text": [
      "78. 방신서광 (서울 강서구 방화동 871)\n",
      "  가장 가까운 역: 개화산역 5호선 (346m)\n",
      "--------------------------------------------------\n"
     ]
    },
    {
     "name": "stderr",
     "output_type": "stream",
     "text": [
      " 17%|███████                                   | 78/461 [01:30<07:29,  1.17s/it]"
     ]
    },
    {
     "name": "stdout",
     "output_type": "stream",
     "text": [
      "79. 가양우성 (서울 강서구 가양동 14-3)\n",
      "  가장 가까운 역: 가양역 9호선 (90m)\n",
      "--------------------------------------------------\n"
     ]
    },
    {
     "name": "stderr",
     "output_type": "stream",
     "text": [
      " 17%|███████▏                                  | 79/461 [01:31<07:26,  1.17s/it]"
     ]
    },
    {
     "name": "stdout",
     "output_type": "stream",
     "text": [
      "80. 주공5 (서울 강서구 등촌동 695)\n",
      "  가장 가까운 역: 발산역 5호선 (660m)\n",
      "--------------------------------------------------\n"
     ]
    },
    {
     "name": "stderr",
     "output_type": "stream",
     "text": [
      " 17%|███████▎                                  | 80/461 [01:32<07:22,  1.16s/it]"
     ]
    },
    {
     "name": "stdout",
     "output_type": "stream",
     "text": [
      "81. 가양우성 (서울 강서구 가양동 14-3)\n",
      "  가장 가까운 역: 가양역 9호선 (90m)\n",
      "--------------------------------------------------\n"
     ]
    },
    {
     "name": "stderr",
     "output_type": "stream",
     "text": [
      " 18%|███████▍                                  | 81/461 [01:33<07:28,  1.18s/it]"
     ]
    },
    {
     "name": "stdout",
     "output_type": "stream",
     "text": [
      "82. 신송타워 (서울 강서구 등촌동 662-3)\n",
      "  가장 가까운 역: 가양역 9호선 (670m)\n",
      "--------------------------------------------------\n"
     ]
    },
    {
     "name": "stderr",
     "output_type": "stream",
     "text": [
      " 18%|███████▍                                  | 82/461 [01:35<07:26,  1.18s/it]"
     ]
    },
    {
     "name": "stdout",
     "output_type": "stream",
     "text": [
      "83. 동성 (서울 강서구 방화동 817)\n",
      "  가장 가까운 역: 방화역 5호선 (228m)\n",
      "--------------------------------------------------\n"
     ]
    },
    {
     "name": "stderr",
     "output_type": "stream",
     "text": [
      " 18%|███████▌                                  | 83/461 [01:36<07:30,  1.19s/it]"
     ]
    },
    {
     "name": "stdout",
     "output_type": "stream",
     "text": [
      "84. 강서힐스테이트 (서울 강서구 화곡동 1165)\n",
      "  가장 가까운 역: 우장산역 5호선 (407m)\n",
      "--------------------------------------------------\n"
     ]
    },
    {
     "name": "stderr",
     "output_type": "stream",
     "text": [
      " 18%|███████▋                                  | 84/461 [01:37<07:27,  1.19s/it]"
     ]
    },
    {
     "name": "stdout",
     "output_type": "stream",
     "text": [
      "85. 부영 (서울 강서구 등촌동 691-3)\n",
      "  가장 가까운 역: 양천향교역 9호선 (523m)\n",
      "--------------------------------------------------\n"
     ]
    },
    {
     "name": "stderr",
     "output_type": "stream",
     "text": [
      " 18%|███████▋                                  | 85/461 [01:38<07:30,  1.20s/it]"
     ]
    },
    {
     "name": "stdout",
     "output_type": "stream",
     "text": [
      "86. 스위트드림아파트 (서울 강서구 화곡동 1168)\n",
      "  가장 가까운 역: 화곡역 5호선 (453m)\n",
      "--------------------------------------------------\n"
     ]
    },
    {
     "name": "stderr",
     "output_type": "stream",
     "text": [
      " 19%|███████▊                                  | 86/461 [01:39<07:32,  1.21s/it]"
     ]
    },
    {
     "name": "stdout",
     "output_type": "stream",
     "text": [
      "87. 벽산 (서울 강서구 마곡동 429)\n",
      "  가장 가까운 역: 양천향교역 9호선 (924m)\n",
      "--------------------------------------------------\n"
     ]
    },
    {
     "name": "stderr",
     "output_type": "stream",
     "text": [
      " 19%|███████▉                                  | 87/461 [01:41<07:24,  1.19s/it]"
     ]
    },
    {
     "name": "stdout",
     "output_type": "stream",
     "text": [
      "88. 성재센트리움아파트 (서울 강서구 화곡동 143-11)\n",
      "  가장 가까운 역: 화곡역 5호선 (132m)\n",
      "--------------------------------------------------\n"
     ]
    },
    {
     "name": "stderr",
     "output_type": "stream",
     "text": [
      " 19%|████████                                  | 88/461 [01:42<07:23,  1.19s/it]"
     ]
    },
    {
     "name": "stdout",
     "output_type": "stream",
     "text": [
      "89. 방화5 (서울 강서구 방화동 814)\n",
      "  가장 가까운 역: 방화역 5호선 (231m)\n",
      "--------------------------------------------------\n"
     ]
    },
    {
     "name": "stderr",
     "output_type": "stream",
     "text": [
      " 19%|████████                                  | 89/461 [01:43<07:27,  1.20s/it]"
     ]
    },
    {
     "name": "stdout",
     "output_type": "stream",
     "text": [
      "90. 가양6단지 (서울 강서구 가양동 1485)\n",
      "  가장 가까운 역: 가양역 9호선 (474m)\n",
      "--------------------------------------------------\n"
     ]
    },
    {
     "name": "stderr",
     "output_type": "stream",
     "text": [
      " 20%|████████▏                                 | 90/461 [01:44<07:26,  1.20s/it]"
     ]
    },
    {
     "name": "stdout",
     "output_type": "stream",
     "text": [
      "91. 화곡푸르지오 (서울 양천구 화곡동 1091)\n",
      "  주소 → 좌표 변환 실패\n",
      "--------------------------------------------------\n"
     ]
    },
    {
     "name": "stderr",
     "output_type": "stream",
     "text": [
      " 20%|████████▎                                 | 91/461 [01:45<07:11,  1.17s/it]"
     ]
    },
    {
     "name": "stdout",
     "output_type": "stream",
     "text": [
      "92. 가양2단지(성지) (서울 강서구 가양동 1461)\n",
      "  가장 가까운 역: 양천향교역 9호선 (531m)\n",
      "--------------------------------------------------\n"
     ]
    },
    {
     "name": "stderr",
     "output_type": "stream",
     "text": [
      " 20%|████████▍                                 | 92/461 [01:47<07:13,  1.18s/it]"
     ]
    },
    {
     "name": "stdout",
     "output_type": "stream",
     "text": [
      "93. 서부인터빌아파트 (서울 강서구 화곡동 1074-18)\n",
      "  가장 가까운 역: 화곡역 5호선 (116m)\n",
      "--------------------------------------------------\n"
     ]
    },
    {
     "name": "stderr",
     "output_type": "stream",
     "text": [
      " 20%|████████▍                                 | 93/461 [01:48<07:09,  1.17s/it]"
     ]
    },
    {
     "name": "stdout",
     "output_type": "stream",
     "text": [
      "94. 강서힐스테이트 (서울 강서구 화곡동 1165)\n",
      "  가장 가까운 역: 우장산역 5호선 (407m)\n",
      "--------------------------------------------------\n"
     ]
    },
    {
     "name": "stderr",
     "output_type": "stream",
     "text": [
      " 20%|████████▌                                 | 94/461 [01:49<07:05,  1.16s/it]"
     ]
    },
    {
     "name": "stdout",
     "output_type": "stream",
     "text": [
      "95. 마곡엠밸리7단지 (서울 강서구 마곡동 743-4)\n",
      "  가장 가까운 역: 마곡나루역 공항철도 (373m)\n",
      "--------------------------------------------------\n"
     ]
    },
    {
     "name": "stderr",
     "output_type": "stream",
     "text": [
      " 21%|████████▋                                 | 95/461 [01:50<07:03,  1.16s/it]"
     ]
    },
    {
     "name": "stdout",
     "output_type": "stream",
     "text": [
      "96. 방화5 (서울 강서구 방화동 814)\n",
      "  가장 가까운 역: 방화역 5호선 (231m)\n",
      "--------------------------------------------------\n"
     ]
    },
    {
     "name": "stderr",
     "output_type": "stream",
     "text": [
      " 21%|████████▋                                 | 96/461 [01:51<07:03,  1.16s/it]"
     ]
    },
    {
     "name": "stdout",
     "output_type": "stream",
     "text": [
      "97. 동성 (서울 강서구 방화동 817)\n",
      "  가장 가까운 역: 방화역 5호선 (228m)\n",
      "--------------------------------------------------\n"
     ]
    },
    {
     "name": "stderr",
     "output_type": "stream",
     "text": [
      " 21%|████████▊                                 | 97/461 [01:52<06:59,  1.15s/it]"
     ]
    },
    {
     "name": "stdout",
     "output_type": "stream",
     "text": [
      "98. 가양강나루현대 (서울 강서구 가양동 448-1)\n",
      "  가장 가까운 역: 가양역 9호선 (237m)\n",
      "--------------------------------------------------\n"
     ]
    },
    {
     "name": "stderr",
     "output_type": "stream",
     "text": [
      " 21%|████████▉                                 | 98/461 [01:53<06:57,  1.15s/it]"
     ]
    },
    {
     "name": "stdout",
     "output_type": "stream",
     "text": [
      "99. 태승훼미리아파트5차 (서울 강서구 내발산동 714-4)\n",
      "  가장 가까운 역: 우장산역 5호선 (323m)\n",
      "--------------------------------------------------\n"
     ]
    },
    {
     "name": "stderr",
     "output_type": "stream",
     "text": [
      " 21%|█████████                                 | 99/461 [01:55<06:56,  1.15s/it]"
     ]
    },
    {
     "name": "stdout",
     "output_type": "stream",
     "text": [
      "100. 청솔 (서울 강서구 방화동 832)\n",
      "  가장 가까운 역: 방화역 5호선 (219m)\n",
      "--------------------------------------------------\n"
     ]
    },
    {
     "name": "stderr",
     "output_type": "stream",
     "text": [
      " 22%|████████▉                                | 100/461 [01:56<06:55,  1.15s/it]"
     ]
    },
    {
     "name": "stdout",
     "output_type": "stream",
     "text": [
      "101. 성원 (서울 강서구 염창동 295)\n",
      "  가장 가까운 역: 등촌역 9호선 (788m)\n",
      "--------------------------------------------------\n"
     ]
    },
    {
     "name": "stderr",
     "output_type": "stream",
     "text": [
      " 22%|████████▉                                | 101/461 [01:57<06:55,  1.15s/it]"
     ]
    },
    {
     "name": "stdout",
     "output_type": "stream",
     "text": [
      "102. 동아 (서울 강서구 염창동 292)\n",
      "  가장 가까운 역: 등촌역 9호선 (808m)\n",
      "--------------------------------------------------\n"
     ]
    },
    {
     "name": "stderr",
     "output_type": "stream",
     "text": [
      " 22%|█████████                                | 102/461 [01:58<06:58,  1.17s/it]"
     ]
    },
    {
     "name": "stdout",
     "output_type": "stream",
     "text": [
      "103. 강변 (서울 강서구 가양동 1475)\n",
      "  가장 가까운 역: 가양역 9호선 (433m)\n",
      "--------------------------------------------------\n"
     ]
    },
    {
     "name": "stderr",
     "output_type": "stream",
     "text": [
      " 22%|█████████▏                               | 103/461 [01:59<07:02,  1.18s/it]"
     ]
    },
    {
     "name": "stdout",
     "output_type": "stream",
     "text": [
      "104. 동부센트레빌 (서울 강서구 방화동 870)\n",
      "  가장 가까운 역: 개화산역 5호선 (102m)\n",
      "--------------------------------------------------\n"
     ]
    },
    {
     "name": "stderr",
     "output_type": "stream",
     "text": [
      " 23%|█████████▏                               | 104/461 [02:01<07:06,  1.20s/it]"
     ]
    },
    {
     "name": "stdout",
     "output_type": "stream",
     "text": [
      "105. 마곡13단지힐스테이트마스터 (서울 강서구 마곡동 748)\n",
      "  가장 가까운 역: 마곡역 5호선 (627m)\n",
      "--------------------------------------------------\n"
     ]
    },
    {
     "name": "stderr",
     "output_type": "stream",
     "text": [
      " 23%|█████████▎                               | 105/461 [02:02<07:07,  1.20s/it]"
     ]
    },
    {
     "name": "stdout",
     "output_type": "stream",
     "text": [
      "106. 부영 (부산 부산진구 등촌동 691-3)\n",
      "  주소 → 좌표 변환 실패\n",
      "--------------------------------------------------\n"
     ]
    },
    {
     "name": "stderr",
     "output_type": "stream",
     "text": [
      " 23%|█████████▍                               | 106/461 [02:03<06:58,  1.18s/it]"
     ]
    },
    {
     "name": "stdout",
     "output_type": "stream",
     "text": [
      "107. 마곡엠밸리5단지 (서울 강서구 마곡동 740)\n",
      "  가장 가까운 역: 신방화역 9호선 (190m)\n",
      "--------------------------------------------------\n"
     ]
    },
    {
     "name": "stderr",
     "output_type": "stream",
     "text": [
      " 23%|█████████▌                               | 107/461 [02:04<06:54,  1.17s/it]"
     ]
    },
    {
     "name": "stdout",
     "output_type": "stream",
     "text": [
      "108. 가양2단지(성지) (서울 강서구 가양동 1461)\n",
      "  가장 가까운 역: 양천향교역 9호선 (531m)\n",
      "--------------------------------------------------\n"
     ]
    },
    {
     "name": "stderr",
     "output_type": "stream",
     "text": [
      " 23%|█████████▌                               | 108/461 [02:05<06:51,  1.17s/it]"
     ]
    },
    {
     "name": "stdout",
     "output_type": "stream",
     "text": [
      "109. 강서월드메르디앙 (서울 강서구 내발산동 659-1)\n",
      "  가장 가까운 역: 발산역 5호선 (507m)\n",
      "--------------------------------------------------\n"
     ]
    },
    {
     "name": "stderr",
     "output_type": "stream",
     "text": [
      " 24%|█████████▋                               | 109/461 [02:06<06:47,  1.16s/it]"
     ]
    },
    {
     "name": "stdout",
     "output_type": "stream",
     "text": [
      "110. 삼정그린코아 (서울 강서구 염창동 282)\n",
      "  가장 가까운 역: 염창역 9호선 (110m)\n",
      "--------------------------------------------------\n"
     ]
    },
    {
     "name": "stderr",
     "output_type": "stream",
     "text": [
      " 24%|█████████▊                               | 110/461 [02:07<06:45,  1.16s/it]"
     ]
    },
    {
     "name": "stdout",
     "output_type": "stream",
     "text": [
      "111. 서광등촌마을아파트 (서울 강서구 등촌동 638)\n",
      "  가장 가까운 역: 증미역 9호선 (283m)\n",
      "--------------------------------------------------\n"
     ]
    },
    {
     "name": "stderr",
     "output_type": "stream",
     "text": [
      " 24%|█████████▊                               | 111/461 [02:09<06:44,  1.15s/it]"
     ]
    },
    {
     "name": "stdout",
     "output_type": "stream",
     "text": [
      "112. 동아3 (서울 강서구 염창동 258-1)\n",
      "  가장 가까운 역: 염창역 9호선 (422m)\n",
      "--------------------------------------------------\n"
     ]
    },
    {
     "name": "stderr",
     "output_type": "stream",
     "text": [
      " 24%|█████████▉                               | 112/461 [02:10<06:42,  1.15s/it]"
     ]
    },
    {
     "name": "stdout",
     "output_type": "stream",
     "text": [
      "113. 우장산아이파크,이편한세상 (서울 강서구 화곡동 1159)\n",
      "  가장 가까운 역: 우장산역 5호선 (223m)\n",
      "--------------------------------------------------\n"
     ]
    },
    {
     "name": "stderr",
     "output_type": "stream",
     "text": [
      " 25%|██████████                               | 113/461 [02:11<06:40,  1.15s/it]"
     ]
    },
    {
     "name": "stdout",
     "output_type": "stream",
     "text": [
      "114. 마곡수명산파크4단지 (서울 강서구 내발산동 753)\n",
      "  가장 가까운 역: 마곡역 5호선 (1005m)\n",
      "--------------------------------------------------\n"
     ]
    },
    {
     "name": "stderr",
     "output_type": "stream",
     "text": [
      " 25%|██████████▏                              | 114/461 [02:12<06:37,  1.14s/it]"
     ]
    },
    {
     "name": "stdout",
     "output_type": "stream",
     "text": [
      "115. 요산페어뷰 (서울 강서구 화곡동 377-21)\n",
      "  가장 가까운 역: 화곡역 5호선 (655m)\n",
      "--------------------------------------------------\n"
     ]
    },
    {
     "name": "stderr",
     "output_type": "stream",
     "text": [
      " 25%|██████████▏                              | 115/461 [02:13<06:36,  1.15s/it]"
     ]
    },
    {
     "name": "stdout",
     "output_type": "stream",
     "text": [
      "116. 강변한솔솔파크 (서울 강서구 염창동 300)\n",
      "  가장 가까운 역: 증미역 9호선 (546m)\n",
      "--------------------------------------------------\n"
     ]
    },
    {
     "name": "stderr",
     "output_type": "stream",
     "text": [
      " 25%|██████████▎                              | 116/461 [02:14<06:35,  1.15s/it]"
     ]
    },
    {
     "name": "stdout",
     "output_type": "stream",
     "text": [
      "117. 우장산힐스테이트 (서울 강서구 내발산동 657)\n",
      "  가장 가까운 역: 발산역 5호선 (285m)\n",
      "--------------------------------------------------\n"
     ]
    },
    {
     "name": "stderr",
     "output_type": "stream",
     "text": [
      " 25%|██████████▍                              | 117/461 [02:15<06:34,  1.15s/it]"
     ]
    },
    {
     "name": "stdout",
     "output_type": "stream",
     "text": [
      "118. 가양2단지(성지) (서울 강서구 가양동 1461)\n",
      "  가장 가까운 역: 양천향교역 9호선 (531m)\n",
      "--------------------------------------------------\n"
     ]
    },
    {
     "name": "stderr",
     "output_type": "stream",
     "text": [
      " 26%|██████████▍                              | 118/461 [02:17<06:32,  1.14s/it]"
     ]
    },
    {
     "name": "stdout",
     "output_type": "stream",
     "text": [
      "119. 마곡13단지힐스테이트마스터 (서울 강서구 마곡동 748)\n",
      "  가장 가까운 역: 마곡역 5호선 (627m)\n",
      "--------------------------------------------------\n"
     ]
    },
    {
     "name": "stderr",
     "output_type": "stream",
     "text": [
      " 26%|██████████▌                              | 119/461 [02:18<06:35,  1.16s/it]"
     ]
    },
    {
     "name": "stdout",
     "output_type": "stream",
     "text": [
      "120. 삼성한아름 (서울 강서구 염창동 264-27)\n",
      "  가장 가까운 역: 염창역 9호선 (447m)\n",
      "--------------------------------------------------\n"
     ]
    },
    {
     "name": "stderr",
     "output_type": "stream",
     "text": [
      " 26%|██████████▋                              | 120/461 [02:19<06:32,  1.15s/it]"
     ]
    },
    {
     "name": "stdout",
     "output_type": "stream",
     "text": [
      "121. 마곡중앙하이츠아파트 (서울 강서구 방화동 852)\n",
      "  가장 가까운 역: 개화산역 5호선 (303m)\n",
      "--------------------------------------------------\n"
     ]
    },
    {
     "name": "stderr",
     "output_type": "stream",
     "text": [
      " 26%|██████████▊                              | 121/461 [02:20<06:44,  1.19s/it]"
     ]
    },
    {
     "name": "stdout",
     "output_type": "stream",
     "text": [
      "122. 등촌7,8단지주공아파트 (서울 강서구 등촌동 707)\n",
      "  가장 가까운 역: 가양역 9호선 (251m)\n",
      "--------------------------------------------------\n"
     ]
    },
    {
     "name": "stderr",
     "output_type": "stream",
     "text": [
      " 26%|██████████▊                              | 122/461 [02:21<06:38,  1.18s/it]"
     ]
    },
    {
     "name": "stdout",
     "output_type": "stream",
     "text": [
      "123. 동아3 (서울 강서구 염창동 258-1)\n",
      "  가장 가까운 역: 염창역 9호선 (422m)\n",
      "--------------------------------------------------\n"
     ]
    },
    {
     "name": "stderr",
     "output_type": "stream",
     "text": [
      " 27%|██████████▉                              | 123/461 [02:23<06:33,  1.16s/it]"
     ]
    },
    {
     "name": "stdout",
     "output_type": "stream",
     "text": [
      "124. 마곡엠밸리8단지 (서울 강서구 마곡동 741)\n",
      "  가장 가까운 역: 신방화역 9호선 (444m)\n",
      "--------------------------------------------------\n"
     ]
    },
    {
     "name": "stderr",
     "output_type": "stream",
     "text": [
      " 27%|███████████                              | 124/461 [02:24<06:30,  1.16s/it]"
     ]
    },
    {
     "name": "stdout",
     "output_type": "stream",
     "text": [
      "125. 태영 (서울 강서구 등촌동 632-2)\n",
      "  가장 가까운 역: 증미역 9호선 (407m)\n",
      "--------------------------------------------------\n"
     ]
    },
    {
     "name": "stderr",
     "output_type": "stream",
     "text": [
      " 27%|███████████                              | 125/461 [02:25<06:28,  1.16s/it]"
     ]
    },
    {
     "name": "stdout",
     "output_type": "stream",
     "text": [
      "126. 남광아파트 (서울 강서구 화곡동 920-15)\n",
      "  가장 가까운 역: 까치산역 5호선 (494m)\n",
      "--------------------------------------------------\n"
     ]
    },
    {
     "name": "stderr",
     "output_type": "stream",
     "text": [
      " 27%|███████████▏                             | 126/461 [02:26<06:26,  1.15s/it]"
     ]
    },
    {
     "name": "stdout",
     "output_type": "stream",
     "text": [
      "127. 미주 (서울 강서구 화곡동 474-1)\n",
      "  가장 가까운 역: 까치산역 5호선 (972m)\n",
      "--------------------------------------------------\n"
     ]
    },
    {
     "name": "stderr",
     "output_type": "stream",
     "text": [
      " 28%|███████████▎                             | 127/461 [02:27<06:30,  1.17s/it]"
     ]
    },
    {
     "name": "stdout",
     "output_type": "stream",
     "text": [
      "128. 강서힐스테이트 (서울 강서구 화곡동 1165)\n",
      "  가장 가까운 역: 우장산역 5호선 (407m)\n",
      "--------------------------------------------------\n"
     ]
    },
    {
     "name": "stderr",
     "output_type": "stream",
     "text": [
      " 28%|███████████▍                             | 128/461 [02:28<06:29,  1.17s/it]"
     ]
    },
    {
     "name": "stdout",
     "output_type": "stream",
     "text": [
      "129. 주공3 (서울 강서구 등촌동 688)\n",
      "  가장 가까운 역: 발산역 5호선 (443m)\n",
      "--------------------------------------------------\n"
     ]
    },
    {
     "name": "stderr",
     "output_type": "stream",
     "text": [
      " 28%|███████████▍                             | 129/461 [02:29<06:26,  1.16s/it]"
     ]
    },
    {
     "name": "stdout",
     "output_type": "stream",
     "text": [
      "130. 우장산아이파크,이편한세상 (서울 강서구 화곡동 1159)\n",
      "  가장 가까운 역: 우장산역 5호선 (223m)\n",
      "--------------------------------------------------\n"
     ]
    },
    {
     "name": "stderr",
     "output_type": "stream",
     "text": [
      " 28%|███████████▌                             | 130/461 [02:31<06:24,  1.16s/it]"
     ]
    },
    {
     "name": "stdout",
     "output_type": "stream",
     "text": [
      "131. 강서센트레빌3차(894-0) (  방화동 894)\n",
      "  가장 가까운 역: 신방화역 9호선 (428m)\n",
      "--------------------------------------------------\n"
     ]
    },
    {
     "name": "stderr",
     "output_type": "stream",
     "text": [
      " 28%|███████████▋                             | 131/461 [02:32<06:21,  1.16s/it]"
     ]
    },
    {
     "name": "stdout",
     "output_type": "stream",
     "text": [
      "132. 주공10 (서울 강서구 등촌동 702)\n",
      "  가장 가까운 역: 가양역 9호선 (544m)\n",
      "--------------------------------------------------\n"
     ]
    },
    {
     "name": "stderr",
     "output_type": "stream",
     "text": [
      " 29%|███████████▋                             | 132/461 [02:33<06:19,  1.15s/it]"
     ]
    },
    {
     "name": "stdout",
     "output_type": "stream",
     "text": [
      "133. 롯데2 (서울 강서구 내발산동 729)\n",
      "  가장 가까운 역: 발산역 5호선 (628m)\n",
      "--------------------------------------------------\n"
     ]
    },
    {
     "name": "stderr",
     "output_type": "stream",
     "text": [
      " 29%|███████████▊                             | 133/461 [02:34<06:19,  1.16s/it]"
     ]
    },
    {
     "name": "stdout",
     "output_type": "stream",
     "text": [
      "134. 마곡중앙하이츠아파트 (서울 강서구 방화동 852)\n",
      "  가장 가까운 역: 개화산역 5호선 (303m)\n",
      "--------------------------------------------------\n"
     ]
    },
    {
     "name": "stderr",
     "output_type": "stream",
     "text": [
      " 29%|███████████▉                             | 134/461 [02:35<06:16,  1.15s/it]"
     ]
    },
    {
     "name": "stdout",
     "output_type": "stream",
     "text": [
      "135. 극동상록수 (서울 강서구 염창동 280)\n",
      "  가장 가까운 역: 염창역 9호선 (325m)\n",
      "--------------------------------------------------\n"
     ]
    },
    {
     "name": "stderr",
     "output_type": "stream",
     "text": [
      " 29%|████████████                             | 135/461 [02:36<06:14,  1.15s/it]"
     ]
    },
    {
     "name": "stdout",
     "output_type": "stream",
     "text": [
      "136. 동부센트레빌 (서울 강서구 방화동 870)\n",
      "  가장 가까운 역: 개화산역 5호선 (102m)\n",
      "--------------------------------------------------\n"
     ]
    },
    {
     "name": "stderr",
     "output_type": "stream",
     "text": [
      " 30%|████████████                             | 136/461 [02:38<06:12,  1.15s/it]"
     ]
    },
    {
     "name": "stdout",
     "output_type": "stream",
     "text": [
      "137. 극동 (서울 강서구 염창동 246-23)\n",
      "  가장 가까운 역: 등촌역 9호선 (557m)\n",
      "--------------------------------------------------\n"
     ]
    },
    {
     "name": "stderr",
     "output_type": "stream",
     "text": [
      " 30%|████████████▏                            | 137/461 [02:39<06:15,  1.16s/it]"
     ]
    },
    {
     "name": "stdout",
     "output_type": "stream",
     "text": [
      "138. 방화5 (서울 강서구 방화동 814)\n",
      "  가장 가까운 역: 방화역 5호선 (231m)\n",
      "--------------------------------------------------\n"
     ]
    },
    {
     "name": "stderr",
     "output_type": "stream",
     "text": [
      " 30%|████████████▎                            | 138/461 [02:40<06:12,  1.15s/it]"
     ]
    },
    {
     "name": "stdout",
     "output_type": "stream",
     "text": [
      "139. 주공3 (서울 강서구 등촌동 688)\n",
      "  가장 가까운 역: 발산역 5호선 (443m)\n",
      "--------------------------------------------------\n"
     ]
    },
    {
     "name": "stderr",
     "output_type": "stream",
     "text": [
      " 30%|████████████▎                            | 139/461 [02:41<06:09,  1.15s/it]"
     ]
    },
    {
     "name": "stdout",
     "output_type": "stream",
     "text": [
      "140. 마곡수명산파크3단지 (서울 강서구 내발산동 751)\n",
      "  가장 가까운 역: 마곡역 5호선 (822m)\n",
      "--------------------------------------------------\n"
     ]
    },
    {
     "name": "stderr",
     "output_type": "stream",
     "text": [
      " 30%|████████████▍                            | 140/461 [02:42<06:14,  1.17s/it]"
     ]
    },
    {
     "name": "stdout",
     "output_type": "stream",
     "text": [
      "141. 청솔 (서울 강서구 방화동 832)\n",
      "  가장 가까운 역: 방화역 5호선 (219m)\n",
      "--------------------------------------------------\n"
     ]
    },
    {
     "name": "stderr",
     "output_type": "stream",
     "text": [
      " 31%|████████████▌                            | 141/461 [02:43<06:11,  1.16s/it]"
     ]
    },
    {
     "name": "stdout",
     "output_type": "stream",
     "text": [
      "142. 방신서광 (서울 강서구 방화동 871)\n",
      "  가장 가까운 역: 개화산역 5호선 (346m)\n",
      "--------------------------------------------------\n"
     ]
    },
    {
     "name": "stderr",
     "output_type": "stream",
     "text": [
      " 31%|████████████▋                            | 142/461 [02:44<06:07,  1.15s/it]"
     ]
    },
    {
     "name": "stdout",
     "output_type": "stream",
     "text": [
      "143. 우장산아이파크,이편한세상 (서울 강서구 화곡동 1159)\n",
      "  가장 가까운 역: 우장산역 5호선 (223m)\n",
      "--------------------------------------------------\n"
     ]
    },
    {
     "name": "stderr",
     "output_type": "stream",
     "text": [
      " 31%|████████████▋                            | 143/461 [02:46<06:04,  1.15s/it]"
     ]
    },
    {
     "name": "stdout",
     "output_type": "stream",
     "text": [
      "144. 마곡힐스테이트 (서울 강서구 마곡동 725-1)\n",
      "  가장 가까운 역: 신방화역 9호선 (387m)\n",
      "--------------------------------------------------\n"
     ]
    },
    {
     "name": "stderr",
     "output_type": "stream",
     "text": [
      " 31%|████████████▊                            | 144/461 [02:47<06:04,  1.15s/it]"
     ]
    },
    {
     "name": "stdout",
     "output_type": "stream",
     "text": [
      "145. 현대 (서울 강서구 등촌동 655-27)\n",
      "  가장 가까운 역: 증미역 9호선 (531m)\n",
      "--------------------------------------------------\n"
     ]
    },
    {
     "name": "stderr",
     "output_type": "stream",
     "text": [
      " 31%|████████████▉                            | 145/461 [02:48<06:02,  1.15s/it]"
     ]
    },
    {
     "name": "stdout",
     "output_type": "stream",
     "text": [
      "146. 우장산아이파크,이편한세상 (서울 강서구 화곡동 1159)\n",
      "  가장 가까운 역: 우장산역 5호선 (223m)\n",
      "--------------------------------------------------\n"
     ]
    },
    {
     "name": "stderr",
     "output_type": "stream",
     "text": [
      " 32%|████████████▉                            | 146/461 [02:49<06:01,  1.15s/it]"
     ]
    },
    {
     "name": "stdout",
     "output_type": "stream",
     "text": [
      "147. 초록 (서울 강서구 화곡동 1139)\n",
      "  가장 가까운 역: 우장산역 5호선 (421m)\n",
      "--------------------------------------------------\n"
     ]
    },
    {
     "name": "stderr",
     "output_type": "stream",
     "text": [
      " 32%|█████████████                            | 147/461 [02:50<06:01,  1.15s/it]"
     ]
    },
    {
     "name": "stdout",
     "output_type": "stream",
     "text": [
      "148. 주공5 (  등촌동 695)\n",
      "  가장 가까운 역: 발산역 5호선 (660m)\n",
      "--------------------------------------------------\n"
     ]
    },
    {
     "name": "stderr",
     "output_type": "stream",
     "text": [
      " 32%|█████████████▏                           | 148/461 [02:51<05:58,  1.15s/it]"
     ]
    },
    {
     "name": "stdout",
     "output_type": "stream",
     "text": [
      "149. 강서한강월드메르디앙 (서울 강서구 가양동 1462)\n",
      "  가장 가까운 역: 양천향교역 9호선 (268m)\n",
      "--------------------------------------------------\n"
     ]
    },
    {
     "name": "stderr",
     "output_type": "stream",
     "text": [
      " 32%|█████████████▎                           | 149/461 [02:53<05:58,  1.15s/it]"
     ]
    },
    {
     "name": "stdout",
     "output_type": "stream",
     "text": [
      "150. 가양2단지(성지) (서울 강서구 가양동 1461)\n",
      "  가장 가까운 역: 양천향교역 9호선 (531m)\n",
      "--------------------------------------------------\n"
     ]
    },
    {
     "name": "stderr",
     "output_type": "stream",
     "text": [
      " 33%|█████████████▎                           | 150/461 [02:54<06:02,  1.16s/it]"
     ]
    },
    {
     "name": "stdout",
     "output_type": "stream",
     "text": [
      "151. 방화그린 (서울 강서구 방화동 839)\n",
      "  가장 가까운 역: 방화역 5호선 (626m)\n",
      "--------------------------------------------------\n"
     ]
    },
    {
     "name": "stderr",
     "output_type": "stream",
     "text": [
      " 33%|█████████████▍                           | 151/461 [02:55<05:58,  1.16s/it]"
     ]
    },
    {
     "name": "stdout",
     "output_type": "stream",
     "text": [
      "152. 가양2단지(성지) (서울 강서구 가양동 1461)\n",
      "  가장 가까운 역: 양천향교역 9호선 (531m)\n",
      "--------------------------------------------------\n"
     ]
    },
    {
     "name": "stderr",
     "output_type": "stream",
     "text": [
      " 33%|█████████████▌                           | 152/461 [02:56<05:58,  1.16s/it]"
     ]
    },
    {
     "name": "stdout",
     "output_type": "stream",
     "text": [
      "153. 극동상록수 (서울 강서구 염창동 280)\n",
      "  가장 가까운 역: 염창역 9호선 (325m)\n",
      "--------------------------------------------------\n"
     ]
    },
    {
     "name": "stderr",
     "output_type": "stream",
     "text": [
      " 33%|█████████████▌                           | 153/461 [02:57<05:53,  1.15s/it]"
     ]
    },
    {
     "name": "stdout",
     "output_type": "stream",
     "text": [
      "154. 드림시드아파트1차 (서울 강서구 화곡동 899-13)\n",
      "  가장 가까운 역: 까치산역 2호선 (161m)\n",
      "--------------------------------------------------\n"
     ]
    },
    {
     "name": "stderr",
     "output_type": "stream",
     "text": [
      " 33%|█████████████▋                           | 154/461 [02:58<05:52,  1.15s/it]"
     ]
    },
    {
     "name": "stdout",
     "output_type": "stream",
     "text": [
      "155. 신안 (서울 강서구 마곡동 422)\n",
      "  가장 가까운 역: 마곡나루역 9호선 (424m)\n",
      "--------------------------------------------------\n"
     ]
    },
    {
     "name": "stderr",
     "output_type": "stream",
     "text": [
      " 34%|█████████████▊                           | 155/461 [02:59<05:51,  1.15s/it]"
     ]
    },
    {
     "name": "stdout",
     "output_type": "stream",
     "text": [
      "156. 우장산롯데캐슬 (서울 강서구 화곡동 1145)\n",
      "  가장 가까운 역: 가양역 9호선 (839m)\n",
      "--------------------------------------------------\n"
     ]
    },
    {
     "name": "stderr",
     "output_type": "stream",
     "text": [
      " 34%|█████████████▊                           | 156/461 [03:01<05:51,  1.15s/it]"
     ]
    },
    {
     "name": "stdout",
     "output_type": "stream",
     "text": [
      "157. 동신대아 (서울 강서구 가양동 1459)\n",
      "  가장 가까운 역: 양천향교역 9호선 (470m)\n",
      "--------------------------------------------------\n"
     ]
    },
    {
     "name": "stderr",
     "output_type": "stream",
     "text": [
      " 34%|█████████████▉                           | 157/461 [03:02<05:48,  1.15s/it]"
     ]
    },
    {
     "name": "stdout",
     "output_type": "stream",
     "text": [
      "158. 마곡서광(치현마을) (서울 강서구 방화동 860)\n",
      "  가장 가까운 역: 방화역 5호선 (602m)\n",
      "--------------------------------------------------\n"
     ]
    },
    {
     "name": "stderr",
     "output_type": "stream",
     "text": [
      " 34%|██████████████                           | 158/461 [03:03<05:46,  1.14s/it]"
     ]
    },
    {
     "name": "stdout",
     "output_type": "stream",
     "text": [
      "159. 마곡현대아파트 (경기 김포시 마곡동 1171)\n",
      "  주소 → 좌표 변환 실패\n",
      "--------------------------------------------------\n"
     ]
    },
    {
     "name": "stderr",
     "output_type": "stream",
     "text": [
      " 34%|██████████████▏                          | 159/461 [03:04<05:38,  1.12s/it]"
     ]
    },
    {
     "name": "stdout",
     "output_type": "stream",
     "text": [
      "160. 롯데캐슬 (서울 강서구 염창동 272-11)\n",
      "  가장 가까운 역: 등촌역 9호선 (246m)\n",
      "--------------------------------------------------\n"
     ]
    },
    {
     "name": "stderr",
     "output_type": "stream",
     "text": [
      " 35%|██████████████▏                          | 160/461 [03:05<05:40,  1.13s/it]"
     ]
    },
    {
     "name": "stdout",
     "output_type": "stream",
     "text": [
      "161. 우장산힐스테이트 (서울 강서구 내발산동 657)\n",
      "  가장 가까운 역: 발산역 5호선 (285m)\n",
      "--------------------------------------------------\n"
     ]
    },
    {
     "name": "stderr",
     "output_type": "stream",
     "text": [
      " 35%|██████████████▎                          | 161/461 [03:06<05:40,  1.13s/it]"
     ]
    },
    {
     "name": "stdout",
     "output_type": "stream",
     "text": [
      "162. 롯데캐슬 (서울 강서구 염창동 272-11)\n",
      "  가장 가까운 역: 등촌역 9호선 (246m)\n",
      "--------------------------------------------------\n"
     ]
    },
    {
     "name": "stderr",
     "output_type": "stream",
     "text": [
      " 35%|██████████████▍                          | 162/461 [03:07<05:39,  1.14s/it]"
     ]
    },
    {
     "name": "stdout",
     "output_type": "stream",
     "text": [
      "163. 마곡수명산파크5단지 (서울 강서구 내발산동 749)\n",
      "  가장 가까운 역: 우장산역 5호선 (890m)\n",
      "--------------------------------------------------\n"
     ]
    },
    {
     "name": "stderr",
     "output_type": "stream",
     "text": [
      " 35%|██████████████▍                          | 163/461 [03:09<05:39,  1.14s/it]"
     ]
    },
    {
     "name": "stdout",
     "output_type": "stream",
     "text": [
      "164. 가양도시개발9-2단지 (서울 강서구 가양동 1490)\n",
      "  가장 가까운 역: 증미역 9호선 (264m)\n",
      "--------------------------------------------------\n"
     ]
    },
    {
     "name": "stderr",
     "output_type": "stream",
     "text": [
      " 36%|██████████████▌                          | 164/461 [03:10<05:37,  1.14s/it]"
     ]
    },
    {
     "name": "stdout",
     "output_type": "stream",
     "text": [
      "165. 우장산힐스테이트 (서울 강서구 내발산동 657)\n",
      "  가장 가까운 역: 발산역 5호선 (285m)\n",
      "--------------------------------------------------\n"
     ]
    },
    {
     "name": "stderr",
     "output_type": "stream",
     "text": [
      " 36%|██████████████▋                          | 165/461 [03:11<05:36,  1.14s/it]"
     ]
    },
    {
     "name": "stdout",
     "output_type": "stream",
     "text": [
      "166. 서부인터빌아파트 (서울 강서구 화곡동 1074-18)\n",
      "  가장 가까운 역: 화곡역 5호선 (116m)\n",
      "--------------------------------------------------\n"
     ]
    },
    {
     "name": "stderr",
     "output_type": "stream",
     "text": [
      " 36%|██████████████▊                          | 166/461 [03:12<05:35,  1.14s/it]"
     ]
    },
    {
     "name": "stdout",
     "output_type": "stream",
     "text": [
      "167. 이너스내안에 (서울 강서구 염창동 254-2)\n",
      "  가장 가까운 역: 염창역 9호선 (437m)\n",
      "--------------------------------------------------\n"
     ]
    },
    {
     "name": "stderr",
     "output_type": "stream",
     "text": [
      " 36%|██████████████▊                          | 167/461 [03:13<05:34,  1.14s/it]"
     ]
    },
    {
     "name": "stdout",
     "output_type": "stream",
     "text": [
      "168. 마곡엠밸리6단지 (서울 강서구 마곡동 743)\n",
      "  가장 가까운 역: 신방화역 9호선 (373m)\n",
      "--------------------------------------------------\n"
     ]
    },
    {
     "name": "stderr",
     "output_type": "stream",
     "text": [
      " 36%|██████████████▉                          | 168/461 [03:14<05:34,  1.14s/it]"
     ]
    },
    {
     "name": "stdout",
     "output_type": "stream",
     "text": [
      "169. 동아 (서울 강서구 염창동 292)\n",
      "  가장 가까운 역: 등촌역 9호선 (808m)\n",
      "--------------------------------------------------\n"
     ]
    },
    {
     "name": "stderr",
     "output_type": "stream",
     "text": [
      " 37%|███████████████                          | 169/461 [03:15<05:32,  1.14s/it]"
     ]
    },
    {
     "name": "stdout",
     "output_type": "stream",
     "text": [
      "170. 대림경동아파트 (서울 강서구 가양동 1474)\n",
      "  가장 가까운 역: 가양역 9호선 (546m)\n",
      "--------------------------------------------------\n"
     ]
    },
    {
     "name": "stderr",
     "output_type": "stream",
     "text": [
      " 37%|███████████████                          | 170/461 [03:16<05:31,  1.14s/it]"
     ]
    },
    {
     "name": "stdout",
     "output_type": "stream",
     "text": [
      "171. 마곡중앙하이츠아파트 (경기 고양시 덕양구 방화동 852)\n",
      "  주소 → 좌표 변환 실패\n",
      "--------------------------------------------------\n"
     ]
    },
    {
     "name": "stderr",
     "output_type": "stream",
     "text": [
      " 37%|███████████████▏                         | 171/461 [03:18<05:25,  1.12s/it]"
     ]
    },
    {
     "name": "stdout",
     "output_type": "stream",
     "text": [
      "172. NS파크APT (서울 강서구 화곡동 1076-9)\n",
      "  가장 가까운 역: 화곡역 5호선 (133m)\n",
      "--------------------------------------------------\n"
     ]
    },
    {
     "name": "stderr",
     "output_type": "stream",
     "text": [
      " 37%|███████████████▎                         | 172/461 [03:19<05:43,  1.19s/it]"
     ]
    },
    {
     "name": "stdout",
     "output_type": "stream",
     "text": [
      "173. 우장산힐스테이트 (서울 강서구 내발산동 657)\n",
      "  가장 가까운 역: 발산역 5호선 (285m)\n",
      "--------------------------------------------------\n"
     ]
    },
    {
     "name": "stderr",
     "output_type": "stream",
     "text": [
      " 38%|███████████████▍                         | 173/461 [03:20<05:41,  1.19s/it]"
     ]
    },
    {
     "name": "stdout",
     "output_type": "stream",
     "text": [
      "174. 주공10 (서울 강서구 등촌동 702)\n",
      "  가장 가까운 역: 가양역 9호선 (544m)\n",
      "--------------------------------------------------\n"
     ]
    },
    {
     "name": "stderr",
     "output_type": "stream",
     "text": [
      " 38%|███████████████▍                         | 174/461 [03:21<05:44,  1.20s/it]"
     ]
    },
    {
     "name": "stdout",
     "output_type": "stream",
     "text": [
      "175. 마곡엠밸리8단지 (서울 강서구 마곡동 741)\n",
      "  가장 가까운 역: 신방화역 9호선 (444m)\n",
      "--------------------------------------------------\n"
     ]
    },
    {
     "name": "stderr",
     "output_type": "stream",
     "text": [
      " 38%|███████████████▌                         | 175/461 [03:23<05:54,  1.24s/it]"
     ]
    },
    {
     "name": "stdout",
     "output_type": "stream",
     "text": [
      "176. 강서월드메르디앙 (서울 강서구 내발산동 659-1)\n",
      "  가장 가까운 역: 발산역 5호선 (507m)\n",
      "--------------------------------------------------\n"
     ]
    },
    {
     "name": "stderr",
     "output_type": "stream",
     "text": [
      " 38%|███████████████▋                         | 176/461 [03:24<05:52,  1.24s/it]"
     ]
    },
    {
     "name": "stdout",
     "output_type": "stream",
     "text": [
      "177. 등촌7,8단지주공아파트 (서울 강서구 등촌동 707)\n",
      "  가장 가까운 역: 가양역 9호선 (251m)\n",
      "--------------------------------------------------\n"
     ]
    },
    {
     "name": "stderr",
     "output_type": "stream",
     "text": [
      " 38%|███████████████▋                         | 177/461 [03:25<05:50,  1.23s/it]"
     ]
    },
    {
     "name": "stdout",
     "output_type": "stream",
     "text": [
      "178. 한숲마을대림 (서울 강서구 방화동 862)\n",
      "  가장 가까운 역: 방화역 5호선 (416m)\n",
      "--------------------------------------------------\n"
     ]
    },
    {
     "name": "stderr",
     "output_type": "stream",
     "text": [
      " 39%|███████████████▊                         | 178/461 [03:26<05:45,  1.22s/it]"
     ]
    },
    {
     "name": "stdout",
     "output_type": "stream",
     "text": [
      "179. 마곡수명산파크4단지 (서울 강서구 내발산동 753)\n",
      "  가장 가까운 역: 마곡역 5호선 (1005m)\n",
      "--------------------------------------------------\n"
     ]
    },
    {
     "name": "stderr",
     "output_type": "stream",
     "text": [
      " 39%|███████████████▉                         | 179/461 [03:28<05:42,  1.21s/it]"
     ]
    },
    {
     "name": "stdout",
     "output_type": "stream",
     "text": [
      "180. 태청 (서울 강서구 방화동 319-9)\n",
      "  가장 가까운 역: 방화역 5호선 (318m)\n",
      "--------------------------------------------------\n"
     ]
    },
    {
     "name": "stderr",
     "output_type": "stream",
     "text": [
      " 39%|████████████████                         | 180/461 [03:29<05:38,  1.21s/it]"
     ]
    },
    {
     "name": "stdout",
     "output_type": "stream",
     "text": [
      "181. 등촌동아이파크 (서울 강서구 등촌동 715)\n",
      "  가장 가까운 역: 등촌역 9호선 (904m)\n",
      "--------------------------------------------------\n"
     ]
    },
    {
     "name": "stderr",
     "output_type": "stream",
     "text": [
      " 39%|████████████████                         | 181/461 [03:30<05:38,  1.21s/it]"
     ]
    },
    {
     "name": "stdout",
     "output_type": "stream",
     "text": [
      "182. 강서한강자이 (서울 강서구 가양동 1500)\n",
      "  가장 가까운 역: 양천향교역 9호선 (657m)\n",
      "--------------------------------------------------\n"
     ]
    },
    {
     "name": "stderr",
     "output_type": "stream",
     "text": [
      " 39%|████████████████▏                        | 182/461 [03:31<05:38,  1.21s/it]"
     ]
    },
    {
     "name": "stdout",
     "output_type": "stream",
     "text": [
      "183. 마곡중앙하이츠아파트 (서울 강서구 방화동 852)\n",
      "  가장 가까운 역: 개화산역 5호선 (303m)\n",
      "--------------------------------------------------\n"
     ]
    },
    {
     "name": "stderr",
     "output_type": "stream",
     "text": [
      " 40%|████████████████▎                        | 183/461 [03:32<05:37,  1.21s/it]"
     ]
    },
    {
     "name": "stdout",
     "output_type": "stream",
     "text": [
      "184. 주공10 (서울 강서구 등촌동 702)\n",
      "  가장 가까운 역: 가양역 9호선 (544m)\n",
      "--------------------------------------------------\n"
     ]
    },
    {
     "name": "stderr",
     "output_type": "stream",
     "text": [
      " 40%|████████████████▎                        | 184/461 [03:33<05:29,  1.19s/it]"
     ]
    },
    {
     "name": "stdout",
     "output_type": "stream",
     "text": [
      "185. 가양6단지 (서울 강서구 가양동 1485)\n",
      "  가장 가까운 역: 가양역 9호선 (474m)\n",
      "--------------------------------------------------\n"
     ]
    },
    {
     "name": "stderr",
     "output_type": "stream",
     "text": [
      " 40%|████████████████▍                        | 185/461 [03:35<05:24,  1.17s/it]"
     ]
    },
    {
     "name": "stdout",
     "output_type": "stream",
     "text": [
      "186. 가양도시개발9-2단지 (서울 강서구 가양동 1490)\n",
      "  가장 가까운 역: 증미역 9호선 (264m)\n",
      "--------------------------------------------------\n"
     ]
    },
    {
     "name": "stderr",
     "output_type": "stream",
     "text": [
      " 40%|████████████████▌                        | 186/461 [03:36<05:18,  1.16s/it]"
     ]
    },
    {
     "name": "stdout",
     "output_type": "stream",
     "text": [
      "187. 방화그린 (서울 강서구 방화동 839)\n",
      "  가장 가까운 역: 방화역 5호선 (626m)\n",
      "--------------------------------------------------\n"
     ]
    },
    {
     "name": "stderr",
     "output_type": "stream",
     "text": [
      " 41%|████████████████▋                        | 187/461 [03:37<05:16,  1.16s/it]"
     ]
    },
    {
     "name": "stdout",
     "output_type": "stream",
     "text": [
      "188. 한강타운 (서울 강서구 가양동 1460)\n",
      "  가장 가까운 역: 양천향교역 9호선 (453m)\n",
      "--------------------------------------------------\n"
     ]
    },
    {
     "name": "stderr",
     "output_type": "stream",
     "text": [
      " 41%|████████████████▋                        | 188/461 [03:38<05:15,  1.15s/it]"
     ]
    },
    {
     "name": "stdout",
     "output_type": "stream",
     "text": [
      "189. 태영 (서울 강서구 염창동 270-1)\n",
      "  가장 가까운 역: 등촌역 9호선 (327m)\n",
      "--------------------------------------------------\n"
     ]
    },
    {
     "name": "stderr",
     "output_type": "stream",
     "text": [
      " 41%|████████████████▊                        | 189/461 [03:39<05:13,  1.15s/it]"
     ]
    },
    {
     "name": "stdout",
     "output_type": "stream",
     "text": [
      "190. 마곡수명산파크7단지 (서울 강서구 내발산동 756)\n",
      "  가장 가까운 역: 우장산역 5호선 (1205m)\n",
      "--------------------------------------------------\n"
     ]
    },
    {
     "name": "stderr",
     "output_type": "stream",
     "text": [
      " 41%|████████████████▉                        | 190/461 [03:40<05:11,  1.15s/it]"
     ]
    },
    {
     "name": "stdout",
     "output_type": "stream",
     "text": [
      "191. 대림e편한세상 (서울 강서구 화곡동 361-1)\n",
      "  가장 가까운 역: 까치산역 5호선 (818m)\n",
      "--------------------------------------------------\n"
     ]
    },
    {
     "name": "stderr",
     "output_type": "stream",
     "text": [
      " 41%|████████████████▉                        | 191/461 [03:41<05:11,  1.15s/it]"
     ]
    },
    {
     "name": "stdout",
     "output_type": "stream",
     "text": [
      "192. e편한세상염창 (서울 강서구 염창동 309)\n",
      "  가장 가까운 역: 염창역 9호선 (422m)\n",
      "--------------------------------------------------\n"
     ]
    },
    {
     "name": "stderr",
     "output_type": "stream",
     "text": [
      " 42%|█████████████████                        | 192/461 [03:43<05:10,  1.15s/it]"
     ]
    },
    {
     "name": "stdout",
     "output_type": "stream",
     "text": [
      "193. 마곡중앙하이츠아파트 (서울 강서구 방화동 852)\n",
      "  가장 가까운 역: 개화산역 5호선 (303m)\n",
      "--------------------------------------------------\n"
     ]
    },
    {
     "name": "stderr",
     "output_type": "stream",
     "text": [
      " 42%|█████████████████▏                       | 193/461 [03:44<05:07,  1.15s/it]"
     ]
    },
    {
     "name": "stdout",
     "output_type": "stream",
     "text": [
      "194. 태진아름 (서울 강서구 등촌동 676)\n",
      "  가장 가까운 역: 등촌역 9호선 (473m)\n",
      "--------------------------------------------------\n"
     ]
    },
    {
     "name": "stderr",
     "output_type": "stream",
     "text": [
      " 42%|█████████████████▎                       | 194/461 [03:45<05:05,  1.14s/it]"
     ]
    },
    {
     "name": "stdout",
     "output_type": "stream",
     "text": [
      "195. 마곡수명산파크3단지 (  내발산동 751)\n",
      "  가장 가까운 역: 마곡역 5호선 (822m)\n",
      "--------------------------------------------------\n"
     ]
    },
    {
     "name": "stderr",
     "output_type": "stream",
     "text": [
      " 42%|█████████████████▎                       | 195/461 [03:46<05:05,  1.15s/it]"
     ]
    },
    {
     "name": "stdout",
     "output_type": "stream",
     "text": [
      "196. 가양도시개발9-2단지 (서울 강서구 가양동 1490)\n",
      "  가장 가까운 역: 증미역 9호선 (264m)\n",
      "--------------------------------------------------\n"
     ]
    },
    {
     "name": "stderr",
     "output_type": "stream",
     "text": [
      " 43%|█████████████████▍                       | 196/461 [03:47<05:04,  1.15s/it]"
     ]
    },
    {
     "name": "stdout",
     "output_type": "stream",
     "text": [
      "197. 동아3 (서울 강서구 염창동 258-1)\n",
      "  가장 가까운 역: 염창역 9호선 (422m)\n",
      "--------------------------------------------------\n"
     ]
    },
    {
     "name": "stderr",
     "output_type": "stream",
     "text": [
      " 43%|█████████████████▌                       | 197/461 [03:48<05:02,  1.15s/it]"
     ]
    },
    {
     "name": "stdout",
     "output_type": "stream",
     "text": [
      "198. 우장산아이파크,이편한세상 (서울 강서구 화곡동 1159)\n",
      "  가장 가까운 역: 우장산역 5호선 (223m)\n",
      "--------------------------------------------------\n"
     ]
    },
    {
     "name": "stderr",
     "output_type": "stream",
     "text": [
      " 43%|█████████████████▌                       | 198/461 [03:50<05:00,  1.14s/it]"
     ]
    },
    {
     "name": "stdout",
     "output_type": "stream",
     "text": [
      "199. 강변 (서울 강서구 가양동 1475)\n",
      "  가장 가까운 역: 가양역 9호선 (433m)\n",
      "--------------------------------------------------\n"
     ]
    },
    {
     "name": "stderr",
     "output_type": "stream",
     "text": [
      " 43%|█████████████████▋                       | 199/461 [03:51<04:59,  1.14s/it]"
     ]
    },
    {
     "name": "stdout",
     "output_type": "stream",
     "text": [
      "200. 이너스내안에 (서울 강서구 염창동 254-2)\n",
      "  가장 가까운 역: 염창역 9호선 (437m)\n",
      "--------------------------------------------------\n"
     ]
    },
    {
     "name": "stderr",
     "output_type": "stream",
     "text": [
      " 43%|█████████████████▊                       | 200/461 [03:52<04:58,  1.14s/it]"
     ]
    },
    {
     "name": "stdout",
     "output_type": "stream",
     "text": [
      "201. 마곡금호어울림 (서울 강서구 마곡동 717)\n",
      "  가장 가까운 역: 양천향교역 9호선 (819m)\n",
      "--------------------------------------------------\n"
     ]
    },
    {
     "name": "stderr",
     "output_type": "stream",
     "text": [
      " 44%|█████████████████▉                       | 201/461 [03:53<04:57,  1.14s/it]"
     ]
    },
    {
     "name": "stdout",
     "output_type": "stream",
     "text": [
      "202. 이너스내안에 (서울 강서구 염창동 254-2)\n",
      "  가장 가까운 역: 염창역 9호선 (437m)\n",
      "--------------------------------------------------\n"
     ]
    },
    {
     "name": "stderr",
     "output_type": "stream",
     "text": [
      " 44%|█████████████████▉                       | 202/461 [03:54<04:56,  1.14s/it]"
     ]
    },
    {
     "name": "stdout",
     "output_type": "stream",
     "text": [
      "203. 강서힐스테이트 (서울 강서구 화곡동 1165)\n",
      "  가장 가까운 역: 우장산역 5호선 (407m)\n",
      "--------------------------------------------------\n"
     ]
    },
    {
     "name": "stderr",
     "output_type": "stream",
     "text": [
      " 44%|██████████████████                       | 203/461 [03:55<04:54,  1.14s/it]"
     ]
    },
    {
     "name": "stdout",
     "output_type": "stream",
     "text": [
      "204. 우장산숲아이파크 (서울 강서구 화곡동 1173)\n",
      "  가장 가까운 역: 화곡역 5호선 (380m)\n",
      "--------------------------------------------------\n"
     ]
    },
    {
     "name": "stderr",
     "output_type": "stream",
     "text": [
      " 44%|██████████████████▏                      | 204/461 [03:56<04:54,  1.15s/it]"
     ]
    },
    {
     "name": "stdout",
     "output_type": "stream",
     "text": [
      "205. 가양6단지 (서울 강서구 가양동 1485)\n",
      "  가장 가까운 역: 가양역 9호선 (474m)\n",
      "--------------------------------------------------\n"
     ]
    },
    {
     "name": "stderr",
     "output_type": "stream",
     "text": [
      " 44%|██████████████████▏                      | 205/461 [03:58<04:52,  1.14s/it]"
     ]
    },
    {
     "name": "stdout",
     "output_type": "stream",
     "text": [
      "206. 극동 (서울 강서구 염창동 246-23)\n",
      "  가장 가까운 역: 등촌역 9호선 (557m)\n",
      "--------------------------------------------------\n"
     ]
    },
    {
     "name": "stderr",
     "output_type": "stream",
     "text": [
      " 45%|██████████████████▎                      | 206/461 [03:59<04:52,  1.15s/it]"
     ]
    },
    {
     "name": "stdout",
     "output_type": "stream",
     "text": [
      "207. 위하우스아파트 (서울 강서구 화곡동 916-2)\n",
      "  가장 가까운 역: 까치산역 2호선 (360m)\n",
      "--------------------------------------------------\n"
     ]
    },
    {
     "name": "stderr",
     "output_type": "stream",
     "text": [
      " 45%|██████████████████▍                      | 207/461 [04:00<04:50,  1.14s/it]"
     ]
    },
    {
     "name": "stdout",
     "output_type": "stream",
     "text": [
      "208. 강서힐스테이트 (서울 강서구 화곡동 1165)\n",
      "  가장 가까운 역: 우장산역 5호선 (407m)\n",
      "--------------------------------------------------\n"
     ]
    },
    {
     "name": "stderr",
     "output_type": "stream",
     "text": [
      " 45%|██████████████████▍                      | 208/461 [04:01<04:49,  1.14s/it]"
     ]
    },
    {
     "name": "stdout",
     "output_type": "stream",
     "text": [
      "209. 강서힐스테이트 (서울 강서구 화곡동 1165)\n",
      "  가장 가까운 역: 우장산역 5호선 (407m)\n",
      "--------------------------------------------------\n"
     ]
    },
    {
     "name": "stderr",
     "output_type": "stream",
     "text": [
      " 45%|██████████████████▌                      | 209/461 [04:02<04:49,  1.15s/it]"
     ]
    },
    {
     "name": "stdout",
     "output_type": "stream",
     "text": [
      "210. 등촌라인(조합) (서울 강남구 등촌동 628-15)\n",
      "  주소 → 좌표 변환 실패\n",
      "--------------------------------------------------\n"
     ]
    },
    {
     "name": "stderr",
     "output_type": "stream",
     "text": [
      " 46%|██████████████████▋                      | 210/461 [04:03<04:45,  1.14s/it]"
     ]
    },
    {
     "name": "stdout",
     "output_type": "stream",
     "text": [
      "211. 마곡현대아파트 (경기 김포시 마곡동 1171)\n",
      "  주소 → 좌표 변환 실패\n",
      "--------------------------------------------------\n"
     ]
    },
    {
     "name": "stderr",
     "output_type": "stream",
     "text": [
      " 46%|██████████████████▊                      | 211/461 [04:04<04:38,  1.12s/it]"
     ]
    },
    {
     "name": "stdout",
     "output_type": "stream",
     "text": [
      "212. 마곡청구아파트 (서울 강서구 마곡동 1181)\n",
      "  가장 가까운 역: 신방화역 9호선 (710m)\n",
      "--------------------------------------------------\n"
     ]
    },
    {
     "name": "stderr",
     "output_type": "stream",
     "text": [
      " 46%|██████████████████▊                      | 212/461 [04:06<04:47,  1.16s/it]"
     ]
    },
    {
     "name": "stdout",
     "output_type": "stream",
     "text": [
      "213. 강서쌍용예가 (서울 강서구 염창동 308)\n",
      "  가장 가까운 역: 등촌역 9호선 (525m)\n",
      "--------------------------------------------------\n"
     ]
    },
    {
     "name": "stderr",
     "output_type": "stream",
     "text": [
      " 46%|██████████████████▉                      | 213/461 [04:07<04:54,  1.19s/it]"
     ]
    },
    {
     "name": "stdout",
     "output_type": "stream",
     "text": [
      "214. 가양2단지(성지) (서울 강서구 가양동 1461)\n",
      "  가장 가까운 역: 양천향교역 9호선 (531m)\n",
      "--------------------------------------------------\n"
     ]
    },
    {
     "name": "stderr",
     "output_type": "stream",
     "text": [
      " 46%|███████████████████                      | 214/461 [04:08<04:49,  1.17s/it]"
     ]
    },
    {
     "name": "stdout",
     "output_type": "stream",
     "text": [
      "215. 강서한강자이 (서울 강서구 가양동 1500)\n",
      "  가장 가까운 역: 양천향교역 9호선 (657m)\n",
      "--------------------------------------------------\n"
     ]
    },
    {
     "name": "stderr",
     "output_type": "stream",
     "text": [
      " 47%|███████████████████                      | 215/461 [04:09<04:46,  1.16s/it]"
     ]
    },
    {
     "name": "stdout",
     "output_type": "stream",
     "text": [
      "216. 한강타운 (서울 강서구 가양동 1460)\n",
      "  가장 가까운 역: 양천향교역 9호선 (453m)\n",
      "--------------------------------------------------\n"
     ]
    },
    {
     "name": "stderr",
     "output_type": "stream",
     "text": [
      " 47%|███████████████████▏                     | 216/461 [04:10<04:43,  1.16s/it]"
     ]
    },
    {
     "name": "stdout",
     "output_type": "stream",
     "text": [
      "217. 주공10 (서울 강서구 등촌동 702)\n",
      "  가장 가까운 역: 가양역 9호선 (544m)\n",
      "--------------------------------------------------\n"
     ]
    },
    {
     "name": "stderr",
     "output_type": "stream",
     "text": [
      " 47%|███████████████████▎                     | 217/461 [04:11<04:41,  1.15s/it]"
     ]
    },
    {
     "name": "stdout",
     "output_type": "stream",
     "text": [
      "218. 마곡힐스테이트 (서울 강서구 마곡동 725-1)\n",
      "  가장 가까운 역: 신방화역 9호선 (387m)\n",
      "--------------------------------------------------\n"
     ]
    },
    {
     "name": "stderr",
     "output_type": "stream",
     "text": [
      " 47%|███████████████████▍                     | 218/461 [04:13<04:42,  1.16s/it]"
     ]
    },
    {
     "name": "stdout",
     "output_type": "stream",
     "text": [
      "219. 부영 (서울 강서구 등촌동 691-3)\n",
      "  가장 가까운 역: 양천향교역 9호선 (523m)\n",
      "--------------------------------------------------\n"
     ]
    },
    {
     "name": "stderr",
     "output_type": "stream",
     "text": [
      " 48%|███████████████████▍                     | 219/461 [04:14<04:42,  1.17s/it]"
     ]
    },
    {
     "name": "stdout",
     "output_type": "stream",
     "text": [
      "220. 마곡서광(치현마을) (서울 강서구 방화동 860)\n",
      "  가장 가까운 역: 방화역 5호선 (602m)\n",
      "--------------------------------------------------\n"
     ]
    },
    {
     "name": "stderr",
     "output_type": "stream",
     "text": [
      " 48%|███████████████████▌                     | 220/461 [04:15<04:40,  1.16s/it]"
     ]
    },
    {
     "name": "stdout",
     "output_type": "stream",
     "text": [
      "221. 마곡엠밸리4단지 (서울 강서구 마곡동 738)\n",
      "  가장 가까운 역: 마곡나루역 9호선 (412m)\n",
      "--------------------------------------------------\n"
     ]
    },
    {
     "name": "stderr",
     "output_type": "stream",
     "text": [
      " 48%|███████████████████▋                     | 221/461 [04:16<04:39,  1.16s/it]"
     ]
    },
    {
     "name": "stdout",
     "output_type": "stream",
     "text": [
      "222. 대림e-편한세상 (서울 강서구 방화동 874)\n",
      "  가장 가까운 역: 개화산역 5호선 (296m)\n",
      "--------------------------------------------------\n"
     ]
    },
    {
     "name": "stderr",
     "output_type": "stream",
     "text": [
      " 48%|███████████████████▋                     | 222/461 [04:17<04:37,  1.16s/it]"
     ]
    },
    {
     "name": "stdout",
     "output_type": "stream",
     "text": [
      "223. 성원 (서울 강서구 염창동 295)\n",
      "  가장 가까운 역: 등촌역 9호선 (788m)\n",
      "--------------------------------------------------\n"
     ]
    },
    {
     "name": "stderr",
     "output_type": "stream",
     "text": [
      " 48%|███████████████████▊                     | 223/461 [04:18<04:36,  1.16s/it]"
     ]
    },
    {
     "name": "stdout",
     "output_type": "stream",
     "text": [
      "224. 주공5 (  등촌동 695)\n",
      "  가장 가까운 역: 발산역 5호선 (660m)\n",
      "--------------------------------------------------\n"
     ]
    },
    {
     "name": "stderr",
     "output_type": "stream",
     "text": [
      " 49%|███████████████████▉                     | 224/461 [04:20<04:34,  1.16s/it]"
     ]
    },
    {
     "name": "stdout",
     "output_type": "stream",
     "text": [
      "225. 가양6단지 (서울 강서구 가양동 1485)\n",
      "  가장 가까운 역: 가양역 9호선 (474m)\n",
      "--------------------------------------------------\n"
     ]
    },
    {
     "name": "stderr",
     "output_type": "stream",
     "text": [
      " 49%|████████████████████                     | 225/461 [04:21<04:34,  1.17s/it]"
     ]
    },
    {
     "name": "stdout",
     "output_type": "stream",
     "text": [
      "226. 우장산롯데캐슬 (서울 강서구 화곡동 1145)\n",
      "  가장 가까운 역: 가양역 9호선 (839m)\n",
      "--------------------------------------------------\n"
     ]
    },
    {
     "name": "stderr",
     "output_type": "stream",
     "text": [
      " 49%|████████████████████                     | 226/461 [04:22<04:32,  1.16s/it]"
     ]
    },
    {
     "name": "stdout",
     "output_type": "stream",
     "text": [
      "227. 성원 (서울 강서구 염창동 295)\n",
      "  가장 가까운 역: 등촌역 9호선 (788m)\n",
      "--------------------------------------------------\n"
     ]
    },
    {
     "name": "stderr",
     "output_type": "stream",
     "text": [
      " 49%|████████████████████▏                    | 227/461 [04:23<04:30,  1.16s/it]"
     ]
    },
    {
     "name": "stdout",
     "output_type": "stream",
     "text": [
      "228. 강서힐스테이트 (서울 강서구 화곡동 1165)\n",
      "  가장 가까운 역: 우장산역 5호선 (407m)\n",
      "--------------------------------------------------\n"
     ]
    },
    {
     "name": "stderr",
     "output_type": "stream",
     "text": [
      " 49%|████████████████████▎                    | 228/461 [04:24<04:28,  1.15s/it]"
     ]
    },
    {
     "name": "stdout",
     "output_type": "stream",
     "text": [
      "229. 화곡푸르지오 (서울 강서구 화곡동 1091)\n",
      "  가장 가까운 역: 우장산역 5호선 (634m)\n",
      "--------------------------------------------------\n"
     ]
    },
    {
     "name": "stderr",
     "output_type": "stream",
     "text": [
      " 50%|████████████████████▎                    | 229/461 [04:25<04:29,  1.16s/it]"
     ]
    },
    {
     "name": "stdout",
     "output_type": "stream",
     "text": [
      "230. 강서힐스테이트 (경기 안양시 만안구 화곡동 1165)\n",
      "  주소 → 좌표 변환 실패\n",
      "--------------------------------------------------\n"
     ]
    },
    {
     "name": "stderr",
     "output_type": "stream",
     "text": [
      " 50%|████████████████████▍                    | 230/461 [04:26<04:21,  1.13s/it]"
     ]
    },
    {
     "name": "stdout",
     "output_type": "stream",
     "text": [
      "231. 마곡청구아파트 (서울 강서구 마곡동 1181)\n",
      "  가장 가까운 역: 신방화역 9호선 (710m)\n",
      "--------------------------------------------------\n"
     ]
    },
    {
     "name": "stderr",
     "output_type": "stream",
     "text": [
      " 50%|████████████████████▌                    | 231/461 [04:28<04:21,  1.14s/it]"
     ]
    },
    {
     "name": "stdout",
     "output_type": "stream",
     "text": [
      "232. 우장산힐스테이트 (서울 강서구 내발산동 657)\n",
      "  가장 가까운 역: 발산역 5호선 (285m)\n",
      "--------------------------------------------------\n"
     ]
    },
    {
     "name": "stderr",
     "output_type": "stream",
     "text": [
      " 50%|████████████████████▋                    | 232/461 [04:29<04:21,  1.14s/it]"
     ]
    },
    {
     "name": "stdout",
     "output_type": "stream",
     "text": [
      "233. 강서한강자이 (서울 강서구 가양동 1500)\n",
      "  가장 가까운 역: 양천향교역 9호선 (657m)\n",
      "--------------------------------------------------\n"
     ]
    },
    {
     "name": "stderr",
     "output_type": "stream",
     "text": [
      " 51%|████████████████████▋                    | 233/461 [04:30<04:20,  1.14s/it]"
     ]
    },
    {
     "name": "stdout",
     "output_type": "stream",
     "text": [
      "234. 한미(286-1) (서울 강서구 방화동 286-1)\n",
      "  가장 가까운 역: 방화역 5호선 (466m)\n",
      "--------------------------------------------------\n"
     ]
    },
    {
     "name": "stderr",
     "output_type": "stream",
     "text": [
      " 51%|████████████████████▊                    | 234/461 [04:31<04:19,  1.15s/it]"
     ]
    },
    {
     "name": "stdout",
     "output_type": "stream",
     "text": [
      "235. 우장산아이파크,이편한세상 (서울 강서구 화곡동 1159)\n",
      "  가장 가까운 역: 우장산역 5호선 (223m)\n",
      "--------------------------------------------------\n"
     ]
    },
    {
     "name": "stderr",
     "output_type": "stream",
     "text": [
      " 51%|████████████████████▉                    | 235/461 [04:32<04:18,  1.14s/it]"
     ]
    },
    {
     "name": "stdout",
     "output_type": "stream",
     "text": [
      "236. 화곡한강 (서울 강서구 화곡동 1059-19)\n",
      "  가장 가까운 역: 화곡역 5호선 (408m)\n",
      "--------------------------------------------------\n"
     ]
    },
    {
     "name": "stderr",
     "output_type": "stream",
     "text": [
      " 51%|████████████████████▉                    | 236/461 [04:33<04:17,  1.15s/it]"
     ]
    },
    {
     "name": "stdout",
     "output_type": "stream",
     "text": [
      "237. 유원펠리체(924-17) (서울 강서구 화곡동 924-17)\n",
      "  가장 가까운 역: 까치산역 2호선 (534m)\n",
      "--------------------------------------------------\n"
     ]
    },
    {
     "name": "stderr",
     "output_type": "stream",
     "text": [
      " 51%|█████████████████████                    | 237/461 [04:34<04:16,  1.14s/it]"
     ]
    },
    {
     "name": "stdout",
     "output_type": "stream",
     "text": [
      "238. 강서월드메르디앙 (서울 강서구 내발산동 659-1)\n",
      "  가장 가까운 역: 발산역 5호선 (507m)\n",
      "--------------------------------------------------\n"
     ]
    },
    {
     "name": "stderr",
     "output_type": "stream",
     "text": [
      " 52%|█████████████████████▏                   | 238/461 [04:36<04:14,  1.14s/it]"
     ]
    },
    {
     "name": "stdout",
     "output_type": "stream",
     "text": [
      "239. 강변힐스테이트 (서울 강서구 염창동 299)\n",
      "  가장 가까운 역: 염창역 9호선 (474m)\n",
      "--------------------------------------------------\n"
     ]
    },
    {
     "name": "stderr",
     "output_type": "stream",
     "text": [
      " 52%|█████████████████████▎                   | 239/461 [04:37<04:13,  1.14s/it]"
     ]
    },
    {
     "name": "stdout",
     "output_type": "stream",
     "text": [
      "240. 등촌1,2단지주공아파트 (서울 강서구 등촌동 687)\n",
      "  가장 가까운 역: 양천향교역 9호선 (347m)\n",
      "--------------------------------------------------\n"
     ]
    },
    {
     "name": "stderr",
     "output_type": "stream",
     "text": [
      " 52%|█████████████████████▎                   | 240/461 [04:38<04:13,  1.14s/it]"
     ]
    },
    {
     "name": "stdout",
     "output_type": "stream",
     "text": [
      "241. 화곡푸르지오 (서울 양천구 화곡동 1091)\n",
      "  주소 → 좌표 변환 실패\n",
      "--------------------------------------------------\n"
     ]
    },
    {
     "name": "stderr",
     "output_type": "stream",
     "text": [
      " 52%|█████████████████████▍                   | 241/461 [04:39<04:06,  1.12s/it]"
     ]
    },
    {
     "name": "stdout",
     "output_type": "stream",
     "text": [
      "242. 한강동아 (서울 강서구 염창동 293)\n",
      "  가장 가까운 역: 염창역 9호선 (778m)\n",
      "--------------------------------------------------\n"
     ]
    },
    {
     "name": "stderr",
     "output_type": "stream",
     "text": [
      " 52%|█████████████████████▌                   | 242/461 [04:40<04:07,  1.13s/it]"
     ]
    },
    {
     "name": "stdout",
     "output_type": "stream",
     "text": [
      "243. 강서힐스테이트 (서울 강서구 화곡동 1165)\n",
      "  가장 가까운 역: 우장산역 5호선 (407m)\n",
      "--------------------------------------------------\n"
     ]
    },
    {
     "name": "stderr",
     "output_type": "stream",
     "text": [
      " 53%|█████████████████████▌                   | 243/461 [04:41<04:07,  1.14s/it]"
     ]
    },
    {
     "name": "stdout",
     "output_type": "stream",
     "text": [
      "244. 탑건진선미 (서울 강서구 화곡동 1155)\n",
      "  가장 가까운 역: 까치산역 5호선 (446m)\n",
      "--------------------------------------------------\n"
     ]
    },
    {
     "name": "stderr",
     "output_type": "stream",
     "text": [
      " 53%|█████████████████████▋                   | 244/461 [04:42<04:07,  1.14s/it]"
     ]
    },
    {
     "name": "stdout",
     "output_type": "stream",
     "text": [
      "245. 계명위너스 (서울 영등포구 등촌동 646-29)\n",
      "  주소 → 좌표 변환 실패\n",
      "--------------------------------------------------\n"
     ]
    },
    {
     "name": "stderr",
     "output_type": "stream",
     "text": [
      " 53%|█████████████████████▊                   | 245/461 [04:43<04:01,  1.12s/it]"
     ]
    },
    {
     "name": "stdout",
     "output_type": "stream",
     "text": [
      "246. 개화 (서울 강서구 방화동 819)\n",
      "  가장 가까운 역: 방화역 5호선 (350m)\n",
      "--------------------------------------------------\n"
     ]
    },
    {
     "name": "stderr",
     "output_type": "stream",
     "text": [
      " 53%|█████████████████████▉                   | 246/461 [04:45<04:02,  1.13s/it]"
     ]
    },
    {
     "name": "stdout",
     "output_type": "stream",
     "text": [
      "247. 삼성하나로 (서울 강서구 염창동 248-3)\n",
      "  가장 가까운 역: 등촌역 9호선 (568m)\n",
      "--------------------------------------------------\n"
     ]
    },
    {
     "name": "stderr",
     "output_type": "stream",
     "text": [
      " 54%|█████████████████████▉                   | 247/461 [04:46<04:03,  1.14s/it]"
     ]
    },
    {
     "name": "stdout",
     "output_type": "stream",
     "text": [
      "248. 강변 (서울 강서구 가양동 1475)\n",
      "  가장 가까운 역: 가양역 9호선 (433m)\n",
      "--------------------------------------------------\n"
     ]
    },
    {
     "name": "stderr",
     "output_type": "stream",
     "text": [
      " 54%|██████████████████████                   | 248/461 [04:47<04:03,  1.14s/it]"
     ]
    },
    {
     "name": "stdout",
     "output_type": "stream",
     "text": [
      "249. 동신대아 (서울 강서구 가양동 1459)\n",
      "  가장 가까운 역: 양천향교역 9호선 (470m)\n",
      "--------------------------------------------------\n"
     ]
    },
    {
     "name": "stderr",
     "output_type": "stream",
     "text": [
      " 54%|██████████████████████▏                  | 249/461 [04:48<04:02,  1.15s/it]"
     ]
    },
    {
     "name": "stdout",
     "output_type": "stream",
     "text": [
      "250. 강변 (서울 강서구 가양동 1475)\n",
      "  가장 가까운 역: 가양역 9호선 (433m)\n",
      "--------------------------------------------------\n"
     ]
    },
    {
     "name": "stderr",
     "output_type": "stream",
     "text": [
      " 54%|██████████████████████▏                  | 250/461 [04:49<04:01,  1.15s/it]"
     ]
    },
    {
     "name": "stdout",
     "output_type": "stream",
     "text": [
      "251. 가양6단지 (서울 강서구 가양동 1485)\n",
      "  가장 가까운 역: 가양역 9호선 (474m)\n",
      "--------------------------------------------------\n"
     ]
    },
    {
     "name": "stderr",
     "output_type": "stream",
     "text": [
      " 54%|██████████████████████▎                  | 251/461 [04:50<04:01,  1.15s/it]"
     ]
    },
    {
     "name": "stdout",
     "output_type": "stream",
     "text": [
      "252. 마곡중앙하이츠아파트 (서울 강서구 방화동 852)\n",
      "  가장 가까운 역: 개화산역 5호선 (303m)\n",
      "--------------------------------------------------\n"
     ]
    },
    {
     "name": "stderr",
     "output_type": "stream",
     "text": [
      " 55%|██████████████████████▍                  | 252/461 [04:52<04:01,  1.16s/it]"
     ]
    },
    {
     "name": "stdout",
     "output_type": "stream",
     "text": [
      "253. 신안 (서울 강서구 마곡동 422)\n",
      "  가장 가까운 역: 마곡나루역 9호선 (424m)\n",
      "--------------------------------------------------\n"
     ]
    },
    {
     "name": "stderr",
     "output_type": "stream",
     "text": [
      " 55%|██████████████████████▌                  | 253/461 [04:53<03:59,  1.15s/it]"
     ]
    },
    {
     "name": "stdout",
     "output_type": "stream",
     "text": [
      "254. 신동아 (서울 강서구 염창동 289)\n",
      "  가장 가까운 역: 등촌역 9호선 (577m)\n",
      "--------------------------------------------------\n"
     ]
    },
    {
     "name": "stderr",
     "output_type": "stream",
     "text": [
      " 55%|██████████████████████▌                  | 254/461 [04:54<03:59,  1.16s/it]"
     ]
    },
    {
     "name": "stdout",
     "output_type": "stream",
     "text": [
      "255. 극동상록수 (서울 강서구 염창동 280)\n",
      "  가장 가까운 역: 염창역 9호선 (325m)\n",
      "--------------------------------------------------\n"
     ]
    },
    {
     "name": "stderr",
     "output_type": "stream",
     "text": [
      " 55%|██████████████████████▋                  | 255/461 [04:55<03:57,  1.15s/it]"
     ]
    },
    {
     "name": "stdout",
     "output_type": "stream",
     "text": [
      "256. 가양6단지 (서울 강서구 가양동 1485)\n",
      "  가장 가까운 역: 가양역 9호선 (474m)\n",
      "--------------------------------------------------\n"
     ]
    },
    {
     "name": "stderr",
     "output_type": "stream",
     "text": [
      " 56%|██████████████████████▊                  | 256/461 [04:56<03:55,  1.15s/it]"
     ]
    },
    {
     "name": "stdout",
     "output_type": "stream",
     "text": [
      "257. 마곡우림필유아파트 (서울 강서구 마곡동 1467)\n",
      "  가장 가까운 역: 신방화역 9호선 (600m)\n",
      "--------------------------------------------------\n"
     ]
    },
    {
     "name": "stderr",
     "output_type": "stream",
     "text": [
      " 56%|██████████████████████▊                  | 257/461 [04:57<03:54,  1.15s/it]"
     ]
    },
    {
     "name": "stdout",
     "output_type": "stream",
     "text": [
      "258. 개화 (서울 강서구 방화동 819)\n",
      "  가장 가까운 역: 방화역 5호선 (350m)\n",
      "--------------------------------------------------\n"
     ]
    },
    {
     "name": "stderr",
     "output_type": "stream",
     "text": [
      " 56%|██████████████████████▉                  | 258/461 [04:58<03:53,  1.15s/it]"
     ]
    },
    {
     "name": "stdout",
     "output_type": "stream",
     "text": [
      "259. 강변월드메르디앙 (서울 강서구 염창동 240-1)\n",
      "  가장 가까운 역: 증미역 9호선 (420m)\n",
      "--------------------------------------------------\n"
     ]
    },
    {
     "name": "stderr",
     "output_type": "stream",
     "text": [
      " 56%|███████████████████████                  | 259/461 [05:00<03:53,  1.15s/it]"
     ]
    },
    {
     "name": "stdout",
     "output_type": "stream",
     "text": [
      "260. e편한세상염창 (서울 강서구 염창동 309)\n",
      "  가장 가까운 역: 염창역 9호선 (422m)\n",
      "--------------------------------------------------\n"
     ]
    },
    {
     "name": "stderr",
     "output_type": "stream",
     "text": [
      " 56%|███████████████████████                  | 260/461 [05:01<03:52,  1.16s/it]"
     ]
    },
    {
     "name": "stdout",
     "output_type": "stream",
     "text": [
      "261. NS파크APT (서울 강서구 화곡동 1076-9)\n",
      "  가장 가까운 역: 화곡역 5호선 (133m)\n",
      "--------------------------------------------------\n"
     ]
    },
    {
     "name": "stderr",
     "output_type": "stream",
     "text": [
      " 57%|███████████████████████▏                 | 261/461 [05:02<03:49,  1.15s/it]"
     ]
    },
    {
     "name": "stdout",
     "output_type": "stream",
     "text": [
      "262. 염창3우성 (서울 양천구 염창동 272-28)\n",
      "  주소 → 좌표 변환 실패\n",
      "--------------------------------------------------\n"
     ]
    },
    {
     "name": "stderr",
     "output_type": "stream",
     "text": [
      " 57%|███████████████████████▎                 | 262/461 [05:03<03:43,  1.12s/it]"
     ]
    },
    {
     "name": "stdout",
     "output_type": "stream",
     "text": [
      "263. 예스빌 (서울 강서구 내발산동 687-2)\n",
      "  가장 가까운 역: 우장산역 5호선 (547m)\n",
      "--------------------------------------------------\n"
     ]
    },
    {
     "name": "stderr",
     "output_type": "stream",
     "text": [
      " 57%|███████████████████████▍                 | 263/461 [05:04<03:42,  1.13s/it]"
     ]
    },
    {
     "name": "stdout",
     "output_type": "stream",
     "text": [
      "264. 동아 (서울 강서구 염창동 292)\n",
      "  가장 가까운 역: 등촌역 9호선 (808m)\n",
      "--------------------------------------------------\n"
     ]
    },
    {
     "name": "stderr",
     "output_type": "stream",
     "text": [
      " 57%|███████████████████████▍                 | 264/461 [05:05<03:44,  1.14s/it]"
     ]
    },
    {
     "name": "stdout",
     "output_type": "stream",
     "text": [
      "265. 주공3 (서울 강서구 등촌동 688)\n",
      "  가장 가까운 역: 발산역 5호선 (443m)\n",
      "--------------------------------------------------\n"
     ]
    },
    {
     "name": "stderr",
     "output_type": "stream",
     "text": [
      " 57%|███████████████████████▌                 | 265/461 [05:06<03:45,  1.15s/it]"
     ]
    },
    {
     "name": "stdout",
     "output_type": "stream",
     "text": [
      "266. 가양6단지 (서울 강서구 가양동 1485)\n",
      "  가장 가까운 역: 가양역 9호선 (474m)\n",
      "--------------------------------------------------\n"
     ]
    },
    {
     "name": "stderr",
     "output_type": "stream",
     "text": [
      " 58%|███████████████████████▋                 | 266/461 [05:08<03:44,  1.15s/it]"
     ]
    },
    {
     "name": "stdout",
     "output_type": "stream",
     "text": [
      "267. 한진로즈힐 (서울 강서구 방화동 579)\n",
      "  가장 가까운 역: 신방화역 9호선 (565m)\n",
      "--------------------------------------------------\n"
     ]
    },
    {
     "name": "stderr",
     "output_type": "stream",
     "text": [
      " 58%|███████████████████████▋                 | 267/461 [05:09<03:43,  1.15s/it]"
     ]
    },
    {
     "name": "stdout",
     "output_type": "stream",
     "text": [
      "268. 마곡13단지힐스테이트마스터 (서울 강서구 마곡동 748)\n",
      "  가장 가까운 역: 마곡역 5호선 (627m)\n",
      "--------------------------------------------------\n"
     ]
    },
    {
     "name": "stderr",
     "output_type": "stream",
     "text": [
      " 58%|███████████████████████▊                 | 268/461 [05:10<03:41,  1.15s/it]"
     ]
    },
    {
     "name": "stdout",
     "output_type": "stream",
     "text": [
      "269. 마곡엠벨리(15단지) (서울 강서구 마곡동 751)\n",
      "  가장 가까운 역: 마곡역 5호선 (490m)\n",
      "--------------------------------------------------\n"
     ]
    },
    {
     "name": "stderr",
     "output_type": "stream",
     "text": [
      " 58%|███████████████████████▉                 | 269/461 [05:11<03:40,  1.15s/it]"
     ]
    },
    {
     "name": "stdout",
     "output_type": "stream",
     "text": [
      "270. 마곡13단지힐스테이트마스터 (서울 강서구 마곡동 748)\n",
      "  가장 가까운 역: 마곡역 5호선 (627m)\n",
      "--------------------------------------------------\n"
     ]
    },
    {
     "name": "stderr",
     "output_type": "stream",
     "text": [
      " 59%|████████████████████████                 | 270/461 [05:12<03:39,  1.15s/it]"
     ]
    },
    {
     "name": "stdout",
     "output_type": "stream",
     "text": [
      "271. 일성스카이빌 (서울 강서구 화곡동 914-3)\n",
      "  가장 가까운 역: 까치산역 2호선 (320m)\n",
      "--------------------------------------------------\n"
     ]
    },
    {
     "name": "stderr",
     "output_type": "stream",
     "text": [
      " 59%|████████████████████████                 | 271/461 [05:13<03:42,  1.17s/it]"
     ]
    },
    {
     "name": "stdout",
     "output_type": "stream",
     "text": [
      "272. 동아3 (서울 강서구 염창동 258-1)\n",
      "  가장 가까운 역: 염창역 9호선 (422m)\n",
      "--------------------------------------------------\n"
     ]
    },
    {
     "name": "stderr",
     "output_type": "stream",
     "text": [
      " 59%|████████████████████████▏                | 272/461 [05:15<03:39,  1.16s/it]"
     ]
    },
    {
     "name": "stdout",
     "output_type": "stream",
     "text": [
      "273. 벽산 (서울 강서구 마곡동 429)\n",
      "  가장 가까운 역: 양천향교역 9호선 (924m)\n",
      "--------------------------------------------------\n"
     ]
    },
    {
     "name": "stderr",
     "output_type": "stream",
     "text": [
      " 59%|████████████████████████▎                | 273/461 [05:16<03:36,  1.15s/it]"
     ]
    },
    {
     "name": "stdout",
     "output_type": "stream",
     "text": [
      "274. 메종드로제 (서울 강서구 화곡동 926-3)\n",
      "  가장 가까운 역: 까치산역 2호선 (478m)\n",
      "--------------------------------------------------\n"
     ]
    },
    {
     "name": "stderr",
     "output_type": "stream",
     "text": [
      " 59%|████████████████████████▎                | 274/461 [05:17<03:36,  1.16s/it]"
     ]
    },
    {
     "name": "stdout",
     "output_type": "stream",
     "text": [
      "275. 신동아 (서울 강서구 방화동 796)\n",
      "  가장 가까운 역: 신방화역 9호선 (311m)\n",
      "--------------------------------------------------\n"
     ]
    },
    {
     "name": "stderr",
     "output_type": "stream",
     "text": [
      " 60%|████████████████████████▍                | 275/461 [05:18<03:35,  1.16s/it]"
     ]
    },
    {
     "name": "stdout",
     "output_type": "stream",
     "text": [
      "276. 강서힐스테이트 (서울 강서구 화곡동 1165)\n",
      "  가장 가까운 역: 우장산역 5호선 (407m)\n",
      "--------------------------------------------------\n"
     ]
    },
    {
     "name": "stderr",
     "output_type": "stream",
     "text": [
      " 60%|████████████████████████▌                | 276/461 [05:19<03:33,  1.15s/it]"
     ]
    },
    {
     "name": "stdout",
     "output_type": "stream",
     "text": [
      "277. 우장산힐스테이트 (서울 강서구 내발산동 657)\n",
      "  가장 가까운 역: 발산역 5호선 (285m)\n",
      "--------------------------------------------------\n"
     ]
    },
    {
     "name": "stderr",
     "output_type": "stream",
     "text": [
      " 60%|████████████████████████▋                | 277/461 [05:20<03:31,  1.15s/it]"
     ]
    },
    {
     "name": "stdout",
     "output_type": "stream",
     "text": [
      "278. 우장산아이파크,이편한세상 (서울 강서구 화곡동 1159)\n",
      "  가장 가까운 역: 우장산역 5호선 (223m)\n",
      "--------------------------------------------------\n"
     ]
    },
    {
     "name": "stderr",
     "output_type": "stream",
     "text": [
      " 60%|████████████████████████▋                | 278/461 [05:21<03:30,  1.15s/it]"
     ]
    },
    {
     "name": "stdout",
     "output_type": "stream",
     "text": [
      "279. 가양2단지(성지) (서울 강서구 가양동 1461)\n",
      "  가장 가까운 역: 양천향교역 9호선 (531m)\n",
      "--------------------------------------------------\n"
     ]
    },
    {
     "name": "stderr",
     "output_type": "stream",
     "text": [
      " 61%|████████████████████████▊                | 279/461 [05:23<03:28,  1.15s/it]"
     ]
    },
    {
     "name": "stdout",
     "output_type": "stream",
     "text": [
      "280. 염창1차한화꿈에그린 (서울 강서구 염창동 281-22)\n",
      "  가장 가까운 역: 염창역 9호선 (202m)\n",
      "--------------------------------------------------\n"
     ]
    },
    {
     "name": "stderr",
     "output_type": "stream",
     "text": [
      " 61%|████████████████████████▉                | 280/461 [05:24<03:27,  1.15s/it]"
     ]
    },
    {
     "name": "stdout",
     "output_type": "stream",
     "text": [
      "281. 현대 (서울 강서구 방화동 793)\n",
      "  가장 가까운 역: 신방화역 9호선 (411m)\n",
      "--------------------------------------------------\n"
     ]
    },
    {
     "name": "stderr",
     "output_type": "stream",
     "text": [
      " 61%|████████████████████████▉                | 281/461 [05:25<03:27,  1.15s/it]"
     ]
    },
    {
     "name": "stdout",
     "output_type": "stream",
     "text": [
      "282. 가양2단지(성지) (서울 강서구 가양동 1461)\n",
      "  가장 가까운 역: 양천향교역 9호선 (531m)\n",
      "--------------------------------------------------\n"
     ]
    },
    {
     "name": "stderr",
     "output_type": "stream",
     "text": [
      " 61%|█████████████████████████                | 282/461 [05:26<03:26,  1.15s/it]"
     ]
    },
    {
     "name": "stdout",
     "output_type": "stream",
     "text": [
      "283. 강서한강자이 (서울 강서구 가양동 1500)\n",
      "  가장 가까운 역: 양천향교역 9호선 (657m)\n",
      "--------------------------------------------------\n"
     ]
    },
    {
     "name": "stderr",
     "output_type": "stream",
     "text": [
      " 61%|█████████████████████████▏               | 283/461 [05:27<03:24,  1.15s/it]"
     ]
    },
    {
     "name": "stdout",
     "output_type": "stream",
     "text": [
      "284. 염창1차한화꿈에그린 (서울 강서구 염창동 281-22)\n",
      "  가장 가까운 역: 염창역 9호선 (202m)\n",
      "--------------------------------------------------\n"
     ]
    },
    {
     "name": "stderr",
     "output_type": "stream",
     "text": [
      " 62%|█████████████████████████▎               | 284/461 [05:28<03:22,  1.14s/it]"
     ]
    },
    {
     "name": "stdout",
     "output_type": "stream",
     "text": [
      "285. 빛고을우방 (서울 강서구 가양동 448-9)\n",
      "  가장 가까운 역: 증미역 9호선 (323m)\n",
      "--------------------------------------------------\n"
     ]
    },
    {
     "name": "stderr",
     "output_type": "stream",
     "text": [
      " 62%|█████████████████████████▎               | 285/461 [05:29<03:21,  1.15s/it]"
     ]
    },
    {
     "name": "stdout",
     "output_type": "stream",
     "text": [
      "286. 우장산아이파크,이편한세상 (서울 강서구 화곡동 1159)\n",
      "  가장 가까운 역: 우장산역 5호선 (223m)\n",
      "--------------------------------------------------\n"
     ]
    },
    {
     "name": "stderr",
     "output_type": "stream",
     "text": [
      " 62%|█████████████████████████▍               | 286/461 [05:31<03:20,  1.14s/it]"
     ]
    },
    {
     "name": "stdout",
     "output_type": "stream",
     "text": [
      "287. 가양2단지(성지) (서울 강서구 가양동 1461)\n",
      "  가장 가까운 역: 양천향교역 9호선 (531m)\n",
      "--------------------------------------------------\n"
     ]
    },
    {
     "name": "stderr",
     "output_type": "stream",
     "text": [
      " 62%|█████████████████████████▌               | 287/461 [05:32<03:18,  1.14s/it]"
     ]
    },
    {
     "name": "stdout",
     "output_type": "stream",
     "text": [
      "288. 대동황토방2 (서울 강서구 등촌동 713)\n",
      "  가장 가까운 역: 증미역 9호선 (363m)\n",
      "--------------------------------------------------\n"
     ]
    },
    {
     "name": "stderr",
     "output_type": "stream",
     "text": [
      " 62%|█████████████████████████▌               | 288/461 [05:33<03:26,  1.19s/it]"
     ]
    },
    {
     "name": "stdout",
     "output_type": "stream",
     "text": [
      "289. 우장산아이파크,이편한세상 (서울 강서구 화곡동 1159)\n",
      "  가장 가까운 역: 우장산역 5호선 (223m)\n",
      "--------------------------------------------------\n"
     ]
    },
    {
     "name": "stderr",
     "output_type": "stream",
     "text": [
      " 63%|█████████████████████████▋               | 289/461 [05:34<03:26,  1.20s/it]"
     ]
    },
    {
     "name": "stdout",
     "output_type": "stream",
     "text": [
      "290. 대림e편한세상 (서울 강서구 화곡동 361-1)\n",
      "  가장 가까운 역: 까치산역 5호선 (818m)\n",
      "--------------------------------------------------\n"
     ]
    },
    {
     "name": "stderr",
     "output_type": "stream",
     "text": [
      " 63%|█████████████████████████▊               | 290/461 [05:35<03:22,  1.19s/it]"
     ]
    },
    {
     "name": "stdout",
     "output_type": "stream",
     "text": [
      "291. 마곡수명산파크7단지 (서울 강서구 내발산동 756)\n",
      "  가장 가까운 역: 우장산역 5호선 (1205m)\n",
      "--------------------------------------------------\n"
     ]
    },
    {
     "name": "stderr",
     "output_type": "stream",
     "text": [
      " 63%|█████████████████████████▉               | 291/461 [05:37<03:20,  1.18s/it]"
     ]
    },
    {
     "name": "stdout",
     "output_type": "stream",
     "text": [
      "292. 마곡엠밸리11단지 (서울 강서구 마곡동 746)\n",
      "  가장 가까운 역: 마곡역 5호선 (325m)\n",
      "--------------------------------------------------\n"
     ]
    },
    {
     "name": "stderr",
     "output_type": "stream",
     "text": [
      " 63%|█████████████████████████▉               | 292/461 [05:38<03:17,  1.17s/it]"
     ]
    },
    {
     "name": "stdout",
     "output_type": "stream",
     "text": [
      "293. 강변 (서울 강서구 가양동 1475)\n",
      "  가장 가까운 역: 가양역 9호선 (433m)\n",
      "--------------------------------------------------\n"
     ]
    },
    {
     "name": "stderr",
     "output_type": "stream",
     "text": [
      " 64%|██████████████████████████               | 293/461 [05:39<03:16,  1.17s/it]"
     ]
    },
    {
     "name": "stdout",
     "output_type": "stream",
     "text": [
      "294. 주공10 (서울 강서구 등촌동 702)\n",
      "  가장 가까운 역: 가양역 9호선 (544m)\n",
      "--------------------------------------------------\n"
     ]
    },
    {
     "name": "stderr",
     "output_type": "stream",
     "text": [
      " 64%|██████████████████████████▏              | 294/461 [05:40<03:15,  1.17s/it]"
     ]
    },
    {
     "name": "stdout",
     "output_type": "stream",
     "text": [
      "295. 가양6단지 (서울 강서구 가양동 1485)\n",
      "  가장 가까운 역: 가양역 9호선 (474m)\n",
      "--------------------------------------------------\n"
     ]
    },
    {
     "name": "stderr",
     "output_type": "stream",
     "text": [
      " 64%|██████████████████████████▏              | 295/461 [05:41<03:13,  1.16s/it]"
     ]
    },
    {
     "name": "stdout",
     "output_type": "stream",
     "text": [
      "296. 강변힐스테이트 (서울 강서구 염창동 299)\n",
      "  가장 가까운 역: 염창역 9호선 (474m)\n",
      "--------------------------------------------------\n"
     ]
    },
    {
     "name": "stderr",
     "output_type": "stream",
     "text": [
      " 64%|██████████████████████████▎              | 296/461 [05:42<03:12,  1.17s/it]"
     ]
    },
    {
     "name": "stdout",
     "output_type": "stream",
     "text": [
      "297. 방화그린 (서울 강서구 방화동 839)\n",
      "  가장 가까운 역: 방화역 5호선 (626m)\n",
      "--------------------------------------------------\n"
     ]
    },
    {
     "name": "stderr",
     "output_type": "stream",
     "text": [
      " 64%|██████████████████████████▍              | 297/461 [05:44<03:20,  1.22s/it]"
     ]
    },
    {
     "name": "stdout",
     "output_type": "stream",
     "text": [
      "298. 주공10 (서울 강서구 등촌동 702)\n",
      "  가장 가까운 역: 가양역 9호선 (544m)\n",
      "--------------------------------------------------\n"
     ]
    },
    {
     "name": "stderr",
     "output_type": "stream",
     "text": [
      " 65%|██████████████████████████▌              | 298/461 [05:45<03:18,  1.22s/it]"
     ]
    },
    {
     "name": "stdout",
     "output_type": "stream",
     "text": [
      "299. 화곡푸르지오 (서울 강서구 화곡동 1091)\n",
      "  가장 가까운 역: 우장산역 5호선 (634m)\n",
      "--------------------------------------------------\n"
     ]
    },
    {
     "name": "stderr",
     "output_type": "stream",
     "text": [
      " 65%|██████████████████████████▌              | 299/461 [05:46<03:13,  1.20s/it]"
     ]
    },
    {
     "name": "stdout",
     "output_type": "stream",
     "text": [
      "300. 신송타워 (서울 영등포구 등촌동 662-3)\n",
      "  주소 → 좌표 변환 실패\n",
      "--------------------------------------------------\n"
     ]
    },
    {
     "name": "stderr",
     "output_type": "stream",
     "text": [
      " 65%|██████████████████████████▋              | 300/461 [05:47<03:06,  1.16s/it]"
     ]
    },
    {
     "name": "stdout",
     "output_type": "stream",
     "text": [
      "301. 우장산롯데캐슬 (서울 강서구 화곡동 1145)\n",
      "  가장 가까운 역: 가양역 9호선 (839m)\n",
      "--------------------------------------------------\n"
     ]
    },
    {
     "name": "stderr",
     "output_type": "stream",
     "text": [
      " 65%|██████████████████████████▊              | 301/461 [05:48<03:04,  1.15s/it]"
     ]
    },
    {
     "name": "stdout",
     "output_type": "stream",
     "text": [
      "302. 우장산아이파크,이편한세상 (서울 강서구 화곡동 1159)\n",
      "  가장 가까운 역: 우장산역 5호선 (223m)\n",
      "--------------------------------------------------\n"
     ]
    },
    {
     "name": "stderr",
     "output_type": "stream",
     "text": [
      " 66%|██████████████████████████▊              | 302/461 [05:49<03:03,  1.16s/it]"
     ]
    },
    {
     "name": "stdout",
     "output_type": "stream",
     "text": [
      "303. 일신건영휴먼빌 (서울 강서구 가양동 1496)\n",
      "  가장 가까운 역: 양천향교역 9호선 (94m)\n",
      "--------------------------------------------------\n"
     ]
    },
    {
     "name": "stderr",
     "output_type": "stream",
     "text": [
      " 66%|██████████████████████████▉              | 303/461 [05:51<03:01,  1.15s/it]"
     ]
    },
    {
     "name": "stdout",
     "output_type": "stream",
     "text": [
      "304. 주공5 (서울 강서구 등촌동 695)\n",
      "  가장 가까운 역: 발산역 5호선 (660m)\n",
      "--------------------------------------------------\n"
     ]
    },
    {
     "name": "stderr",
     "output_type": "stream",
     "text": [
      " 66%|███████████████████████████              | 304/461 [05:52<03:00,  1.15s/it]"
     ]
    },
    {
     "name": "stdout",
     "output_type": "stream",
     "text": [
      "305. 우장산아이파크,이편한세상 (서울 강서구 화곡동 1159)\n",
      "  가장 가까운 역: 우장산역 5호선 (223m)\n",
      "--------------------------------------------------\n"
     ]
    },
    {
     "name": "stderr",
     "output_type": "stream",
     "text": [
      " 66%|███████████████████████████▏             | 305/461 [05:53<02:58,  1.15s/it]"
     ]
    },
    {
     "name": "stdout",
     "output_type": "stream",
     "text": [
      "306. 가양6단지 (서울 강서구 가양동 1485)\n",
      "  가장 가까운 역: 가양역 9호선 (474m)\n",
      "--------------------------------------------------\n"
     ]
    },
    {
     "name": "stderr",
     "output_type": "stream",
     "text": [
      " 66%|███████████████████████████▏             | 306/461 [05:54<02:57,  1.14s/it]"
     ]
    },
    {
     "name": "stdout",
     "output_type": "stream",
     "text": [
      "307. e편한세상염창 (서울 강서구 염창동 309)\n",
      "  가장 가까운 역: 염창역 9호선 (422m)\n",
      "--------------------------------------------------\n"
     ]
    },
    {
     "name": "stderr",
     "output_type": "stream",
     "text": [
      " 67%|███████████████████████████▎             | 307/461 [05:55<03:00,  1.17s/it]"
     ]
    },
    {
     "name": "stdout",
     "output_type": "stream",
     "text": [
      "308. 강서힐스테이트 (서울 강서구 화곡동 1165)\n",
      "  가장 가까운 역: 우장산역 5호선 (407m)\n",
      "--------------------------------------------------\n"
     ]
    },
    {
     "name": "stderr",
     "output_type": "stream",
     "text": [
      " 67%|███████████████████████████▍             | 308/461 [05:56<02:58,  1.17s/it]"
     ]
    },
    {
     "name": "stdout",
     "output_type": "stream",
     "text": [
      "309. 이너스내안에 (서울 강서구 염창동 254-2)\n",
      "  가장 가까운 역: 염창역 9호선 (437m)\n",
      "--------------------------------------------------\n"
     ]
    },
    {
     "name": "stderr",
     "output_type": "stream",
     "text": [
      " 67%|███████████████████████████▍             | 309/461 [05:58<02:55,  1.16s/it]"
     ]
    },
    {
     "name": "stdout",
     "output_type": "stream",
     "text": [
      "310. 이너스내안에 (서울 강서구 염창동 254-2)\n",
      "  가장 가까운 역: 염창역 9호선 (437m)\n",
      "--------------------------------------------------\n"
     ]
    },
    {
     "name": "stderr",
     "output_type": "stream",
     "text": [
      " 67%|███████████████████████████▌             | 310/461 [05:59<02:54,  1.15s/it]"
     ]
    },
    {
     "name": "stdout",
     "output_type": "stream",
     "text": [
      "311. 마곡태승훼미리아파트 (서울 강서구 마곡동 1454)\n",
      "  가장 가까운 역: 신방화역 9호선 (486m)\n",
      "--------------------------------------------------\n"
     ]
    },
    {
     "name": "stderr",
     "output_type": "stream",
     "text": [
      " 67%|███████████████████████████▋             | 311/461 [06:00<02:52,  1.15s/it]"
     ]
    },
    {
     "name": "stdout",
     "output_type": "stream",
     "text": [
      "312. 가양6단지 (서울 강서구 가양동 1485)\n",
      "  가장 가까운 역: 가양역 9호선 (474m)\n",
      "--------------------------------------------------\n"
     ]
    },
    {
     "name": "stderr",
     "output_type": "stream",
     "text": [
      " 68%|███████████████████████████▋             | 312/461 [06:01<02:51,  1.15s/it]"
     ]
    },
    {
     "name": "stdout",
     "output_type": "stream",
     "text": [
      "313. 청솔 (서울 강서구 방화동 832)\n",
      "  가장 가까운 역: 방화역 5호선 (219m)\n",
      "--------------------------------------------------\n"
     ]
    },
    {
     "name": "stderr",
     "output_type": "stream",
     "text": [
      " 68%|███████████████████████████▊             | 313/461 [06:02<02:49,  1.15s/it]"
     ]
    },
    {
     "name": "stdout",
     "output_type": "stream",
     "text": [
      "314. 강서힐스테이트 (서울 강서구 화곡동 1165)\n",
      "  가장 가까운 역: 우장산역 5호선 (407m)\n",
      "--------------------------------------------------\n"
     ]
    },
    {
     "name": "stderr",
     "output_type": "stream",
     "text": [
      " 68%|███████████████████████████▉             | 314/461 [06:03<02:48,  1.15s/it]"
     ]
    },
    {
     "name": "stdout",
     "output_type": "stream",
     "text": [
      "315. 강서힐스테이트 (서울 강서구 화곡동 1165)\n",
      "  가장 가까운 역: 우장산역 5호선 (407m)\n",
      "--------------------------------------------------\n"
     ]
    },
    {
     "name": "stderr",
     "output_type": "stream",
     "text": [
      " 68%|████████████████████████████             | 315/461 [06:04<02:50,  1.17s/it]"
     ]
    },
    {
     "name": "stdout",
     "output_type": "stream",
     "text": [
      "316. 에이원 (서울 강서구 화곡동 392-58)\n",
      "  가장 가까운 역: 까치산역 2호선 (224m)\n",
      "--------------------------------------------------\n"
     ]
    },
    {
     "name": "stderr",
     "output_type": "stream",
     "text": [
      " 69%|████████████████████████████             | 316/461 [06:06<02:48,  1.16s/it]"
     ]
    },
    {
     "name": "stdout",
     "output_type": "stream",
     "text": [
      "317. 우장산힐스테이트 (서울 강서구 내발산동 657)\n",
      "  가장 가까운 역: 발산역 5호선 (285m)\n",
      "--------------------------------------------------\n"
     ]
    },
    {
     "name": "stderr",
     "output_type": "stream",
     "text": [
      " 69%|████████████████████████████▏            | 317/461 [06:07<02:48,  1.17s/it]"
     ]
    },
    {
     "name": "stdout",
     "output_type": "stream",
     "text": [
      "318. 롯데캐슬 (서울 강서구 염창동 272-11)\n",
      "  가장 가까운 역: 등촌역 9호선 (246m)\n",
      "--------------------------------------------------\n"
     ]
    },
    {
     "name": "stderr",
     "output_type": "stream",
     "text": [
      " 69%|████████████████████████████▎            | 318/461 [06:08<02:45,  1.16s/it]"
     ]
    },
    {
     "name": "stdout",
     "output_type": "stream",
     "text": [
      "319. 마곡중앙하이츠아파트 (서울 강서구 방화동 852)\n",
      "  가장 가까운 역: 개화산역 5호선 (303m)\n",
      "--------------------------------------------------\n"
     ]
    },
    {
     "name": "stderr",
     "output_type": "stream",
     "text": [
      " 69%|████████████████████████████▎            | 319/461 [06:09<02:43,  1.15s/it]"
     ]
    },
    {
     "name": "stdout",
     "output_type": "stream",
     "text": [
      "320. 가양2단지(성지) (서울 강서구 가양동 1461)\n",
      "  가장 가까운 역: 양천향교역 9호선 (531m)\n",
      "--------------------------------------------------\n"
     ]
    },
    {
     "name": "stderr",
     "output_type": "stream",
     "text": [
      " 69%|████████████████████████████▍            | 320/461 [06:10<02:42,  1.15s/it]"
     ]
    },
    {
     "name": "stdout",
     "output_type": "stream",
     "text": [
      "321. 가양2단지(성지) (서울 강서구 가양동 1461)\n",
      "  가장 가까운 역: 양천향교역 9호선 (531m)\n",
      "--------------------------------------------------\n"
     ]
    },
    {
     "name": "stderr",
     "output_type": "stream",
     "text": [
      " 70%|████████████████████████████▌            | 321/461 [06:11<02:40,  1.15s/it]"
     ]
    },
    {
     "name": "stdout",
     "output_type": "stream",
     "text": [
      "322. 마곡중앙하이츠아파트 (서울 강서구 방화동 852)\n",
      "  가장 가까운 역: 개화산역 5호선 (303m)\n",
      "--------------------------------------------------\n"
     ]
    },
    {
     "name": "stderr",
     "output_type": "stream",
     "text": [
      " 70%|████████████████████████████▋            | 322/461 [06:13<02:45,  1.19s/it]"
     ]
    },
    {
     "name": "stdout",
     "output_type": "stream",
     "text": [
      "323. 방화그린 (서울 강서구 방화동 839)\n",
      "  가장 가까운 역: 방화역 5호선 (626m)\n",
      "--------------------------------------------------\n"
     ]
    },
    {
     "name": "stderr",
     "output_type": "stream",
     "text": [
      " 70%|████████████████████████████▋            | 323/461 [06:14<02:41,  1.17s/it]"
     ]
    },
    {
     "name": "stdout",
     "output_type": "stream",
     "text": [
      "324. 가양2단지(성지) (서울 강서구 가양동 1461)\n",
      "  가장 가까운 역: 양천향교역 9호선 (531m)\n",
      "--------------------------------------------------\n"
     ]
    },
    {
     "name": "stderr",
     "output_type": "stream",
     "text": [
      " 70%|████████████████████████████▊            | 324/461 [06:15<02:40,  1.17s/it]"
     ]
    },
    {
     "name": "stdout",
     "output_type": "stream",
     "text": [
      "325. 강서힐스테이트 (서울 강서구 화곡동 1165)\n",
      "  가장 가까운 역: 우장산역 5호선 (407m)\n",
      "--------------------------------------------------\n"
     ]
    },
    {
     "name": "stderr",
     "output_type": "stream",
     "text": [
      " 70%|████████████████████████████▉            | 325/461 [06:16<02:41,  1.19s/it]"
     ]
    },
    {
     "name": "stdout",
     "output_type": "stream",
     "text": [
      "326. 동신대아 (경기 부천시 원미구 가양동 1459)\n",
      "  주소 → 좌표 변환 실패\n",
      "--------------------------------------------------\n"
     ]
    },
    {
     "name": "stderr",
     "output_type": "stream",
     "text": [
      " 71%|████████████████████████████▉            | 326/461 [06:17<02:37,  1.17s/it]"
     ]
    },
    {
     "name": "stdout",
     "output_type": "stream",
     "text": [
      "327. 가양강나루현대 (서울 강서구 가양동 448-1)\n",
      "  가장 가까운 역: 가양역 9호선 (237m)\n",
      "--------------------------------------------------\n"
     ]
    },
    {
     "name": "stderr",
     "output_type": "stream",
     "text": [
      " 71%|█████████████████████████████            | 327/461 [06:19<02:37,  1.18s/it]"
     ]
    },
    {
     "name": "stdout",
     "output_type": "stream",
     "text": [
      "328. 한강동아 (서울 강서구 염창동 293)\n",
      "  가장 가까운 역: 염창역 9호선 (778m)\n",
      "--------------------------------------------------\n"
     ]
    },
    {
     "name": "stderr",
     "output_type": "stream",
     "text": [
      " 71%|█████████████████████████████▏           | 328/461 [06:20<02:34,  1.16s/it]"
     ]
    },
    {
     "name": "stdout",
     "output_type": "stream",
     "text": [
      "329. 삼정그린코아 (서울 강서구 염창동 282)\n",
      "  가장 가까운 역: 염창역 9호선 (110m)\n",
      "--------------------------------------------------\n"
     ]
    },
    {
     "name": "stderr",
     "output_type": "stream",
     "text": [
      " 71%|█████████████████████████████▎           | 329/461 [06:21<02:33,  1.17s/it]"
     ]
    },
    {
     "name": "stdout",
     "output_type": "stream",
     "text": [
      "330. 마곡수명산파크5단지 (서울 강서구 내발산동 749)\n",
      "  가장 가까운 역: 우장산역 5호선 (890m)\n",
      "--------------------------------------------------\n"
     ]
    },
    {
     "name": "stderr",
     "output_type": "stream",
     "text": [
      " 72%|█████████████████████████████▎           | 330/461 [06:22<02:32,  1.16s/it]"
     ]
    },
    {
     "name": "stdout",
     "output_type": "stream",
     "text": [
      "331. 강서힐스테이트 (서울 강서구 화곡동 1165)\n",
      "  가장 가까운 역: 우장산역 5호선 (407m)\n",
      "--------------------------------------------------\n"
     ]
    },
    {
     "name": "stderr",
     "output_type": "stream",
     "text": [
      " 72%|█████████████████████████████▍           | 331/461 [06:23<02:29,  1.15s/it]"
     ]
    },
    {
     "name": "stdout",
     "output_type": "stream",
     "text": [
      "332. 성재센트리움아파트(343-35) (서울 강서구 화곡동 343-35)\n",
      "  가장 가까운 역: 까치산역 2호선 (80m)\n",
      "--------------------------------------------------\n"
     ]
    },
    {
     "name": "stderr",
     "output_type": "stream",
     "text": [
      " 72%|█████████████████████████████▌           | 332/461 [06:24<02:28,  1.15s/it]"
     ]
    },
    {
     "name": "stdout",
     "output_type": "stream",
     "text": [
      "333. 방화5 (서울 강서구 방화동 814)\n",
      "  가장 가까운 역: 방화역 5호선 (231m)\n",
      "--------------------------------------------------\n"
     ]
    },
    {
     "name": "stderr",
     "output_type": "stream",
     "text": [
      " 72%|█████████████████████████████▌           | 333/461 [06:25<02:26,  1.15s/it]"
     ]
    },
    {
     "name": "stdout",
     "output_type": "stream",
     "text": [
      "334. 대림경동아파트 (서울 강남구 가양동 1474)\n",
      "  주소 → 좌표 변환 실패\n",
      "--------------------------------------------------\n"
     ]
    },
    {
     "name": "stderr",
     "output_type": "stream",
     "text": [
      " 72%|█████████████████████████████▋           | 334/461 [06:26<02:24,  1.14s/it]"
     ]
    },
    {
     "name": "stdout",
     "output_type": "stream",
     "text": [
      "335. 우장산아이파크,이편한세상 (서울 강서구 화곡동 1159)\n",
      "  가장 가까운 역: 우장산역 5호선 (223m)\n",
      "--------------------------------------------------\n"
     ]
    },
    {
     "name": "stderr",
     "output_type": "stream",
     "text": [
      " 73%|█████████████████████████████▊           | 335/461 [06:28<02:26,  1.16s/it]"
     ]
    },
    {
     "name": "stdout",
     "output_type": "stream",
     "text": [
      "336. 우장산아이파크,이편한세상 (서울 강서구 화곡동 1159)\n",
      "  가장 가까운 역: 우장산역 5호선 (223m)\n",
      "--------------------------------------------------\n"
     ]
    },
    {
     "name": "stderr",
     "output_type": "stream",
     "text": [
      " 73%|█████████████████████████████▉           | 336/461 [06:29<02:24,  1.15s/it]"
     ]
    },
    {
     "name": "stdout",
     "output_type": "stream",
     "text": [
      "337. 우장산힐스테이트 (서울 강서구 내발산동 657)\n",
      "  가장 가까운 역: 발산역 5호선 (285m)\n",
      "--------------------------------------------------\n"
     ]
    },
    {
     "name": "stderr",
     "output_type": "stream",
     "text": [
      " 73%|█████████████████████████████▉           | 337/461 [06:30<02:22,  1.15s/it]"
     ]
    },
    {
     "name": "stdout",
     "output_type": "stream",
     "text": [
      "338. 신동아 (서울 강서구 염창동 289)\n",
      "  가장 가까운 역: 등촌역 9호선 (577m)\n",
      "--------------------------------------------------\n"
     ]
    },
    {
     "name": "stderr",
     "output_type": "stream",
     "text": [
      " 73%|██████████████████████████████           | 338/461 [06:31<02:20,  1.15s/it]"
     ]
    },
    {
     "name": "stdout",
     "output_type": "stream",
     "text": [
      "339. 가양2단지(성지) (서울 강서구 가양동 1461)\n",
      "  가장 가까운 역: 양천향교역 9호선 (531m)\n",
      "--------------------------------------------------\n"
     ]
    },
    {
     "name": "stderr",
     "output_type": "stream",
     "text": [
      " 74%|██████████████████████████████▏          | 339/461 [06:32<02:19,  1.14s/it]"
     ]
    },
    {
     "name": "stdout",
     "output_type": "stream",
     "text": [
      "340. 가양강나루현대 (서울 강서구 가양동 448-1)\n",
      "  가장 가까운 역: 가양역 9호선 (237m)\n",
      "--------------------------------------------------\n"
     ]
    },
    {
     "name": "stderr",
     "output_type": "stream",
     "text": [
      " 74%|██████████████████████████████▏          | 340/461 [06:33<02:19,  1.15s/it]"
     ]
    },
    {
     "name": "stdout",
     "output_type": "stream",
     "text": [
      "341. 가양2단지(성지) (서울 강서구 가양동 1461)\n",
      "  가장 가까운 역: 양천향교역 9호선 (531m)\n",
      "--------------------------------------------------\n"
     ]
    },
    {
     "name": "stderr",
     "output_type": "stream",
     "text": [
      " 74%|██████████████████████████████▎          | 341/461 [06:35<02:18,  1.16s/it]"
     ]
    },
    {
     "name": "stdout",
     "output_type": "stream",
     "text": [
      "342. 우성 (서울 강서구 등촌동 630-3)\n",
      "  가장 가까운 역: 증미역 9호선 (107m)\n",
      "--------------------------------------------------\n"
     ]
    },
    {
     "name": "stderr",
     "output_type": "stream",
     "text": [
      " 74%|██████████████████████████████▍          | 342/461 [06:36<02:17,  1.15s/it]"
     ]
    },
    {
     "name": "stdout",
     "output_type": "stream",
     "text": [
      "343. 우장산아이파크,이편한세상 (서울 강서구 화곡동 1159)\n",
      "  가장 가까운 역: 우장산역 5호선 (223m)\n",
      "--------------------------------------------------\n"
     ]
    },
    {
     "name": "stderr",
     "output_type": "stream",
     "text": [
      " 74%|██████████████████████████████▌          | 343/461 [06:37<02:15,  1.14s/it]"
     ]
    },
    {
     "name": "stdout",
     "output_type": "stream",
     "text": [
      "344. 마곡엠밸리9단지 (서울 강서구 마곡동 744)\n",
      "  가장 가까운 역: 마곡역 5호선 (535m)\n",
      "--------------------------------------------------\n"
     ]
    },
    {
     "name": "stderr",
     "output_type": "stream",
     "text": [
      " 75%|██████████████████████████████▌          | 344/461 [06:38<02:14,  1.15s/it]"
     ]
    },
    {
     "name": "stdout",
     "output_type": "stream",
     "text": [
      "345. 주공3 (서울 강서구 등촌동 688)\n",
      "  가장 가까운 역: 발산역 5호선 (443m)\n",
      "--------------------------------------------------\n"
     ]
    },
    {
     "name": "stderr",
     "output_type": "stream",
     "text": [
      " 75%|██████████████████████████████▋          | 345/461 [06:39<02:12,  1.15s/it]"
     ]
    },
    {
     "name": "stdout",
     "output_type": "stream",
     "text": [
      "346. 방화그린 (서울 강서구 방화동 839)\n",
      "  가장 가까운 역: 방화역 5호선 (626m)\n",
      "--------------------------------------------------\n"
     ]
    },
    {
     "name": "stderr",
     "output_type": "stream",
     "text": [
      " 75%|██████████████████████████████▊          | 346/461 [06:40<02:13,  1.16s/it]"
     ]
    },
    {
     "name": "stdout",
     "output_type": "stream",
     "text": [
      "347. e편한세상염창 (서울 양천구 염창동 309)\n",
      "  주소 → 좌표 변환 실패\n",
      "--------------------------------------------------\n"
     ]
    },
    {
     "name": "stderr",
     "output_type": "stream",
     "text": [
      " 75%|██████████████████████████████▊          | 347/461 [06:41<02:09,  1.13s/it]"
     ]
    },
    {
     "name": "stdout",
     "output_type": "stream",
     "text": [
      "348. 가양2단지(성지) (서울 강서구 가양동 1461)\n",
      "  가장 가까운 역: 양천향교역 9호선 (531m)\n",
      "--------------------------------------------------\n"
     ]
    },
    {
     "name": "stderr",
     "output_type": "stream",
     "text": [
      " 75%|██████████████████████████████▉          | 348/461 [06:43<02:08,  1.13s/it]"
     ]
    },
    {
     "name": "stdout",
     "output_type": "stream",
     "text": [
      "349. 부영 (서울 강서구 등촌동 691-3)\n",
      "  가장 가까운 역: 양천향교역 9호선 (523m)\n",
      "--------------------------------------------------\n"
     ]
    },
    {
     "name": "stderr",
     "output_type": "stream",
     "text": [
      " 76%|███████████████████████████████          | 349/461 [06:44<02:07,  1.14s/it]"
     ]
    },
    {
     "name": "stdout",
     "output_type": "stream",
     "text": [
      "350. 주공3 (서울 강서구 등촌동 688)\n",
      "  가장 가까운 역: 발산역 5호선 (443m)\n",
      "--------------------------------------------------\n"
     ]
    },
    {
     "name": "stderr",
     "output_type": "stream",
     "text": [
      " 76%|███████████████████████████████▏         | 350/461 [06:45<02:06,  1.14s/it]"
     ]
    },
    {
     "name": "stdout",
     "output_type": "stream",
     "text": [
      "351. 화곡푸르지오 (서울 강서구 화곡동 1091)\n",
      "  가장 가까운 역: 우장산역 5호선 (634m)\n",
      "--------------------------------------------------\n"
     ]
    },
    {
     "name": "stderr",
     "output_type": "stream",
     "text": [
      " 76%|███████████████████████████████▏         | 351/461 [06:46<02:05,  1.14s/it]"
     ]
    },
    {
     "name": "stdout",
     "output_type": "stream",
     "text": [
      "352. 마곡엠밸리10단지 (서울 강서구 마곡동 747)\n",
      "  가장 가까운 역: 마곡역 5호선 (485m)\n",
      "--------------------------------------------------\n"
     ]
    },
    {
     "name": "stderr",
     "output_type": "stream",
     "text": [
      " 76%|███████████████████████████████▎         | 352/461 [06:47<02:05,  1.15s/it]"
     ]
    },
    {
     "name": "stdout",
     "output_type": "stream",
     "text": [
      "353. 마곡13단지힐스테이트마스터 (서울 강서구 마곡동 748)\n",
      "  가장 가까운 역: 마곡역 5호선 (627m)\n",
      "--------------------------------------------------\n"
     ]
    },
    {
     "name": "stderr",
     "output_type": "stream",
     "text": [
      " 77%|███████████████████████████████▍         | 353/461 [06:48<02:03,  1.15s/it]"
     ]
    },
    {
     "name": "stdout",
     "output_type": "stream",
     "text": [
      "354. 가양강나루현대 (서울 강서구 가양동 448-1)\n",
      "  가장 가까운 역: 가양역 9호선 (237m)\n",
      "--------------------------------------------------\n"
     ]
    },
    {
     "name": "stderr",
     "output_type": "stream",
     "text": [
      " 77%|███████████████████████████████▍         | 354/461 [06:50<02:04,  1.17s/it]"
     ]
    },
    {
     "name": "stdout",
     "output_type": "stream",
     "text": [
      "355. 향교 (서울 강서구 가양동 251-5)\n",
      "  가장 가까운 역: 양천향교역 9호선 (353m)\n",
      "--------------------------------------------------\n"
     ]
    },
    {
     "name": "stderr",
     "output_type": "stream",
     "text": [
      " 77%|███████████████████████████████▌         | 355/461 [06:51<02:03,  1.16s/it]"
     ]
    },
    {
     "name": "stdout",
     "output_type": "stream",
     "text": [
      "356. 현대 (  등촌동 655-27)\n",
      "  가장 가까운 역: 증미역 9호선 (531m)\n",
      "--------------------------------------------------\n"
     ]
    },
    {
     "name": "stderr",
     "output_type": "stream",
     "text": [
      " 77%|███████████████████████████████▋         | 356/461 [06:52<02:01,  1.16s/it]"
     ]
    },
    {
     "name": "stdout",
     "output_type": "stream",
     "text": [
      "357. 등촌동아이파크 (서울 강서구 등촌동 715)\n",
      "  가장 가까운 역: 등촌역 9호선 (904m)\n",
      "--------------------------------------------------\n"
     ]
    },
    {
     "name": "stderr",
     "output_type": "stream",
     "text": [
      " 77%|███████████████████████████████▊         | 357/461 [06:53<02:00,  1.16s/it]"
     ]
    },
    {
     "name": "stdout",
     "output_type": "stream",
     "text": [
      "358. 찬누리 (서울 강서구 화곡동 916-11)\n",
      "  가장 가까운 역: 까치산역 2호선 (380m)\n",
      "--------------------------------------------------\n"
     ]
    },
    {
     "name": "stderr",
     "output_type": "stream",
     "text": [
      " 78%|███████████████████████████████▊         | 358/461 [06:54<01:59,  1.16s/it]"
     ]
    },
    {
     "name": "stdout",
     "output_type": "stream",
     "text": [
      "359. 가양2단지(성지) (서울 강서구 가양동 1461)\n",
      "  가장 가까운 역: 양천향교역 9호선 (531m)\n",
      "--------------------------------------------------\n"
     ]
    },
    {
     "name": "stderr",
     "output_type": "stream",
     "text": [
      " 78%|███████████████████████████████▉         | 359/461 [06:55<01:58,  1.17s/it]"
     ]
    },
    {
     "name": "stdout",
     "output_type": "stream",
     "text": [
      "360. 등촌동아이파크 (서울 강서구 등촌동 715)\n",
      "  가장 가까운 역: 등촌역 9호선 (904m)\n",
      "--------------------------------------------------\n"
     ]
    },
    {
     "name": "stderr",
     "output_type": "stream",
     "text": [
      " 78%|████████████████████████████████         | 360/461 [06:56<01:56,  1.16s/it]"
     ]
    },
    {
     "name": "stdout",
     "output_type": "stream",
     "text": [
      "361. NS파크APT (서울 강서구 화곡동 1076-9)\n",
      "  가장 가까운 역: 화곡역 5호선 (133m)\n",
      "--------------------------------------------------\n"
     ]
    },
    {
     "name": "stderr",
     "output_type": "stream",
     "text": [
      " 78%|████████████████████████████████         | 361/461 [06:58<01:55,  1.15s/it]"
     ]
    },
    {
     "name": "stdout",
     "output_type": "stream",
     "text": [
      "362. 주공5 (서울 강서구 등촌동 695)\n",
      "  가장 가까운 역: 발산역 5호선 (660m)\n",
      "--------------------------------------------------\n"
     ]
    },
    {
     "name": "stderr",
     "output_type": "stream",
     "text": [
      " 79%|████████████████████████████████▏        | 362/461 [06:59<01:53,  1.15s/it]"
     ]
    },
    {
     "name": "stdout",
     "output_type": "stream",
     "text": [
      "363. 등촌동아이파크 (서울 강서구 등촌동 715)\n",
      "  가장 가까운 역: 등촌역 9호선 (904m)\n",
      "--------------------------------------------------\n"
     ]
    },
    {
     "name": "stderr",
     "output_type": "stream",
     "text": [
      " 79%|████████████████████████████████▎        | 363/461 [07:00<01:53,  1.15s/it]"
     ]
    },
    {
     "name": "stdout",
     "output_type": "stream",
     "text": [
      "364. 강변 (서울 강서구 가양동 1475)\n",
      "  가장 가까운 역: 가양역 9호선 (433m)\n",
      "--------------------------------------------------\n"
     ]
    },
    {
     "name": "stderr",
     "output_type": "stream",
     "text": [
      " 79%|████████████████████████████████▎        | 364/461 [07:01<01:51,  1.15s/it]"
     ]
    },
    {
     "name": "stdout",
     "output_type": "stream",
     "text": [
      "365. e편한세상염창 (서울 강서구 염창동 309)\n",
      "  가장 가까운 역: 염창역 9호선 (422m)\n",
      "--------------------------------------------------\n"
     ]
    },
    {
     "name": "stderr",
     "output_type": "stream",
     "text": [
      " 79%|████████████████████████████████▍        | 365/461 [07:02<01:50,  1.15s/it]"
     ]
    },
    {
     "name": "stdout",
     "output_type": "stream",
     "text": [
      "366. 강서힐스테이트 (서울 강서구 화곡동 1165)\n",
      "  가장 가까운 역: 우장산역 5호선 (407m)\n",
      "--------------------------------------------------\n"
     ]
    },
    {
     "name": "stderr",
     "output_type": "stream",
     "text": [
      " 79%|████████████████████████████████▌        | 366/461 [07:03<01:49,  1.15s/it]"
     ]
    },
    {
     "name": "stdout",
     "output_type": "stream",
     "text": [
      "367. 찬누리 (서울 강서구 화곡동 916-11)\n",
      "  가장 가까운 역: 까치산역 2호선 (380m)\n",
      "--------------------------------------------------\n"
     ]
    },
    {
     "name": "stderr",
     "output_type": "stream",
     "text": [
      " 80%|████████████████████████████████▋        | 367/461 [07:05<01:47,  1.15s/it]"
     ]
    },
    {
     "name": "stdout",
     "output_type": "stream",
     "text": [
      "368. 우장산아이파크,이편한세상 (서울 강서구 화곡동 1159)\n",
      "  가장 가까운 역: 우장산역 5호선 (223m)\n",
      "--------------------------------------------------\n"
     ]
    },
    {
     "name": "stderr",
     "output_type": "stream",
     "text": [
      " 80%|████████████████████████████████▋        | 368/461 [07:06<01:46,  1.15s/it]"
     ]
    },
    {
     "name": "stdout",
     "output_type": "stream",
     "text": [
      "369. 화곡푸르지오 (서울 양천구 화곡동 1091)\n",
      "  주소 → 좌표 변환 실패\n",
      "--------------------------------------------------\n"
     ]
    },
    {
     "name": "stderr",
     "output_type": "stream",
     "text": [
      " 80%|████████████████████████████████▊        | 369/461 [07:07<01:43,  1.12s/it]"
     ]
    },
    {
     "name": "stdout",
     "output_type": "stream",
     "text": [
      "370. 우장산아이파크,이편한세상 (서울 강서구 화곡동 1159)\n",
      "  가장 가까운 역: 우장산역 5호선 (223m)\n",
      "--------------------------------------------------\n"
     ]
    },
    {
     "name": "stderr",
     "output_type": "stream",
     "text": [
      " 80%|████████████████████████████████▉        | 370/461 [07:08<01:42,  1.13s/it]"
     ]
    },
    {
     "name": "stdout",
     "output_type": "stream",
     "text": [
      "371. 가양2단지(성지) (서울 강서구 가양동 1461)\n",
      "  가장 가까운 역: 양천향교역 9호선 (531m)\n",
      "--------------------------------------------------\n"
     ]
    },
    {
     "name": "stderr",
     "output_type": "stream",
     "text": [
      " 80%|████████████████████████████████▉        | 371/461 [07:09<01:42,  1.14s/it]"
     ]
    },
    {
     "name": "stdout",
     "output_type": "stream",
     "text": [
      "372. 가양2단지(성지) (서울 강서구 가양동 1461)\n",
      "  가장 가까운 역: 양천향교역 9호선 (531m)\n",
      "--------------------------------------------------\n"
     ]
    },
    {
     "name": "stderr",
     "output_type": "stream",
     "text": [
      " 81%|█████████████████████████████████        | 372/461 [07:10<01:41,  1.14s/it]"
     ]
    },
    {
     "name": "stdout",
     "output_type": "stream",
     "text": [
      "373. 천우네오젠(693) (서울 강서구 내발산동 693)\n",
      "  가장 가까운 역: 우장산역 5호선 (586m)\n",
      "--------------------------------------------------\n"
     ]
    },
    {
     "name": "stderr",
     "output_type": "stream",
     "text": [
      " 81%|█████████████████████████████████▏       | 373/461 [07:11<01:41,  1.15s/it]"
     ]
    },
    {
     "name": "stdout",
     "output_type": "stream",
     "text": [
      "374. 동아 (서울 강서구 염창동 292)\n",
      "  가장 가까운 역: 등촌역 9호선 (808m)\n",
      "--------------------------------------------------\n"
     ]
    },
    {
     "name": "stderr",
     "output_type": "stream",
     "text": [
      " 81%|█████████████████████████████████▎       | 374/461 [07:13<01:41,  1.16s/it]"
     ]
    },
    {
     "name": "stdout",
     "output_type": "stream",
     "text": [
      "375. 주공10 (서울 강서구 등촌동 702)\n",
      "  가장 가까운 역: 가양역 9호선 (544m)\n",
      "--------------------------------------------------\n"
     ]
    },
    {
     "name": "stderr",
     "output_type": "stream",
     "text": [
      " 81%|█████████████████████████████████▎       | 375/461 [07:14<01:40,  1.16s/it]"
     ]
    },
    {
     "name": "stdout",
     "output_type": "stream",
     "text": [
      "376. 신마곡벽산블루밍 (서울 강서구 방화동 904)\n",
      "  가장 가까운 역: 개화산역 5호선 (183m)\n",
      "--------------------------------------------------\n"
     ]
    },
    {
     "name": "stderr",
     "output_type": "stream",
     "text": [
      " 82%|█████████████████████████████████▍       | 376/461 [07:15<01:38,  1.16s/it]"
     ]
    },
    {
     "name": "stdout",
     "output_type": "stream",
     "text": [
      "377. 신마곡벽산블루밍 (서울 강서구 방화동 904)\n",
      "  가장 가까운 역: 개화산역 5호선 (183m)\n",
      "--------------------------------------------------\n"
     ]
    },
    {
     "name": "stderr",
     "output_type": "stream",
     "text": [
      " 82%|█████████████████████████████████▌       | 377/461 [07:16<01:36,  1.15s/it]"
     ]
    },
    {
     "name": "stdout",
     "output_type": "stream",
     "text": [
      "378. 화곡동복지 (서울 강서구 화곡동 354-54)\n",
      "  가장 가까운 역: 까치산역 5호선 (547m)\n",
      "--------------------------------------------------\n"
     ]
    },
    {
     "name": "stderr",
     "output_type": "stream",
     "text": [
      " 82%|█████████████████████████████████▌       | 378/461 [07:17<01:35,  1.15s/it]"
     ]
    },
    {
     "name": "stdout",
     "output_type": "stream",
     "text": [
      "379. 마곡엠벨리(15단지) (서울 강서구 마곡동 751)\n",
      "  가장 가까운 역: 마곡역 5호선 (490m)\n",
      "--------------------------------------------------\n"
     ]
    },
    {
     "name": "stderr",
     "output_type": "stream",
     "text": [
      " 82%|█████████████████████████████████▋       | 379/461 [07:18<01:36,  1.17s/it]"
     ]
    },
    {
     "name": "stdout",
     "output_type": "stream",
     "text": [
      "380. 강서크라운팰리스 (서울 강서구 화곡동 998-5)\n",
      "  가장 가까운 역: 가양역 9호선 (1167m)\n",
      "--------------------------------------------------\n"
     ]
    },
    {
     "name": "stderr",
     "output_type": "stream",
     "text": [
      " 82%|█████████████████████████████████▊       | 380/461 [07:20<01:34,  1.17s/it]"
     ]
    },
    {
     "name": "stdout",
     "output_type": "stream",
     "text": [
      "381. 마곡엠밸리6단지 (서울 강서구 마곡동 743)\n",
      "  가장 가까운 역: 신방화역 9호선 (373m)\n",
      "--------------------------------------------------\n"
     ]
    },
    {
     "name": "stderr",
     "output_type": "stream",
     "text": [
      " 83%|█████████████████████████████████▉       | 381/461 [07:21<01:32,  1.16s/it]"
     ]
    },
    {
     "name": "stdout",
     "output_type": "stream",
     "text": [
      "382. 마곡수명산파크7단지 (서울 강서구 내발산동 756)\n",
      "  가장 가까운 역: 우장산역 5호선 (1205m)\n",
      "--------------------------------------------------\n"
     ]
    },
    {
     "name": "stderr",
     "output_type": "stream",
     "text": [
      " 83%|█████████████████████████████████▉       | 382/461 [07:22<01:30,  1.15s/it]"
     ]
    },
    {
     "name": "stdout",
     "output_type": "stream",
     "text": [
      "383. 벽산 (서울 강서구 마곡동 429)\n",
      "  가장 가까운 역: 양천향교역 9호선 (924m)\n",
      "--------------------------------------------------\n"
     ]
    },
    {
     "name": "stderr",
     "output_type": "stream",
     "text": [
      " 83%|██████████████████████████████████       | 383/461 [07:23<01:29,  1.15s/it]"
     ]
    },
    {
     "name": "stdout",
     "output_type": "stream",
     "text": [
      "384. 마곡수명산파크7단지 (서울 강서구 내발산동 756)\n",
      "  가장 가까운 역: 우장산역 5호선 (1205m)\n",
      "--------------------------------------------------\n"
     ]
    },
    {
     "name": "stderr",
     "output_type": "stream",
     "text": [
      " 83%|██████████████████████████████████▏      | 384/461 [07:24<01:28,  1.15s/it]"
     ]
    },
    {
     "name": "stdout",
     "output_type": "stream",
     "text": [
      "385. 가양역두산위브 (서울 강서구 등촌동 726)\n",
      "  가장 가까운 역: 가양역 9호선 (545m)\n",
      "--------------------------------------------------\n"
     ]
    },
    {
     "name": "stderr",
     "output_type": "stream",
     "text": [
      " 84%|██████████████████████████████████▏      | 385/461 [07:25<01:27,  1.15s/it]"
     ]
    },
    {
     "name": "stdout",
     "output_type": "stream",
     "text": [
      "386. 한울밸리움 (서울 강서구 염창동 274-18)\n",
      "  가장 가까운 역: 등촌역 9호선 (46m)\n",
      "--------------------------------------------------\n"
     ]
    },
    {
     "name": "stderr",
     "output_type": "stream",
     "text": [
      " 84%|██████████████████████████████████▎      | 386/461 [07:26<01:26,  1.15s/it]"
     ]
    },
    {
     "name": "stdout",
     "output_type": "stream",
     "text": [
      "387. 마곡금호어울림 (서울 강서구 마곡동 717)\n",
      "  가장 가까운 역: 양천향교역 9호선 (819m)\n",
      "--------------------------------------------------\n"
     ]
    },
    {
     "name": "stderr",
     "output_type": "stream",
     "text": [
      " 84%|██████████████████████████████████▍      | 387/461 [07:28<01:26,  1.17s/it]"
     ]
    },
    {
     "name": "stdout",
     "output_type": "stream",
     "text": [
      "388. 동아 (서울 강서구 염창동 292)\n",
      "  가장 가까운 역: 등촌역 9호선 (808m)\n",
      "--------------------------------------------------\n"
     ]
    },
    {
     "name": "stderr",
     "output_type": "stream",
     "text": [
      " 84%|██████████████████████████████████▌      | 388/461 [07:29<01:24,  1.16s/it]"
     ]
    },
    {
     "name": "stdout",
     "output_type": "stream",
     "text": [
      "389. 주공10 (경기 고양시 덕양구 등촌동 702)\n",
      "  주소 → 좌표 변환 실패\n",
      "--------------------------------------------------\n"
     ]
    },
    {
     "name": "stderr",
     "output_type": "stream",
     "text": [
      " 84%|██████████████████████████████████▌      | 389/461 [07:30<01:21,  1.14s/it]"
     ]
    },
    {
     "name": "stdout",
     "output_type": "stream",
     "text": [
      "390. 강서쌍용예가 (서울 강서구 염창동 308)\n",
      "  가장 가까운 역: 등촌역 9호선 (525m)\n",
      "--------------------------------------------------\n"
     ]
    },
    {
     "name": "stderr",
     "output_type": "stream",
     "text": [
      " 85%|██████████████████████████████████▋      | 390/461 [07:31<01:23,  1.17s/it]"
     ]
    },
    {
     "name": "stdout",
     "output_type": "stream",
     "text": [
      "391. 강변월드메르디앙 (서울 강서구 염창동 240-1)\n",
      "  가장 가까운 역: 증미역 9호선 (420m)\n",
      "--------------------------------------------------\n"
     ]
    },
    {
     "name": "stderr",
     "output_type": "stream",
     "text": [
      " 85%|██████████████████████████████████▊      | 391/461 [07:32<01:21,  1.17s/it]"
     ]
    },
    {
     "name": "stdout",
     "output_type": "stream",
     "text": [
      "392. 강서힐스테이트 (서울 강서구 화곡동 1165)\n",
      "  가장 가까운 역: 우장산역 5호선 (407m)\n",
      "--------------------------------------------------\n"
     ]
    },
    {
     "name": "stderr",
     "output_type": "stream",
     "text": [
      " 85%|██████████████████████████████████▊      | 392/461 [07:33<01:19,  1.16s/it]"
     ]
    },
    {
     "name": "stdout",
     "output_type": "stream",
     "text": [
      "393. 우성(343-75) (서울 강서구 화곡동 343-75)\n",
      "  가장 가까운 역: 까치산역 2호선 (99m)\n",
      "--------------------------------------------------\n"
     ]
    },
    {
     "name": "stderr",
     "output_type": "stream",
     "text": [
      " 85%|██████████████████████████████████▉      | 393/461 [07:35<01:18,  1.16s/it]"
     ]
    },
    {
     "name": "stdout",
     "output_type": "stream",
     "text": [
      "394. 가양강나루현대 (서울 강서구 가양동 448-1)\n",
      "  가장 가까운 역: 가양역 9호선 (237m)\n",
      "--------------------------------------------------\n"
     ]
    },
    {
     "name": "stderr",
     "output_type": "stream",
     "text": [
      " 85%|███████████████████████████████████      | 394/461 [07:36<01:17,  1.15s/it]"
     ]
    },
    {
     "name": "stdout",
     "output_type": "stream",
     "text": [
      "395. 현대1 (서울 강서구 염창동 288)\n",
      "  가장 가까운 역: 염창역 9호선 (651m)\n",
      "--------------------------------------------------\n"
     ]
    },
    {
     "name": "stderr",
     "output_type": "stream",
     "text": [
      " 86%|███████████████████████████████████▏     | 395/461 [07:37<01:15,  1.15s/it]"
     ]
    },
    {
     "name": "stdout",
     "output_type": "stream",
     "text": [
      "396. 마곡수명산파크3단지 (서울 강서구 내발산동 751)\n",
      "  가장 가까운 역: 마곡역 5호선 (822m)\n",
      "--------------------------------------------------\n"
     ]
    },
    {
     "name": "stderr",
     "output_type": "stream",
     "text": [
      " 86%|███████████████████████████████████▏     | 396/461 [07:38<01:14,  1.15s/it]"
     ]
    },
    {
     "name": "stdout",
     "output_type": "stream",
     "text": [
      "397. 마곡수명산파크2단지 (서울 강서구 내발산동 741)\n",
      "  가장 가까운 역: 마곡역 5호선 (679m)\n",
      "--------------------------------------------------\n"
     ]
    },
    {
     "name": "stderr",
     "output_type": "stream",
     "text": [
      " 86%|███████████████████████████████████▎     | 397/461 [07:39<01:13,  1.15s/it]"
     ]
    },
    {
     "name": "stdout",
     "output_type": "stream",
     "text": [
      "398. 등촌1,2단지주공아파트 (서울 강서구 등촌동 687)\n",
      "  가장 가까운 역: 양천향교역 9호선 (347m)\n",
      "--------------------------------------------------\n"
     ]
    },
    {
     "name": "stderr",
     "output_type": "stream",
     "text": [
      " 86%|███████████████████████████████████▍     | 398/461 [07:40<01:12,  1.15s/it]"
     ]
    },
    {
     "name": "stdout",
     "output_type": "stream",
     "text": [
      "399. 강변 (서울 강서구 가양동 1475)\n",
      "  가장 가까운 역: 가양역 9호선 (433m)\n",
      "--------------------------------------------------\n"
     ]
    },
    {
     "name": "stderr",
     "output_type": "stream",
     "text": [
      " 87%|███████████████████████████████████▍     | 399/461 [07:41<01:11,  1.15s/it]"
     ]
    },
    {
     "name": "stdout",
     "output_type": "stream",
     "text": [
      "400. 우장산힐스테이트 (서울 강서구 내발산동 657)\n",
      "  가장 가까운 역: 발산역 5호선 (285m)\n",
      "--------------------------------------------------\n"
     ]
    },
    {
     "name": "stderr",
     "output_type": "stream",
     "text": [
      " 87%|███████████████████████████████████▌     | 400/461 [07:43<01:10,  1.15s/it]"
     ]
    },
    {
     "name": "stdout",
     "output_type": "stream",
     "text": [
      "401. 강변 (서울 강서구 가양동 1475)\n",
      "  가장 가까운 역: 가양역 9호선 (433m)\n",
      "--------------------------------------------------\n"
     ]
    },
    {
     "name": "stderr",
     "output_type": "stream",
     "text": [
      " 87%|███████████████████████████████████▋     | 401/461 [07:44<01:09,  1.15s/it]"
     ]
    },
    {
     "name": "stdout",
     "output_type": "stream",
     "text": [
      "402. 디아인스 (서울 강서구 화곡동 899-31)\n",
      "  가장 가까운 역: 까치산역 2호선 (122m)\n",
      "--------------------------------------------------\n"
     ]
    },
    {
     "name": "stderr",
     "output_type": "stream",
     "text": [
      " 87%|███████████████████████████████████▊     | 402/461 [07:45<01:08,  1.15s/it]"
     ]
    },
    {
     "name": "stdout",
     "output_type": "stream",
     "text": [
      "403. 우장산동문디이스트 (서울 강서구 내발산동 765)\n",
      "  가장 가까운 역: 우장산역 5호선 (246m)\n",
      "--------------------------------------------------\n"
     ]
    },
    {
     "name": "stderr",
     "output_type": "stream",
     "text": [
      " 87%|███████████████████████████████████▊     | 403/461 [07:46<01:07,  1.16s/it]"
     ]
    },
    {
     "name": "stdout",
     "output_type": "stream",
     "text": [
      "404. 방화3차우림필유 (서울 강서구 방화동 546-1)\n",
      "  가장 가까운 역: 개화산역 5호선 (488m)\n",
      "--------------------------------------------------\n"
     ]
    },
    {
     "name": "stderr",
     "output_type": "stream",
     "text": [
      " 88%|███████████████████████████████████▉     | 404/461 [07:47<01:05,  1.16s/it]"
     ]
    },
    {
     "name": "stdout",
     "output_type": "stream",
     "text": [
      "405. 등촌1,2단지주공아파트 (서울 강서구 등촌동 687)\n",
      "  가장 가까운 역: 양천향교역 9호선 (347m)\n",
      "--------------------------------------------------\n"
     ]
    },
    {
     "name": "stderr",
     "output_type": "stream",
     "text": [
      " 88%|████████████████████████████████████     | 405/461 [07:48<01:04,  1.15s/it]"
     ]
    },
    {
     "name": "stdout",
     "output_type": "stream",
     "text": [
      "406. 유니드 (서울 강서구 내발산동 712-2)\n",
      "  가장 가까운 역: 우장산역 5호선 (400m)\n",
      "--------------------------------------------------\n"
     ]
    },
    {
     "name": "stderr",
     "output_type": "stream",
     "text": [
      " 88%|████████████████████████████████████     | 406/461 [07:49<01:03,  1.15s/it]"
     ]
    },
    {
     "name": "stdout",
     "output_type": "stream",
     "text": [
      "407. 태진아름 (서울 강서구 등촌동 676)\n",
      "  가장 가까운 역: 등촌역 9호선 (473m)\n",
      "--------------------------------------------------\n"
     ]
    },
    {
     "name": "stderr",
     "output_type": "stream",
     "text": [
      " 88%|████████████████████████████████████▏    | 407/461 [07:51<01:01,  1.15s/it]"
     ]
    },
    {
     "name": "stdout",
     "output_type": "stream",
     "text": [
      "408. 주공3 (서울 강서구 등촌동 688)\n",
      "  가장 가까운 역: 발산역 5호선 (443m)\n",
      "--------------------------------------------------\n"
     ]
    },
    {
     "name": "stderr",
     "output_type": "stream",
     "text": [
      " 89%|████████████████████████████████████▎    | 408/461 [07:52<01:00,  1.14s/it]"
     ]
    },
    {
     "name": "stdout",
     "output_type": "stream",
     "text": [
      "409. 방화5 (서울 강서구 방화동 814)\n",
      "  가장 가까운 역: 방화역 5호선 (231m)\n",
      "--------------------------------------------------\n"
     ]
    },
    {
     "name": "stderr",
     "output_type": "stream",
     "text": [
      " 89%|████████████████████████████████████▍    | 409/461 [07:53<00:59,  1.15s/it]"
     ]
    },
    {
     "name": "stdout",
     "output_type": "stream",
     "text": [
      "410. 무학 (서울 강서구 염창동 255)\n",
      "  가장 가까운 역: 염창역 9호선 (511m)\n",
      "--------------------------------------------------\n"
     ]
    },
    {
     "name": "stderr",
     "output_type": "stream",
     "text": [
      " 89%|████████████████████████████████████▍    | 410/461 [07:54<00:58,  1.15s/it]"
     ]
    },
    {
     "name": "stdout",
     "output_type": "stream",
     "text": [
      "411. 주공5 (서울 강서구 등촌동 695)\n",
      "  가장 가까운 역: 발산역 5호선 (660m)\n",
      "--------------------------------------------------\n"
     ]
    },
    {
     "name": "stderr",
     "output_type": "stream",
     "text": [
      " 89%|████████████████████████████████████▌    | 411/461 [07:55<00:57,  1.15s/it]"
     ]
    },
    {
     "name": "stdout",
     "output_type": "stream",
     "text": [
      "412. 주공10 (  등촌동 702)\n",
      "  가장 가까운 역: 가양역 9호선 (544m)\n",
      "--------------------------------------------------\n"
     ]
    },
    {
     "name": "stderr",
     "output_type": "stream",
     "text": [
      " 89%|████████████████████████████████████▋    | 412/461 [07:56<00:56,  1.15s/it]"
     ]
    },
    {
     "name": "stdout",
     "output_type": "stream",
     "text": [
      "413. 우장산아이파크,이편한세상 (서울 강서구 화곡동 1159)\n",
      "  가장 가까운 역: 우장산역 5호선 (223m)\n",
      "--------------------------------------------------\n"
     ]
    },
    {
     "name": "stderr",
     "output_type": "stream",
     "text": [
      " 90%|████████████████████████████████████▋    | 413/461 [07:58<00:55,  1.15s/it]"
     ]
    },
    {
     "name": "stdout",
     "output_type": "stream",
     "text": [
      "414. 주공5 (서울 강서구 등촌동 695)\n",
      "  가장 가까운 역: 발산역 5호선 (660m)\n",
      "--------------------------------------------------\n"
     ]
    },
    {
     "name": "stderr",
     "output_type": "stream",
     "text": [
      " 90%|████████████████████████████████████▊    | 414/461 [07:59<00:54,  1.15s/it]"
     ]
    },
    {
     "name": "stdout",
     "output_type": "stream",
     "text": [
      "415. 우장산힐스테이트 (서울 강서구 내발산동 657)\n",
      "  가장 가까운 역: 발산역 5호선 (285m)\n",
      "--------------------------------------------------\n"
     ]
    },
    {
     "name": "stderr",
     "output_type": "stream",
     "text": [
      " 90%|████████████████████████████████████▉    | 415/461 [08:00<00:53,  1.15s/it]"
     ]
    },
    {
     "name": "stdout",
     "output_type": "stream",
     "text": [
      "416. 마곡수명산파크7단지 (서울 강서구 내발산동 756)\n",
      "  가장 가까운 역: 우장산역 5호선 (1205m)\n",
      "--------------------------------------------------\n"
     ]
    },
    {
     "name": "stderr",
     "output_type": "stream",
     "text": [
      " 90%|████████████████████████████████████▉    | 416/461 [08:01<00:51,  1.15s/it]"
     ]
    },
    {
     "name": "stdout",
     "output_type": "stream",
     "text": [
      "417. 우장산아이파크,이편한세상 (서울 강서구 화곡동 1159)\n",
      "  가장 가까운 역: 우장산역 5호선 (223m)\n",
      "--------------------------------------------------\n"
     ]
    },
    {
     "name": "stderr",
     "output_type": "stream",
     "text": [
      " 90%|█████████████████████████████████████    | 417/461 [08:02<00:50,  1.15s/it]"
     ]
    },
    {
     "name": "stdout",
     "output_type": "stream",
     "text": [
      "418. 마곡13단지힐스테이트마스터 (서울 강서구 마곡동 748)\n",
      "  가장 가까운 역: 마곡역 5호선 (627m)\n",
      "--------------------------------------------------\n"
     ]
    },
    {
     "name": "stderr",
     "output_type": "stream",
     "text": [
      " 91%|█████████████████████████████████████▏   | 418/461 [08:03<00:49,  1.15s/it]"
     ]
    },
    {
     "name": "stdout",
     "output_type": "stream",
     "text": [
      "419. 강서힐스테이트 (서울 강서구 화곡동 1165)\n",
      "  가장 가까운 역: 우장산역 5호선 (407m)\n",
      "--------------------------------------------------\n"
     ]
    },
    {
     "name": "stderr",
     "output_type": "stream",
     "text": [
      " 91%|█████████████████████████████████████▎   | 419/461 [08:04<00:48,  1.15s/it]"
     ]
    },
    {
     "name": "stdout",
     "output_type": "stream",
     "text": [
      "420. 주공3 (서울 강서구 등촌동 688)\n",
      "  가장 가까운 역: 발산역 5호선 (443m)\n",
      "--------------------------------------------------\n"
     ]
    },
    {
     "name": "stderr",
     "output_type": "stream",
     "text": [
      " 91%|█████████████████████████████████████▎   | 420/461 [08:06<00:47,  1.15s/it]"
     ]
    },
    {
     "name": "stdout",
     "output_type": "stream",
     "text": [
      "421. 우장산월드메르디앙 (서울 강서구 내발산동 734)\n",
      "  가장 가까운 역: 발산역 5호선 (478m)\n",
      "--------------------------------------------------\n"
     ]
    },
    {
     "name": "stderr",
     "output_type": "stream",
     "text": [
      " 91%|█████████████████████████████████████▍   | 421/461 [08:07<00:45,  1.15s/it]"
     ]
    },
    {
     "name": "stdout",
     "output_type": "stream",
     "text": [
      "422. 부영 (서울 강서구 등촌동 691-3)\n",
      "  가장 가까운 역: 양천향교역 9호선 (523m)\n",
      "--------------------------------------------------\n"
     ]
    },
    {
     "name": "stderr",
     "output_type": "stream",
     "text": [
      " 92%|█████████████████████████████████████▌   | 422/461 [08:08<00:44,  1.15s/it]"
     ]
    },
    {
     "name": "stdout",
     "output_type": "stream",
     "text": [
      "423. 수산동우 (서울 강서구 화곡동 1018-32)\n",
      "  가장 가까운 역: 우장산역 5호선 (641m)\n",
      "--------------------------------------------------\n"
     ]
    },
    {
     "name": "stderr",
     "output_type": "stream",
     "text": [
      " 92%|█████████████████████████████████████▌   | 423/461 [08:09<00:43,  1.15s/it]"
     ]
    },
    {
     "name": "stdout",
     "output_type": "stream",
     "text": [
      "424. 마곡엠밸리7단지 (서울 강서구 마곡동 743-4)\n",
      "  가장 가까운 역: 마곡나루역 공항철도 (373m)\n",
      "--------------------------------------------------\n"
     ]
    },
    {
     "name": "stderr",
     "output_type": "stream",
     "text": [
      " 92%|█████████████████████████████████████▋   | 424/461 [08:10<00:42,  1.15s/it]"
     ]
    },
    {
     "name": "stdout",
     "output_type": "stream",
     "text": [
      "425. 동성 (경기 고양시 덕양구 등촌동 691-1)\n",
      "  주소 → 좌표 변환 실패\n",
      "--------------------------------------------------\n"
     ]
    },
    {
     "name": "stderr",
     "output_type": "stream",
     "text": [
      " 92%|█████████████████████████████████████▊   | 425/461 [08:11<00:40,  1.13s/it]"
     ]
    },
    {
     "name": "stdout",
     "output_type": "stream",
     "text": [
      "426. 마곡엠밸리9단지 (서울 강서구 마곡동 744)\n",
      "  가장 가까운 역: 마곡역 5호선 (535m)\n",
      "--------------------------------------------------\n"
     ]
    },
    {
     "name": "stderr",
     "output_type": "stream",
     "text": [
      " 92%|█████████████████████████████████████▉   | 426/461 [08:12<00:39,  1.13s/it]"
     ]
    },
    {
     "name": "stdout",
     "output_type": "stream",
     "text": [
      "427. 우장산아이파크,이편한세상 (서울 강서구 화곡동 1159)\n",
      "  가장 가까운 역: 우장산역 5호선 (223m)\n",
      "--------------------------------------------------\n"
     ]
    },
    {
     "name": "stderr",
     "output_type": "stream",
     "text": [
      " 93%|█████████████████████████████████████▉   | 427/461 [08:14<00:38,  1.13s/it]"
     ]
    },
    {
     "name": "stdout",
     "output_type": "stream",
     "text": [
      "428. 가양6단지 (서울 강서구 가양동 1485)\n",
      "  가장 가까운 역: 가양역 9호선 (474m)\n",
      "--------------------------------------------------\n"
     ]
    },
    {
     "name": "stderr",
     "output_type": "stream",
     "text": [
      " 93%|██████████████████████████████████████   | 428/461 [08:15<00:37,  1.15s/it]"
     ]
    },
    {
     "name": "stdout",
     "output_type": "stream",
     "text": [
      "429. 팔라이스아파트먼트(915-8) (서울 강서구 화곡동 915-8)\n",
      "  가장 가까운 역: 까치산역 2호선 (371m)\n",
      "--------------------------------------------------\n"
     ]
    },
    {
     "name": "stderr",
     "output_type": "stream",
     "text": [
      " 93%|██████████████████████████████████████▏  | 429/461 [08:16<00:36,  1.16s/it]"
     ]
    },
    {
     "name": "stdout",
     "output_type": "stream",
     "text": [
      "430. 주공5 (서울 강서구 등촌동 695)\n",
      "  가장 가까운 역: 발산역 5호선 (660m)\n",
      "--------------------------------------------------\n"
     ]
    },
    {
     "name": "stderr",
     "output_type": "stream",
     "text": [
      " 93%|██████████████████████████████████████▏  | 430/461 [08:17<00:35,  1.15s/it]"
     ]
    },
    {
     "name": "stdout",
     "output_type": "stream",
     "text": [
      "431. 마곡수명산파크5단지 (서울 강서구 내발산동 749)\n",
      "  가장 가까운 역: 우장산역 5호선 (890m)\n",
      "--------------------------------------------------\n"
     ]
    },
    {
     "name": "stderr",
     "output_type": "stream",
     "text": [
      " 93%|██████████████████████████████████████▎  | 431/461 [08:18<00:34,  1.15s/it]"
     ]
    },
    {
     "name": "stdout",
     "output_type": "stream",
     "text": [
      "432. 청솔 (서울 강서구 방화동 832)\n",
      "  가장 가까운 역: 방화역 5호선 (219m)\n",
      "--------------------------------------------------\n"
     ]
    },
    {
     "name": "stderr",
     "output_type": "stream",
     "text": [
      " 94%|██████████████████████████████████████▍  | 432/461 [08:19<00:33,  1.15s/it]"
     ]
    },
    {
     "name": "stdout",
     "output_type": "stream",
     "text": [
      "433. 동아3 (서울 강서구 염창동 258-1)\n",
      "  가장 가까운 역: 염창역 9호선 (422m)\n",
      "--------------------------------------------------\n"
     ]
    },
    {
     "name": "stderr",
     "output_type": "stream",
     "text": [
      " 94%|██████████████████████████████████████▌  | 433/461 [08:20<00:32,  1.15s/it]"
     ]
    },
    {
     "name": "stdout",
     "output_type": "stream",
     "text": [
      "434. 주공3 (서울 강서구 등촌동 688)\n",
      "  가장 가까운 역: 발산역 5호선 (443m)\n",
      "--------------------------------------------------\n"
     ]
    },
    {
     "name": "stderr",
     "output_type": "stream",
     "text": [
      " 94%|██████████████████████████████████████▌  | 434/461 [08:22<00:30,  1.15s/it]"
     ]
    },
    {
     "name": "stdout",
     "output_type": "stream",
     "text": [
      "435. 마곡수명산파크4단지 (서울 강서구 내발산동 753)\n",
      "  가장 가까운 역: 마곡역 5호선 (1005m)\n",
      "--------------------------------------------------\n"
     ]
    },
    {
     "name": "stderr",
     "output_type": "stream",
     "text": [
      " 94%|██████████████████████████████████████▋  | 435/461 [08:23<00:29,  1.15s/it]"
     ]
    },
    {
     "name": "stdout",
     "output_type": "stream",
     "text": [
      "436. 한강동아 (서울 강서구 염창동 293)\n",
      "  가장 가까운 역: 염창역 9호선 (778m)\n",
      "--------------------------------------------------\n"
     ]
    },
    {
     "name": "stderr",
     "output_type": "stream",
     "text": [
      " 95%|██████████████████████████████████████▊  | 436/461 [08:24<00:28,  1.14s/it]"
     ]
    },
    {
     "name": "stdout",
     "output_type": "stream",
     "text": [
      "437. 마곡수명산파크4단지 (서울 강서구 내발산동 753)\n",
      "  가장 가까운 역: 마곡역 5호선 (1005m)\n",
      "--------------------------------------------------\n"
     ]
    },
    {
     "name": "stderr",
     "output_type": "stream",
     "text": [
      " 95%|██████████████████████████████████████▊  | 437/461 [08:25<00:27,  1.15s/it]"
     ]
    },
    {
     "name": "stdout",
     "output_type": "stream",
     "text": [
      "438. 강서월드메르디앙 (서울 강서구 내발산동 659-1)\n",
      "  가장 가까운 역: 발산역 5호선 (507m)\n",
      "--------------------------------------------------\n"
     ]
    },
    {
     "name": "stderr",
     "output_type": "stream",
     "text": [
      " 95%|██████████████████████████████████████▉  | 438/461 [08:26<00:26,  1.15s/it]"
     ]
    },
    {
     "name": "stdout",
     "output_type": "stream",
     "text": [
      "439. 마곡중앙하이츠아파트 (서울 강서구 방화동 852)\n",
      "  가장 가까운 역: 개화산역 5호선 (303m)\n",
      "--------------------------------------------------\n"
     ]
    },
    {
     "name": "stderr",
     "output_type": "stream",
     "text": [
      " 95%|███████████████████████████████████████  | 439/461 [08:27<00:25,  1.15s/it]"
     ]
    },
    {
     "name": "stdout",
     "output_type": "stream",
     "text": [
      "440. 가양6단지 (서울 강서구 가양동 1485)\n",
      "  가장 가까운 역: 가양역 9호선 (474m)\n",
      "--------------------------------------------------\n"
     ]
    },
    {
     "name": "stderr",
     "output_type": "stream",
     "text": [
      " 95%|███████████████████████████████████████▏ | 440/461 [08:28<00:24,  1.15s/it]"
     ]
    },
    {
     "name": "stdout",
     "output_type": "stream",
     "text": [
      "441. 등촌동아이파크 (서울 강서구 등촌동 715)\n",
      "  가장 가까운 역: 등촌역 9호선 (904m)\n",
      "--------------------------------------------------\n"
     ]
    },
    {
     "name": "stderr",
     "output_type": "stream",
     "text": [
      " 96%|███████████████████████████████████████▏ | 441/461 [08:30<00:22,  1.15s/it]"
     ]
    },
    {
     "name": "stdout",
     "output_type": "stream",
     "text": [
      "442. 마곡13단지힐스테이트마스터 (  마곡동 748)\n",
      "  가장 가까운 역: 마곡역 5호선 (627m)\n",
      "--------------------------------------------------\n"
     ]
    },
    {
     "name": "stderr",
     "output_type": "stream",
     "text": [
      " 96%|███████████████████████████████████████▎ | 442/461 [08:31<00:21,  1.15s/it]"
     ]
    },
    {
     "name": "stdout",
     "output_type": "stream",
     "text": [
      "443. e편한세상염창 (서울 강서구 염창동 309)\n",
      "  가장 가까운 역: 염창역 9호선 (422m)\n",
      "--------------------------------------------------\n"
     ]
    },
    {
     "name": "stderr",
     "output_type": "stream",
     "text": [
      " 96%|███████████████████████████████████████▍ | 443/461 [08:32<00:20,  1.16s/it]"
     ]
    },
    {
     "name": "stdout",
     "output_type": "stream",
     "text": [
      "444. 원흥타운 (서울 강서구 화곡동 1087-5)\n",
      "  가장 가까운 역: 화곡역 5호선 (557m)\n",
      "--------------------------------------------------\n"
     ]
    },
    {
     "name": "stderr",
     "output_type": "stream",
     "text": [
      " 96%|███████████████████████████████████████▍ | 444/461 [08:33<00:19,  1.16s/it]"
     ]
    },
    {
     "name": "stdout",
     "output_type": "stream",
     "text": [
      "445. 방신서광 (서울 강서구 방화동 871)\n",
      "  가장 가까운 역: 개화산역 5호선 (346m)\n",
      "--------------------------------------------------\n"
     ]
    },
    {
     "name": "stderr",
     "output_type": "stream",
     "text": [
      " 97%|███████████████████████████████████████▌ | 445/461 [08:34<00:18,  1.16s/it]"
     ]
    },
    {
     "name": "stdout",
     "output_type": "stream",
     "text": [
      "446. 강서한강자이 (서울 강서구 가양동 1500)\n",
      "  가장 가까운 역: 양천향교역 9호선 (657m)\n",
      "--------------------------------------------------\n"
     ]
    },
    {
     "name": "stderr",
     "output_type": "stream",
     "text": [
      " 97%|███████████████████████████████████████▋ | 446/461 [08:35<00:17,  1.16s/it]"
     ]
    },
    {
     "name": "stdout",
     "output_type": "stream",
     "text": [
      "447. 강서힐스테이트 (서울 강서구 화곡동 1165)\n",
      "  가장 가까운 역: 우장산역 5호선 (407m)\n",
      "--------------------------------------------------\n"
     ]
    },
    {
     "name": "stderr",
     "output_type": "stream",
     "text": [
      " 97%|███████████████████████████████████████▊ | 447/461 [08:37<00:16,  1.15s/it]"
     ]
    },
    {
     "name": "stdout",
     "output_type": "stream",
     "text": [
      "448. 초록 (서울 강서구 화곡동 1139)\n",
      "  가장 가까운 역: 우장산역 5호선 (421m)\n",
      "--------------------------------------------------\n"
     ]
    },
    {
     "name": "stderr",
     "output_type": "stream",
     "text": [
      " 97%|███████████████████████████████████████▊ | 448/461 [08:38<00:14,  1.15s/it]"
     ]
    },
    {
     "name": "stdout",
     "output_type": "stream",
     "text": [
      "449. 마곡13단지힐스테이트마스터 (서울 강서구 마곡동 748)\n",
      "  가장 가까운 역: 마곡역 5호선 (627m)\n",
      "--------------------------------------------------\n"
     ]
    },
    {
     "name": "stderr",
     "output_type": "stream",
     "text": [
      " 97%|███████████████████████████████████████▉ | 449/461 [08:39<00:13,  1.15s/it]"
     ]
    },
    {
     "name": "stdout",
     "output_type": "stream",
     "text": [
      "450. 삼성한아름 (서울 강서구 염창동 264-27)\n",
      "  가장 가까운 역: 염창역 9호선 (447m)\n",
      "--------------------------------------------------\n"
     ]
    },
    {
     "name": "stderr",
     "output_type": "stream",
     "text": [
      " 98%|████████████████████████████████████████ | 450/461 [08:40<00:12,  1.15s/it]"
     ]
    },
    {
     "name": "stdout",
     "output_type": "stream",
     "text": [
      "451. 신마곡벽산블루밍 (서울 강서구 방화동 904)\n",
      "  가장 가까운 역: 개화산역 5호선 (183m)\n",
      "--------------------------------------------------\n"
     ]
    },
    {
     "name": "stderr",
     "output_type": "stream",
     "text": [
      " 98%|████████████████████████████████████████ | 451/461 [08:41<00:11,  1.15s/it]"
     ]
    },
    {
     "name": "stdout",
     "output_type": "stream",
     "text": [
      "452. 강서쌍용예가 (서울 강서구 염창동 308)\n",
      "  가장 가까운 역: 등촌역 9호선 (525m)\n",
      "--------------------------------------------------\n"
     ]
    },
    {
     "name": "stderr",
     "output_type": "stream",
     "text": [
      " 98%|████████████████████████████████████████▏| 452/461 [08:42<00:10,  1.14s/it]"
     ]
    },
    {
     "name": "stdout",
     "output_type": "stream",
     "text": [
      "453. 한솔솔파크 (서울 강서구 마곡동 716)\n",
      "  가장 가까운 역: 마곡나루역 9호선 (492m)\n",
      "--------------------------------------------------\n"
     ]
    },
    {
     "name": "stderr",
     "output_type": "stream",
     "text": [
      " 98%|████████████████████████████████████████▎| 453/461 [08:43<00:09,  1.15s/it]"
     ]
    },
    {
     "name": "stdout",
     "output_type": "stream",
     "text": [
      "454. 방화5 (서울 강서구 방화동 814)\n",
      "  가장 가까운 역: 방화역 5호선 (231m)\n",
      "--------------------------------------------------\n"
     ]
    },
    {
     "name": "stderr",
     "output_type": "stream",
     "text": [
      " 98%|████████████████████████████████████████▍| 454/461 [08:45<00:08,  1.14s/it]"
     ]
    },
    {
     "name": "stdout",
     "output_type": "stream",
     "text": [
      "455. 마곡현대아파트 (경기 김포시 마곡동 1171)\n",
      "  주소 → 좌표 변환 실패\n",
      "--------------------------------------------------\n"
     ]
    },
    {
     "name": "stderr",
     "output_type": "stream",
     "text": [
      " 99%|████████████████████████████████████████▍| 455/461 [08:46<00:06,  1.12s/it]"
     ]
    },
    {
     "name": "stdout",
     "output_type": "stream",
     "text": [
      "456. GMValley (서울 강서구 화곡동 899-27)\n",
      "  가장 가까운 역: 까치산역 2호선 (167m)\n",
      "--------------------------------------------------\n"
     ]
    },
    {
     "name": "stderr",
     "output_type": "stream",
     "text": [
      " 99%|████████████████████████████████████████▌| 456/461 [08:47<00:05,  1.13s/it]"
     ]
    },
    {
     "name": "stdout",
     "output_type": "stream",
     "text": [
      "457. 한사랑2삼성 (서울 강서구 등촌동 634-2)\n",
      "  가장 가까운 역: 등촌역 9호선 (448m)\n",
      "--------------------------------------------------\n"
     ]
    },
    {
     "name": "stderr",
     "output_type": "stream",
     "text": [
      " 99%|████████████████████████████████████████▋| 457/461 [08:48<00:04,  1.15s/it]"
     ]
    },
    {
     "name": "stdout",
     "output_type": "stream",
     "text": [
      "458. 한양아이클래스 (서울 강서구 화곡동 926-5)\n",
      "  가장 가까운 역: 까치산역 2호선 (526m)\n",
      "--------------------------------------------------\n"
     ]
    },
    {
     "name": "stderr",
     "output_type": "stream",
     "text": [
      " 99%|████████████████████████████████████████▋| 458/461 [08:49<00:03,  1.17s/it]"
     ]
    },
    {
     "name": "stdout",
     "output_type": "stream",
     "text": [
      "459. 주공3 (서울 강서구 등촌동 688)\n",
      "  가장 가까운 역: 발산역 5호선 (443m)\n",
      "--------------------------------------------------\n"
     ]
    },
    {
     "name": "stderr",
     "output_type": "stream",
     "text": [
      "100%|████████████████████████████████████████▊| 459/461 [08:50<00:02,  1.16s/it]"
     ]
    },
    {
     "name": "stdout",
     "output_type": "stream",
     "text": [
      "460. 강변 (서울 강서구 가양동 1475)\n",
      "  가장 가까운 역: 가양역 9호선 (433m)\n",
      "--------------------------------------------------\n"
     ]
    },
    {
     "name": "stderr",
     "output_type": "stream",
     "text": [
      "100%|████████████████████████████████████████▉| 460/461 [08:51<00:01,  1.15s/it]"
     ]
    },
    {
     "name": "stdout",
     "output_type": "stream",
     "text": [
      "461. 마곡승윤노블리안아파트 (서울 강서구 마곡동 1360)\n",
      "  가장 가까운 역: 신방화역 9호선 (431m)\n",
      "--------------------------------------------------\n"
     ]
    },
    {
     "name": "stderr",
     "output_type": "stream",
     "text": [
      "100%|█████████████████████████████████████████| 461/461 [08:53<00:00,  1.16s/it]"
     ]
    },
    {
     "name": "stdout",
     "output_type": "stream",
     "text": [
      "✅ 저장 완료: apt_with_nearest_subway.csv\n"
     ]
    },
    {
     "name": "stderr",
     "output_type": "stream",
     "text": [
      "\n"
     ]
    }
   ],
   "source": [
    "import requests\n",
    "import time\n",
    "from dotenv import load_dotenv\n",
    "import os\n",
    "import pandas as pd\n",
    "from tqdm import tqdm\n",
    "\n",
    "# 1) 환경변수 로딩\n",
    "load_dotenv()\n",
    "KAKAO_API_KEY = os.getenv('KAKAO_API_KEY')\n",
    "headers = {'Authorization': f'KakaoAK {KAKAO_API_KEY}'}\n",
    "\n",
    "# 2) 주소 → 좌표 변환\n",
    "def get_coords(address):\n",
    "    url = 'https://dapi.kakao.com/v2/local/search/address.json'\n",
    "    params = {'query': address}\n",
    "    try:\n",
    "        res = requests.get(url, headers=headers, params=params, timeout=10)\n",
    "        res.raise_for_status()\n",
    "        docs = res.json().get('documents', [])\n",
    "        if not docs:\n",
    "            return None\n",
    "        coords = docs[0]['address']\n",
    "        return float(coords['y']), float(coords['x'])  # (lat, lng)\n",
    "    except Exception:\n",
    "        return None\n",
    "\n",
    "# 3) 지하철 검색 (가장 가까운 역만)\n",
    "def get_nearby_subway(lat, lng):\n",
    "    url = 'https://dapi.kakao.com/v2/local/search/category.json'\n",
    "    params = {\n",
    "        'category_group_code': 'SW8',\n",
    "        'x': lng,\n",
    "        'y': lat,\n",
    "        'radius': 2500,\n",
    "        'sort': 'distance'\n",
    "    }\n",
    "    try:\n",
    "        res = requests.get(url, headers=headers, params=params, timeout=10)\n",
    "        res.raise_for_status()\n",
    "        return res.json().get('documents', [])\n",
    "    except Exception:\n",
    "        return []\n",
    "\n",
    "# 4) 메인 루프\n",
    "apt_lat, apt_lng = [], []\n",
    "subway_distance_list = []\n",
    "isStationNearby_list = []\n",
    "\n",
    "for i, addr in tqdm(enumerate(df['aptAddress'].tolist()), total=len(df)):\n",
    "    apt_name = df.iloc[i]['aptNm']\n",
    "    coords = get_coords(addr)\n",
    "    print(f'{i+1}. {apt_name} ({addr})')\n",
    "\n",
    "    if coords:\n",
    "        lat, lng = coords\n",
    "        apt_lat.append(lat)\n",
    "        apt_lng.append(lng)\n",
    "\n",
    "        subways = get_nearby_subway(lat, lng)\n",
    "\n",
    "        if subways:\n",
    "            first = subways[0]  # 가장 가까운 역\n",
    "            dist = int(first['distance'])\n",
    "            name = first['place_name']\n",
    "            subway_distance_list.append(dist)\n",
    "            isStationNearby_list.append(dist <= 500)\n",
    "            print(f\"  가장 가까운 역: {name} ({dist}m)\")\n",
    "        else:\n",
    "            subway_distance_list.append(2501)\n",
    "            isStationNearby_list.append(False)\n",
    "            print(\"  근처에 지하철역 없음\")\n",
    "    else:\n",
    "        apt_lat.append(None)\n",
    "        apt_lng.append(None)\n",
    "        subway_distance_list.append(2501)\n",
    "        isStationNearby_list.append(False)\n",
    "        print(\"  주소 → 좌표 변환 실패\")\n",
    "\n",
    "    print(\"-\" * 50)\n",
    "    time.sleep(1)  # API rate limit 보호\n",
    "\n",
    "out_path = 'apt_with_nearest_subway.csv'\n",
    "df.to_csv(out_path, index=False, encoding='utf-8-sig')\n",
    "print(f\"✅ 저장 완료: {out_path}\")\n"
   ]
  },
  {
   "cell_type": "code",
   "execution_count": 60,
   "id": "1d359f44-b6bd-4feb-92d5-fee5c3abfea4",
   "metadata": {},
   "outputs": [
    {
     "data": {
      "text/html": [
       "<div>\n",
       "<style scoped>\n",
       "    .dataframe tbody tr th:only-of-type {\n",
       "        vertical-align: middle;\n",
       "    }\n",
       "\n",
       "    .dataframe tbody tr th {\n",
       "        vertical-align: top;\n",
       "    }\n",
       "\n",
       "    .dataframe thead th {\n",
       "        text-align: right;\n",
       "    }\n",
       "</style>\n",
       "<table border=\"1\" class=\"dataframe\">\n",
       "  <thead>\n",
       "    <tr style=\"text-align: right;\">\n",
       "      <th></th>\n",
       "      <th>aptDong</th>\n",
       "      <th>aptNm</th>\n",
       "      <th>buildYear</th>\n",
       "      <th>buyerGbn</th>\n",
       "      <th>cdealDay</th>\n",
       "      <th>cdealType</th>\n",
       "      <th>dealAmount</th>\n",
       "      <th>dealDay</th>\n",
       "      <th>dealMonth</th>\n",
       "      <th>dealYear</th>\n",
       "      <th>...</th>\n",
       "      <th>buildingAge</th>\n",
       "      <th>isHighFloor</th>\n",
       "      <th>dealYearMonth</th>\n",
       "      <th>dealQuarter</th>\n",
       "      <th>estateAgentSggNmClean</th>\n",
       "      <th>aptAddress</th>\n",
       "      <th>aptLat</th>\n",
       "      <th>aptLng</th>\n",
       "      <th>subwayDistance</th>\n",
       "      <th>isStationNearby</th>\n",
       "    </tr>\n",
       "  </thead>\n",
       "  <tbody>\n",
       "    <tr>\n",
       "      <th>0</th>\n",
       "      <td>306</td>\n",
       "      <td>우장산롯데캐슬</td>\n",
       "      <td>2003</td>\n",
       "      <td>개인</td>\n",
       "      <td></td>\n",
       "      <td></td>\n",
       "      <td>110000</td>\n",
       "      <td>29</td>\n",
       "      <td>3</td>\n",
       "      <td>2025</td>\n",
       "      <td>...</td>\n",
       "      <td>22</td>\n",
       "      <td>0</td>\n",
       "      <td>2025-03</td>\n",
       "      <td>1</td>\n",
       "      <td>서울 강서구</td>\n",
       "      <td>서울 강서구 화곡동 1145</td>\n",
       "      <td>37.555637</td>\n",
       "      <td>126.848319</td>\n",
       "      <td>839</td>\n",
       "      <td>NaN</td>\n",
       "    </tr>\n",
       "    <tr>\n",
       "      <th>1</th>\n",
       "      <td></td>\n",
       "      <td>청솔102동</td>\n",
       "      <td>1997</td>\n",
       "      <td>개인</td>\n",
       "      <td></td>\n",
       "      <td></td>\n",
       "      <td>56991</td>\n",
       "      <td>17</td>\n",
       "      <td>3</td>\n",
       "      <td>2025</td>\n",
       "      <td>...</td>\n",
       "      <td>28</td>\n",
       "      <td>0</td>\n",
       "      <td>2025-03</td>\n",
       "      <td>1</td>\n",
       "      <td></td>\n",
       "      <td>내발산동 673-14</td>\n",
       "      <td>37.553086</td>\n",
       "      <td>126.841165</td>\n",
       "      <td>638</td>\n",
       "      <td>NaN</td>\n",
       "    </tr>\n",
       "    <tr>\n",
       "      <th>2</th>\n",
       "      <td></td>\n",
       "      <td>강변</td>\n",
       "      <td>1992</td>\n",
       "      <td>개인</td>\n",
       "      <td></td>\n",
       "      <td></td>\n",
       "      <td>73000</td>\n",
       "      <td>29</td>\n",
       "      <td>3</td>\n",
       "      <td>2025</td>\n",
       "      <td>...</td>\n",
       "      <td>33</td>\n",
       "      <td>0</td>\n",
       "      <td>2025-03</td>\n",
       "      <td>1</td>\n",
       "      <td>서울 강서구</td>\n",
       "      <td>서울 강서구 가양동 1475</td>\n",
       "      <td>37.565216</td>\n",
       "      <td>126.855668</td>\n",
       "      <td>433</td>\n",
       "      <td>NaN</td>\n",
       "    </tr>\n",
       "  </tbody>\n",
       "</table>\n",
       "<p>3 rows × 30 columns</p>\n",
       "</div>"
      ],
      "text/plain": [
       "  aptDong    aptNm  buildYear buyerGbn cdealDay cdealType  dealAmount  \\\n",
       "0     306  우장산롯데캐슬       2003       개인                         110000   \n",
       "1           청솔102동       1997       개인                          56991   \n",
       "2               강변       1992       개인                          73000   \n",
       "\n",
       "   dealDay  dealMonth  dealYear  ... buildingAge isHighFloor  dealYearMonth  \\\n",
       "0       29          3      2025  ...          22           0        2025-03   \n",
       "1       17          3      2025  ...          28           0        2025-03   \n",
       "2       29          3      2025  ...          33           0        2025-03   \n",
       "\n",
       "   dealQuarter estateAgentSggNmClean       aptAddress     aptLat      aptLng  \\\n",
       "0            1                서울 강서구  서울 강서구 화곡동 1145  37.555637  126.848319   \n",
       "1            1                            내발산동 673-14  37.553086  126.841165   \n",
       "2            1                서울 강서구  서울 강서구 가양동 1475  37.565216  126.855668   \n",
       "\n",
       "  subwayDistance isStationNearby  \n",
       "0            839             NaN  \n",
       "1            638             NaN  \n",
       "2            433             NaN  \n",
       "\n",
       "[3 rows x 30 columns]"
      ]
     },
     "execution_count": 60,
     "metadata": {},
     "output_type": "execute_result"
    }
   ],
   "source": [
    "df_subway = pd.read_csv(out_path)\n",
    "df_subway.head(3)"
   ]
  },
  {
   "cell_type": "code",
   "execution_count": 58,
   "id": "568102f8-fabb-4059-90fb-da95dbeec7e1",
   "metadata": {},
   "outputs": [],
   "source": [
    "# 아파트 위경도 컬럼 추가\n",
    "df['aptLat'] = apt_lat\n",
    "df['aptLng'] = apt_lng\n",
    "\n",
    "# 지하철과의 거리 컬럼 추가\n",
    "df['subwayDistance'] = subway_distance_list\n",
    "\n",
    "# None (NaN) 값을 2501m로 대체 → 2.5km 이상 떨어진 경우 의미\n",
    "df['subwayDistance'] = df['subwayDistance'].fillna(2501)\n",
    "\n",
    "#역세권 여부 추가\n",
    "df['isStationNearby'] = pd.Series(isStationNearby_list).astype(int)\n"
   ]
  },
  {
   "cell_type": "code",
   "execution_count": 61,
   "id": "b1464fb0-f88a-4a3a-aa74-82299bf61da0",
   "metadata": {},
   "outputs": [
    {
     "data": {
      "text/html": [
       "<div>\n",
       "<style scoped>\n",
       "    .dataframe tbody tr th:only-of-type {\n",
       "        vertical-align: middle;\n",
       "    }\n",
       "\n",
       "    .dataframe tbody tr th {\n",
       "        vertical-align: top;\n",
       "    }\n",
       "\n",
       "    .dataframe thead th {\n",
       "        text-align: right;\n",
       "    }\n",
       "</style>\n",
       "<table border=\"1\" class=\"dataframe\">\n",
       "  <thead>\n",
       "    <tr style=\"text-align: right;\">\n",
       "      <th></th>\n",
       "      <th>aptDong</th>\n",
       "      <th>aptNm</th>\n",
       "      <th>buildYear</th>\n",
       "      <th>buyerGbn</th>\n",
       "      <th>cdealDay</th>\n",
       "      <th>cdealType</th>\n",
       "      <th>dealAmount</th>\n",
       "      <th>dealDay</th>\n",
       "      <th>dealMonth</th>\n",
       "      <th>dealYear</th>\n",
       "      <th>...</th>\n",
       "      <th>buildingAge</th>\n",
       "      <th>isHighFloor</th>\n",
       "      <th>dealYearMonth</th>\n",
       "      <th>dealQuarter</th>\n",
       "      <th>estateAgentSggNmClean</th>\n",
       "      <th>aptAddress</th>\n",
       "      <th>aptLat</th>\n",
       "      <th>aptLng</th>\n",
       "      <th>subwayDistance</th>\n",
       "      <th>isStationNearby</th>\n",
       "    </tr>\n",
       "  </thead>\n",
       "  <tbody>\n",
       "    <tr>\n",
       "      <th>0</th>\n",
       "      <td>306</td>\n",
       "      <td>우장산롯데캐슬</td>\n",
       "      <td>2003</td>\n",
       "      <td>개인</td>\n",
       "      <td></td>\n",
       "      <td></td>\n",
       "      <td>110000</td>\n",
       "      <td>29</td>\n",
       "      <td>3</td>\n",
       "      <td>2025</td>\n",
       "      <td>...</td>\n",
       "      <td>22</td>\n",
       "      <td>0</td>\n",
       "      <td>2025-03</td>\n",
       "      <td>1</td>\n",
       "      <td>서울 강서구</td>\n",
       "      <td>서울 강서구 화곡동 1145</td>\n",
       "      <td>37.555637</td>\n",
       "      <td>126.848319</td>\n",
       "      <td>839</td>\n",
       "      <td>0</td>\n",
       "    </tr>\n",
       "    <tr>\n",
       "      <th>1</th>\n",
       "      <td></td>\n",
       "      <td>청솔102동</td>\n",
       "      <td>1997</td>\n",
       "      <td>개인</td>\n",
       "      <td></td>\n",
       "      <td></td>\n",
       "      <td>56991</td>\n",
       "      <td>17</td>\n",
       "      <td>3</td>\n",
       "      <td>2025</td>\n",
       "      <td>...</td>\n",
       "      <td>28</td>\n",
       "      <td>0</td>\n",
       "      <td>2025-03</td>\n",
       "      <td>1</td>\n",
       "      <td></td>\n",
       "      <td>내발산동 673-14</td>\n",
       "      <td>37.553086</td>\n",
       "      <td>126.841165</td>\n",
       "      <td>638</td>\n",
       "      <td>0</td>\n",
       "    </tr>\n",
       "    <tr>\n",
       "      <th>2</th>\n",
       "      <td></td>\n",
       "      <td>강변</td>\n",
       "      <td>1992</td>\n",
       "      <td>개인</td>\n",
       "      <td></td>\n",
       "      <td></td>\n",
       "      <td>73000</td>\n",
       "      <td>29</td>\n",
       "      <td>3</td>\n",
       "      <td>2025</td>\n",
       "      <td>...</td>\n",
       "      <td>33</td>\n",
       "      <td>0</td>\n",
       "      <td>2025-03</td>\n",
       "      <td>1</td>\n",
       "      <td>서울 강서구</td>\n",
       "      <td>서울 강서구 가양동 1475</td>\n",
       "      <td>37.565216</td>\n",
       "      <td>126.855668</td>\n",
       "      <td>433</td>\n",
       "      <td>1</td>\n",
       "    </tr>\n",
       "  </tbody>\n",
       "</table>\n",
       "<p>3 rows × 30 columns</p>\n",
       "</div>"
      ],
      "text/plain": [
       "  aptDong    aptNm  buildYear buyerGbn cdealDay cdealType  dealAmount  \\\n",
       "0     306  우장산롯데캐슬       2003       개인                         110000   \n",
       "1           청솔102동       1997       개인                          56991   \n",
       "2               강변       1992       개인                          73000   \n",
       "\n",
       "   dealDay  dealMonth  dealYear  ... buildingAge isHighFloor  dealYearMonth  \\\n",
       "0       29          3      2025  ...          22           0        2025-03   \n",
       "1       17          3      2025  ...          28           0        2025-03   \n",
       "2       29          3      2025  ...          33           0        2025-03   \n",
       "\n",
       "   dealQuarter estateAgentSggNmClean       aptAddress     aptLat      aptLng  \\\n",
       "0            1                서울 강서구  서울 강서구 화곡동 1145  37.555637  126.848319   \n",
       "1            1                            내발산동 673-14  37.553086  126.841165   \n",
       "2            1                서울 강서구  서울 강서구 가양동 1475  37.565216  126.855668   \n",
       "\n",
       "  subwayDistance isStationNearby  \n",
       "0            839               0  \n",
       "1            638               0  \n",
       "2            433               1  \n",
       "\n",
       "[3 rows x 30 columns]"
      ]
     },
     "execution_count": 61,
     "metadata": {},
     "output_type": "execute_result"
    }
   ],
   "source": [
    "df.head(3)"
   ]
  },
  {
   "cell_type": "code",
   "execution_count": 62,
   "id": "1fac1477-9e9c-452c-bef5-09f01ed384a5",
   "metadata": {},
   "outputs": [
    {
     "data": {
      "text/plain": [
       "Index(['aptDong', 'aptNm', 'buildYear', 'buyerGbn', 'cdealDay', 'cdealType',\n",
       "       'dealAmount', 'dealDay', 'dealMonth', 'dealYear', 'dealingGbn',\n",
       "       'estateAgentSggNm', 'excluUseAr', 'floor', 'jibun', 'landLeaseholdGbn',\n",
       "       'rgstDate', 'sggCd', 'slerGbn', 'umdNm', 'buildingAge', 'isHighFloor',\n",
       "       'dealYearMonth', 'dealQuarter', 'estateAgentSggNmClean', 'aptAddress',\n",
       "       'aptLat', 'aptLng', 'subwayDistance', 'isStationNearby'],\n",
       "      dtype='object')"
      ]
     },
     "execution_count": 62,
     "metadata": {},
     "output_type": "execute_result"
    }
   ],
   "source": [
    "df.columns"
   ]
  },
  {
   "cell_type": "code",
   "execution_count": 63,
   "id": "c14725df-ec2f-45b8-be19-d5365a52f5bb",
   "metadata": {},
   "outputs": [
    {
     "data": {
      "text/plain": [
       "aptDong                   0\n",
       "aptNm                     0\n",
       "buildYear                 0\n",
       "buyerGbn                  0\n",
       "cdealDay                  0\n",
       "cdealType                 0\n",
       "dealAmount                0\n",
       "dealDay                   0\n",
       "dealMonth                 0\n",
       "dealYear                  0\n",
       "dealingGbn                0\n",
       "estateAgentSggNm          0\n",
       "excluUseAr                0\n",
       "floor                     0\n",
       "jibun                     0\n",
       "landLeaseholdGbn          0\n",
       "rgstDate                  0\n",
       "sggCd                     0\n",
       "slerGbn                   0\n",
       "umdNm                     0\n",
       "buildingAge               0\n",
       "isHighFloor               0\n",
       "dealYearMonth             0\n",
       "dealQuarter               0\n",
       "estateAgentSggNmClean     0\n",
       "aptAddress                0\n",
       "aptLat                   19\n",
       "aptLng                   19\n",
       "subwayDistance            0\n",
       "isStationNearby           0\n",
       "dtype: int64"
      ]
     },
     "execution_count": 63,
     "metadata": {},
     "output_type": "execute_result"
    }
   ],
   "source": [
    "df.isna().sum()"
   ]
  },
  {
   "cell_type": "code",
   "execution_count": 66,
   "id": "e5bc5622-108b-4520-a986-60012093a170",
   "metadata": {
    "scrolled": true
   },
   "outputs": [],
   "source": [
    "df = df.dropna(subset=['aptLat', 'aptLng'])"
   ]
  },
  {
   "cell_type": "code",
   "execution_count": 67,
   "id": "2aa48f7b-a84e-4d63-acb2-7bd04c8e867a",
   "metadata": {},
   "outputs": [
    {
     "data": {
      "text/plain": [
       "aptDong                  0\n",
       "aptNm                    0\n",
       "buildYear                0\n",
       "buyerGbn                 0\n",
       "cdealDay                 0\n",
       "cdealType                0\n",
       "dealAmount               0\n",
       "dealDay                  0\n",
       "dealMonth                0\n",
       "dealYear                 0\n",
       "dealingGbn               0\n",
       "estateAgentSggNm         0\n",
       "excluUseAr               0\n",
       "floor                    0\n",
       "jibun                    0\n",
       "landLeaseholdGbn         0\n",
       "rgstDate                 0\n",
       "sggCd                    0\n",
       "slerGbn                  0\n",
       "umdNm                    0\n",
       "buildingAge              0\n",
       "isHighFloor              0\n",
       "dealYearMonth            0\n",
       "dealQuarter              0\n",
       "estateAgentSggNmClean    0\n",
       "aptAddress               0\n",
       "aptLat                   0\n",
       "aptLng                   0\n",
       "subwayDistance           0\n",
       "isStationNearby          0\n",
       "dtype: int64"
      ]
     },
     "execution_count": 67,
     "metadata": {},
     "output_type": "execute_result"
    }
   ],
   "source": [
    "df.isna().sum()"
   ]
  },
  {
   "cell_type": "code",
   "execution_count": 68,
   "id": "75d9143c-e084-45ed-804d-fc2c9cca6c74",
   "metadata": {},
   "outputs": [
    {
     "data": {
      "image/png": "[encoded data removed]",
      "text/plain": [
       "<Figure size 640x480 with 1 Axes>"
      ]
     },
     "metadata": {},
     "output_type": "display_data"
    }
   ],
   "source": [
    "import seaborn as sns\n",
    "import matplotlib.pyplot as plt\n",
    "\n",
    "# 박스플롯: 지하철 여부별 거래금액\n",
    "sns.boxplot(x='isStationNearby', y='dealAmount', data=df)\n",
    "plt.title('지하철 인접 여부에 따른 아파트 가격 분포')\n",
    "plt.show()\n"
   ]
  },
  {
   "cell_type": "code",
   "execution_count": 69,
   "id": "6ffa0216-88f0-440f-80c1-d58bdeeedf83",
   "metadata": {},
   "outputs": [
    {
     "name": "stdout",
     "output_type": "stream",
     "text": [
      "                         mean   median  count\n",
      "isStationNearby                              \n",
      "0                80163.820809  78000.0    173\n",
      "1                86933.828996  81500.0    269\n"
     ]
    }
   ],
   "source": [
    "# 지하철 여부별 평균, 중앙값\n",
    "price_by_subway = df.groupby('isStationNearby')['dealAmount'].agg(['mean', 'median', 'count'])\n",
    "print(price_by_subway)\n"
   ]
  },
  {
   "cell_type": "code",
   "execution_count": 70,
   "id": "bf4b6e1b-dfce-4127-914e-494b641a007a",
   "metadata": {},
   "outputs": [
    {
     "data": {
      "text/plain": [
       "<seaborn.axisgrid.FacetGrid at 0x1762619a0>"
      ]
     },
     "execution_count": 70,
     "metadata": {},
     "output_type": "execute_result"
    },
    {
     "data": {
      "image/png": "[encoded data removed]",
      "text/plain": [
       "<Figure size 610.611x500 with 1 Axes>"
      ]
     },
     "metadata": {},
     "output_type": "display_data"
    }
   ],
   "source": [
    "#지하철 여부 + 층수 = 가격 변화\n",
    "sns.catplot(x='floor', y='dealAmount', hue='isStationNearby', data=df, kind='box')\n"
   ]
  },
  {
   "cell_type": "code",
   "execution_count": 71,
   "id": "f6779022-5626-4d7d-bb16-8b8fd6b1f65f",
   "metadata": {},
   "outputs": [
    {
     "data": {
      "text/plain": [
       "<Axes: xlabel='area_bin', ylabel='dealAmount'>"
      ]
     },
     "execution_count": 71,
     "metadata": {},
     "output_type": "execute_result"
    },
    {
     "data": {
      "image/png": "[encoded data removed]",
      "text/plain": [
       "<Figure size 640x480 with 1 Axes>"
      ]
     },
     "metadata": {},
     "output_type": "display_data"
    }
   ],
   "source": [
    "# 지하철 여부 + 전용면적 구간화\n",
    "df['area_bin'] = pd.cut(df['excluUseAr'], bins=[0, 30, 60, 90, 120, 150], labels=['~30', '30~60', '60~90', '90~120', '120~150'])\n",
    "sns.boxplot(x='area_bin', y='dealAmount', hue='isStationNearby', data=df)\n"
   ]
  },
  {
   "cell_type": "code",
   "execution_count": 72,
   "id": "33e36221-4318-4579-9086-25b5ab7b3981",
   "metadata": {},
   "outputs": [
    {
     "name": "stdout",
     "output_type": "stream",
     "text": [
      "LinearRegression → MAE: 14261.29, R²: 0.6836\n",
      "RandomForest → MAE: 5825.90, R²: 0.8894\n",
      "XGBoost → MAE: 5718.83, R²: 0.8741\n",
      "LightGBM → MAE: 5427.50, R²: 0.8537\n"
     ]
    },
    {
     "data": {
      "text/plain": [
       "(              Model           MAE        R2\n",
       " 0  LinearRegression  14261.290256  0.683622\n",
       " 1      RandomForest   5825.902220  0.889424\n",
       " 2           XGBoost   5718.834473  0.874082\n",
       " 3          LightGBM   5427.497028  0.853706,\n",
       " {'LinearRegression': LinearRegression(),\n",
       "  'RandomForest': RandomForestRegressor(random_state=42),\n",
       "  'XGBoost': XGBRegressor(base_score=None, booster=None, callbacks=None,\n",
       "               colsample_bylevel=None, colsample_bynode=None,\n",
       "               colsample_bytree=None, device=None, early_stopping_rounds=None,\n",
       "               enable_categorical=False, eval_metric=None, feature_types=None,\n",
       "               gamma=None, grow_policy=None, importance_type=None,\n",
       "               interaction_constraints=None, learning_rate=None, max_bin=None,\n",
       "               max_cat_threshold=None, max_cat_to_onehot=None,\n",
       "               max_delta_step=None, max_depth=None, max_leaves=None,\n",
       "               min_child_weight=None, missing=nan, monotone_constraints=None,\n",
       "               multi_strategy=None, n_estimators=100, n_jobs=None,\n",
       "               num_parallel_tree=None, random_state=42, ...),\n",
       "  'LightGBM': LGBMRegressor(max_depth=10, min_data_in_leaf=5, num_leaves=50, random_state=42,\n",
       "                verbose=-1)},\n",
       "      excluUseAr  floor  buildingAge  isHighFloor  isStationNearby  \\\n",
       " 17      59.7600     11           26            0                1   \n",
       " 67      84.9800      8           19            0                0   \n",
       " 140     39.3600     13           31            0                1   \n",
       " 255     49.5000     10           33            0                1   \n",
       " 31      58.6500     14           33            0                1   \n",
       " ..          ...    ...          ...          ...              ...   \n",
       " 109     84.3580      5           24            0                1   \n",
       " 281     34.4400      9           33            0                0   \n",
       " 363     49.5000     13           33            0                1   \n",
       " 453     33.1800      3           31            0                1   \n",
       " 104     59.9825      1            8            0                0   \n",
       " \n",
       "      subwayDistance  umdNm_가양동  umdNm_내발산동  umdNm_등촌동  umdNm_마곡동  umdNm_방화동  \\\n",
       " 17              237       True       False      False      False      False   \n",
       " 67              660      False       False      False      False      False   \n",
       " 140             219      False       False      False      False       True   \n",
       " 255             474       True       False      False      False      False   \n",
       " 31              474       True       False      False      False      False   \n",
       " ..              ...        ...         ...        ...        ...        ...   \n",
       " 109             110      False       False      False      False      False   \n",
       " 281             531       True       False      False      False      False   \n",
       " 363             433       True       False      False      False      False   \n",
       " 453             231      False       False      False      False       True   \n",
       " 104             627      False       False      False       True      False   \n",
       " \n",
       "      umdNm_염창동  umdNm_화곡동  \n",
       " 17       False      False  \n",
       " 67        True      False  \n",
       " 140      False      False  \n",
       " 255      False      False  \n",
       " 31       False      False  \n",
       " ..         ...        ...  \n",
       " 109       True      False  \n",
       " 281      False      False  \n",
       " 363      False      False  \n",
       " 453      False      False  \n",
       " 104      False      False  \n",
       " \n",
       " [353 rows x 13 columns],\n",
       "      excluUseAr  floor  buildingAge  isHighFloor  isStationNearby  \\\n",
       " 298    125.0210      3           23            0                0   \n",
       " 218     80.6400      5           31            0                0   \n",
       " 73      59.9194      5           11            0                0   \n",
       " 335    114.9800      5           17            0                1   \n",
       " 74      34.4400     15           33            1                1   \n",
       " ..          ...    ...          ...          ...              ...   \n",
       " 266     84.9300      3           21            0                0   \n",
       " 92      84.1439      7           23            0                1   \n",
       " 58     144.1230      3           23            0                0   \n",
       " 408     33.1800     12           31            0                1   \n",
       " 24      29.9300      4            7            0                1   \n",
       " \n",
       "      subwayDistance  umdNm_가양동  umdNm_내발산동  umdNm_등촌동  umdNm_마곡동  umdNm_방화동  \\\n",
       " 298             634      False       False      False      False      False   \n",
       " 218             523      False       False       True      False      False   \n",
       " 73              525      False       False      False      False      False   \n",
       " 335             223      False       False      False      False      False   \n",
       " 74              433       True       False      False      False      False   \n",
       " ..              ...        ...         ...        ...        ...        ...   \n",
       " 266             565      False       False      False      False       True   \n",
       " 92              116      False       False      False      False      False   \n",
       " 58              634      False       False      False      False      False   \n",
       " 408             231      False       False      False      False       True   \n",
       " 24              133      False       False      False      False      False   \n",
       " \n",
       "      umdNm_염창동  umdNm_화곡동  \n",
       " 298      False       True  \n",
       " 218      False      False  \n",
       " 73        True      False  \n",
       " 335      False       True  \n",
       " 74       False      False  \n",
       " ..         ...        ...  \n",
       " 266      False      False  \n",
       " 92       False       True  \n",
       " 58       False       True  \n",
       " 408      False      False  \n",
       " 24       False       True  \n",
       " \n",
       " [89 rows x 13 columns],\n",
       " 17      89500\n",
       " 67      81000\n",
       " 140     43800\n",
       " 255     77500\n",
       " 31      83500\n",
       "         ...  \n",
       " 109    111300\n",
       " 281     50700\n",
       " 363     80000\n",
       " 453     38800\n",
       " 104    116000\n",
       " Name: dealAmount, Length: 353, dtype: int64,\n",
       " 298    111000\n",
       " 218     88400\n",
       " 73      89000\n",
       " 335    146000\n",
       " 74      53600\n",
       "         ...  \n",
       " 266     80500\n",
       " 92      59700\n",
       " 58     121000\n",
       " 408     42000\n",
       " 24      25500\n",
       " Name: dealAmount, Length: 89, dtype: int64)"
      ]
     },
     "execution_count": 72,
     "metadata": {},
     "output_type": "execute_result"
    }
   ],
   "source": [
    "features = ['excluUseAr', 'floor', 'buildingAge', 'umdNm',\n",
    "            'isHighFloor', 'isStationNearby','subwayDistance']\n",
    "train_compare_models(df, features)"
   ]
  },
  {
   "cell_type": "code",
   "execution_count": 73,
   "id": "9ddd3e73-3bcf-4fc4-a7d6-a7c033a561b5",
   "metadata": {},
   "outputs": [
    {
     "data": {
      "text/plain": [
       "aptDong                    object\n",
       "aptNm                      object\n",
       "buildYear                   int64\n",
       "buyerGbn                   object\n",
       "cdealDay                   object\n",
       "cdealType                  object\n",
       "dealAmount                  int64\n",
       "dealDay                     int64\n",
       "dealMonth                   int64\n",
       "dealYear                    int64\n",
       "dealingGbn                 object\n",
       "estateAgentSggNm           object\n",
       "excluUseAr                float64\n",
       "floor                       int64\n",
       "jibun                      object\n",
       "landLeaseholdGbn           object\n",
       "rgstDate                   object\n",
       "sggCd                       int64\n",
       "slerGbn                    object\n",
       "umdNm                      object\n",
       "buildingAge                 int64\n",
       "isHighFloor                 int64\n",
       "dealYearMonth              object\n",
       "dealQuarter                 int64\n",
       "estateAgentSggNmClean      object\n",
       "aptAddress                 object\n",
       "aptLat                    float64\n",
       "aptLng                    float64\n",
       "subwayDistance              int64\n",
       "isStationNearby             int64\n",
       "area_bin                 category\n",
       "dtype: object"
      ]
     },
     "execution_count": 73,
     "metadata": {},
     "output_type": "execute_result"
    }
   ],
   "source": [
    "df.dtypes"
   ]
  },
  {
   "cell_type": "code",
   "execution_count": 74,
   "id": "655a24ec-64ec-47c5-bb4a-1a33e1066ae5",
   "metadata": {},
   "outputs": [
    {
     "data": {
      "text/html": [
       "<div>\n",
       "<style scoped>\n",
       "    .dataframe tbody tr th:only-of-type {\n",
       "        vertical-align: middle;\n",
       "    }\n",
       "\n",
       "    .dataframe tbody tr th {\n",
       "        vertical-align: top;\n",
       "    }\n",
       "\n",
       "    .dataframe thead th {\n",
       "        text-align: right;\n",
       "    }\n",
       "</style>\n",
       "<table border=\"1\" class=\"dataframe\">\n",
       "  <thead>\n",
       "    <tr style=\"text-align: right;\">\n",
       "      <th></th>\n",
       "      <th>dealAmount</th>\n",
       "      <th>excluUseAr</th>\n",
       "      <th>floor</th>\n",
       "      <th>buildingAge</th>\n",
       "      <th>dealQuarter</th>\n",
       "      <th>isStationNearby</th>\n",
       "      <th>isHighFloor</th>\n",
       "      <th>subwayDistance</th>\n",
       "    </tr>\n",
       "  </thead>\n",
       "  <tbody>\n",
       "    <tr>\n",
       "      <th>0</th>\n",
       "      <td>110000</td>\n",
       "      <td>85.00</td>\n",
       "      <td>14</td>\n",
       "      <td>22</td>\n",
       "      <td>1</td>\n",
       "      <td>0</td>\n",
       "      <td>0</td>\n",
       "      <td>839</td>\n",
       "    </tr>\n",
       "    <tr>\n",
       "      <th>1</th>\n",
       "      <td>56991</td>\n",
       "      <td>117.69</td>\n",
       "      <td>7</td>\n",
       "      <td>28</td>\n",
       "      <td>1</td>\n",
       "      <td>0</td>\n",
       "      <td>0</td>\n",
       "      <td>638</td>\n",
       "    </tr>\n",
       "    <tr>\n",
       "      <th>2</th>\n",
       "      <td>73000</td>\n",
       "      <td>49.50</td>\n",
       "      <td>4</td>\n",
       "      <td>33</td>\n",
       "      <td>1</td>\n",
       "      <td>1</td>\n",
       "      <td>0</td>\n",
       "      <td>433</td>\n",
       "    </tr>\n",
       "  </tbody>\n",
       "</table>\n",
       "</div>"
      ],
      "text/plain": [
       "   dealAmount  excluUseAr  floor  buildingAge  dealQuarter  isStationNearby  \\\n",
       "0      110000       85.00     14           22            1                0   \n",
       "1       56991      117.69      7           28            1                0   \n",
       "2       73000       49.50      4           33            1                1   \n",
       "\n",
       "   isHighFloor  subwayDistance  \n",
       "0            0             839  \n",
       "1            0             638  \n",
       "2            0             433  "
      ]
     },
     "execution_count": 74,
     "metadata": {},
     "output_type": "execute_result"
    }
   ],
   "source": [
    "df_numeric = clean_numeric_df(df)\n",
    "df_numeric.head(3)"
   ]
  },
  {
   "cell_type": "code",
   "execution_count": 75,
   "id": "bf6259b4-7ded-423a-8302-54715ec7a962",
   "metadata": {
    "scrolled": true
   },
   "outputs": [],
   "source": [
    "# 상관관계 계산 전에 dealQuarter 제거\n",
    "df_numeric = df_numeric.drop(columns = ['dealQuarter'])"
   ]
  },
  {
   "cell_type": "code",
   "execution_count": 76,
   "id": "16b6a7f0-4277-4044-a8c0-4e7083f4458c",
   "metadata": {
    "scrolled": true
   },
   "outputs": [
    {
     "data": {
      "image/png": "[encoded data removed]",
      "text/plain": [
       "<Figure size 1000x800 with 2 Axes>"
      ]
     },
     "metadata": {},
     "output_type": "display_data"
    },
    {
     "name": "stdout",
     "output_type": "stream",
     "text": [
      "dealAmount         1.000000\n",
      "excluUseAr         0.698213\n",
      "floor              0.211017\n",
      "isHighFloor        0.209703\n",
      "isStationNearby    0.097283\n",
      "subwayDistance     0.017685\n",
      "buildingAge       -0.439943\n",
      "Name: dealAmount, dtype: float64\n"
     ]
    }
   ],
   "source": [
    "plot_dealamount_correlation(df_numeric)"
   ]
  },
  {
   "cell_type": "markdown",
   "id": "f627f2a3-85f4-442e-8bf5-f22f27c92906",
   "metadata": {},
   "source": [
    "오히려 이전 지하철관련 추가를 안한 모델에서 더 좋은 MAE와 r2값이 나왔다. \\\n",
    "일단 역세권 여부에서 역세권인 집이 하나밖에 없어서 실거래 데이터를 더 많이 받아오는 방식으로 바꿔봐야겠다"
   ]
  },
  {
   "cell_type": "markdown",
   "id": "5307e3ea-ae4e-4a1e-92fb-e5c8a0a610b8",
   "metadata": {},
   "source": [
    "지역을 강서구로 바꿔서 진행해 보았는데 전체적으로 R2값이 0.9까지는 아니지만 거의 0.9에 도달 \\\n",
    "하지만 df['subwayDistance']를 넣지 않고 df['isSationNearby']만 넣은 데이터에서는 조금 더 좋은 모델 성능이 나왔다. \\\n",
    "하지만 모델에서는 비교적 역세권이 집 값이 조금 더 높은 편이었다면 \\\n",
    "상관관계를 비교해 보았을 때는 역세권 여부에는 많은 영향을 미치지 않는 것으로 보인다. \\\n",
    "역세권 여부 컬럼을 넣었지만 변수 중요도는 높지 않았다. \\\n",
    "실거래 데이터만을 이용했을때 보다는 모델 성능이 더 좋게 나왔기 때문에 \\\n",
    "변수 중요도 외에 다른 컬럼들과의 관계성에서 유의미한 시너지를 보여주는 것 같다. \\\n",
    "이제 학군데이터를 추가해서 비교해볼 예정이다.\n"
   ]
  },
  {
   "cell_type": "code",
   "execution_count": 77,
   "id": "7705b65c-f694-482d-8d6c-0bb1e3b01a07",
   "metadata": {},
   "outputs": [],
   "source": [
    "from base_model_utils import preprocess_base_df\n",
    "df = preprocess_base_df(df)\n",
    "df.to_csv('02_1_(distance)add_subway_df.csv', index=False)"
   ]
  },
  {
   "cell_type": "code",
   "execution_count": null,
   "id": "db2ebee2-4810-496a-8279-e1cf5f18cfd7",
   "metadata": {},
   "outputs": [],
   "source": []
  }
 ],
 "metadata": {
  "kernelspec": {
   "display_name": "Python 3 (ipykernel)",
   "language": "python",
   "name": "python3"
  },
  "language_info": {
   "codemirror_mode": {
    "name": "ipython",
    "version": 3
   },
   "file_extension": ".py",
   "mimetype": "text/x-python",
   "name": "python",
   "nbconvert_exporter": "python",
   "pygments_lexer": "ipython3",
   "version": "3.9.23"
  }
 },
 "nbformat": 4,
 "nbformat_minor": 5
}
