{
 "cells": [
  {
   "cell_type": "markdown",
   "id": "55b980f4-c6af-4031-8946-d947639475c2",
   "metadata": {},
   "source": [
    " "
   ]
  },
  {
   "cell_type": "markdown",
   "id": "dc32beb8-89d4-434c-a044-28e55b93dc43",
   "metadata": {},
   "source": [
    "## 학군관련 피처 추가"
   ]
  },
  {
   "cell_type": "code",
   "execution_count": 186,
   "id": "7b1b078a-3e31-4048-9515-f1e1ba548f59",
   "metadata": {},
   "outputs": [],
   "source": [
    "#강제 새로고침\n",
    "import importlib\n",
    "import base_model_utils\n",
    "importlib.reload(base_model_utils)\n",
    "from base_model_utils import set_korean_font, preprocess_base_df, train_compare_models, plot_dealamount_correlation, clean_numeric_df, get_coords\n"
   ]
  },
  {
   "cell_type": "code",
   "execution_count": 187,
   "id": "7f770100-3d08-4213-b0d0-75b813a6983b",
   "metadata": {},
   "outputs": [],
   "source": [
    "# df_cleaned = preprocess_base_df(df)\n",
    "# model = train_and_compare_models(df, features = ['excluUseAr', 'floor', 'buildingAge', 'deal_quarter', 'umdNm',\n",
    "#             'is_high_floor', 'subway_distance', 'isStationNearby'])\n",
    "# train_and_compare_models(df_cleaned, features)"
   ]
  },
  {
   "cell_type": "code",
   "execution_count": 188,
   "id": "384ab6ea-432c-4c32-9f66-0e5e59c1c791",
   "metadata": {},
   "outputs": [],
   "source": [
    "set_korean_font()"
   ]
  },
  {
   "cell_type": "code",
   "execution_count": 189,
   "id": "0f3544fa-e4a7-4656-b0d7-832cee805316",
   "metadata": {},
   "outputs": [],
   "source": [
    "import pandas as pd\n",
    "base_model_df = pd.read_csv('02_add_subway_df.csv')\n",
    "df_cleaned = preprocess_base_df(base_model_df)\n",
    "df = df_cleaned.copy()"
   ]
  },
  {
   "cell_type": "code",
   "execution_count": 190,
   "id": "04b4c66b-4737-470c-bac8-642de64dde18",
   "metadata": {},
   "outputs": [
    {
     "data": {
      "text/html": [
       "<div>\n",
       "<style scoped>\n",
       "    .dataframe tbody tr th:only-of-type {\n",
       "        vertical-align: middle;\n",
       "    }\n",
       "\n",
       "    .dataframe tbody tr th {\n",
       "        vertical-align: top;\n",
       "    }\n",
       "\n",
       "    .dataframe thead th {\n",
       "        text-align: right;\n",
       "    }\n",
       "</style>\n",
       "<table border=\"1\" class=\"dataframe\">\n",
       "  <thead>\n",
       "    <tr style=\"text-align: right;\">\n",
       "      <th></th>\n",
       "      <th>aptDong</th>\n",
       "      <th>aptNm</th>\n",
       "      <th>buildYear</th>\n",
       "      <th>buyerGbn</th>\n",
       "      <th>cdealDay</th>\n",
       "      <th>cdealType</th>\n",
       "      <th>dealAmount</th>\n",
       "      <th>dealDay</th>\n",
       "      <th>dealMonth</th>\n",
       "      <th>dealYear</th>\n",
       "      <th>...</th>\n",
       "      <th>buildingAge</th>\n",
       "      <th>isHighFloor</th>\n",
       "      <th>dealYearMonth</th>\n",
       "      <th>dealQuarter</th>\n",
       "      <th>estateAgentSggNmClean</th>\n",
       "      <th>aptAddress</th>\n",
       "      <th>isStationNearby</th>\n",
       "      <th>aptLat</th>\n",
       "      <th>aptLng</th>\n",
       "      <th>area_bin</th>\n",
       "    </tr>\n",
       "  </thead>\n",
       "  <tbody>\n",
       "    <tr>\n",
       "      <th>0</th>\n",
       "      <td>306</td>\n",
       "      <td>우장산롯데캐슬</td>\n",
       "      <td>2003</td>\n",
       "      <td>개인</td>\n",
       "      <td></td>\n",
       "      <td></td>\n",
       "      <td>110000</td>\n",
       "      <td>29</td>\n",
       "      <td>3</td>\n",
       "      <td>2025</td>\n",
       "      <td>...</td>\n",
       "      <td>22</td>\n",
       "      <td>0</td>\n",
       "      <td>2025-03</td>\n",
       "      <td>1</td>\n",
       "      <td>서울 강서구</td>\n",
       "      <td>서울 강서구 화곡동 1145</td>\n",
       "      <td>0</td>\n",
       "      <td>37.555637</td>\n",
       "      <td>126.848319</td>\n",
       "      <td>60~90</td>\n",
       "    </tr>\n",
       "    <tr>\n",
       "      <th>1</th>\n",
       "      <td></td>\n",
       "      <td>청솔102동</td>\n",
       "      <td>1997</td>\n",
       "      <td>개인</td>\n",
       "      <td></td>\n",
       "      <td></td>\n",
       "      <td>56991</td>\n",
       "      <td>17</td>\n",
       "      <td>3</td>\n",
       "      <td>2025</td>\n",
       "      <td>...</td>\n",
       "      <td>28</td>\n",
       "      <td>0</td>\n",
       "      <td>2025-03</td>\n",
       "      <td>1</td>\n",
       "      <td></td>\n",
       "      <td>내발산동 673-14</td>\n",
       "      <td>0</td>\n",
       "      <td>37.553086</td>\n",
       "      <td>126.841165</td>\n",
       "      <td>90~120</td>\n",
       "    </tr>\n",
       "    <tr>\n",
       "      <th>2</th>\n",
       "      <td></td>\n",
       "      <td>강변</td>\n",
       "      <td>1992</td>\n",
       "      <td>개인</td>\n",
       "      <td></td>\n",
       "      <td></td>\n",
       "      <td>73000</td>\n",
       "      <td>29</td>\n",
       "      <td>3</td>\n",
       "      <td>2025</td>\n",
       "      <td>...</td>\n",
       "      <td>33</td>\n",
       "      <td>0</td>\n",
       "      <td>2025-03</td>\n",
       "      <td>1</td>\n",
       "      <td>서울 강서구</td>\n",
       "      <td>서울 강서구 가양동 1475</td>\n",
       "      <td>1</td>\n",
       "      <td>37.565216</td>\n",
       "      <td>126.855668</td>\n",
       "      <td>30~60</td>\n",
       "    </tr>\n",
       "  </tbody>\n",
       "</table>\n",
       "<p>3 rows × 30 columns</p>\n",
       "</div>"
      ],
      "text/plain": [
       "  aptDong    aptNm  buildYear buyerGbn cdealDay cdealType  dealAmount  \\\n",
       "0     306  우장산롯데캐슬       2003       개인                         110000   \n",
       "1           청솔102동       1997       개인                          56991   \n",
       "2               강변       1992       개인                          73000   \n",
       "\n",
       "   dealDay  dealMonth  dealYear  ... buildingAge isHighFloor  dealYearMonth  \\\n",
       "0       29          3      2025  ...          22           0        2025-03   \n",
       "1       17          3      2025  ...          28           0        2025-03   \n",
       "2       29          3      2025  ...          33           0        2025-03   \n",
       "\n",
       "   dealQuarter estateAgentSggNmClean       aptAddress isStationNearby  \\\n",
       "0            1                서울 강서구  서울 강서구 화곡동 1145               0   \n",
       "1            1                            내발산동 673-14               0   \n",
       "2            1                서울 강서구  서울 강서구 가양동 1475               1   \n",
       "\n",
       "      aptLat      aptLng area_bin  \n",
       "0  37.555637  126.848319    60~90  \n",
       "1  37.553086  126.841165   90~120  \n",
       "2  37.565216  126.855668    30~60  \n",
       "\n",
       "[3 rows x 30 columns]"
      ]
     },
     "execution_count": 190,
     "metadata": {},
     "output_type": "execute_result"
    }
   ],
   "source": [
    "df.head(3)"
   ]
  },
  {
   "cell_type": "code",
   "execution_count": 127,
   "id": "aec6d980-0efd-4269-a059-15b7450765ae",
   "metadata": {
    "scrolled": true
   },
   "outputs": [],
   "source": [
    "import requests\n",
    "import xml.etree.ElementTree as ET\n",
    "import pandas as pd\n",
    "import os\n",
    "from dotenv import load_dotenv\n",
    "\n",
    "load_dotenv()\n",
    "NEIS_KEY = os.getenv(\"NEIS_KEY\")\n",
    "def fetch_school_list(pIndex=1, pSize=1000):\n",
    "    url = \"https://open.neis.go.kr/hub/schoolInfo\"\n",
    "    params = {\n",
    "        \"KEY\": NEIS_KEY,\n",
    "        \"Type\": \"json\",\n",
    "        \"pIndex\": pIndex,\n",
    "        \"pSize\": pSize\n",
    "    }\n",
    "    res = requests.get(url, params=params)\n",
    "    data = res.json()\n",
    "    schoolData = data['schoolInfo'][1]['row']\n",
    "    df_school = pd.json_normalize(schoolData)\n",
    "    return df_school\n",
    "\n",
    "# 예: 첫 페이지 데이터\n",
    "df_school = fetch_school_list()\n"
   ]
  },
  {
   "cell_type": "code",
   "execution_count": 147,
   "id": "b2e266cd-f1d0-4ec8-8632-364394c4e99e",
   "metadata": {},
   "outputs": [
    {
     "name": "stdout",
     "output_type": "stream",
     "text": [
      "1페이지 수집 완료 (1000개)\n",
      "2페이지 수집 완료 (1000개)\n",
      "3페이지 수집 완료 (1000개)\n",
      "4페이지 수집 완료 (1000개)\n",
      "5페이지 수집 완료 (1000개)\n",
      "6페이지 수집 완료 (1000개)\n",
      "7페이지 수집 완료 (1000개)\n",
      "8페이지 수집 완료 (1000개)\n",
      "9페이지 수집 완료 (1000개)\n",
      "10페이지 수집 완료 (1000개)\n",
      "11페이지 수집 완료 (1000개)\n",
      "12페이지 수집 완료 (1000개)\n",
      "13페이지 수집 완료 (579개)\n",
      "마지막 페이지 도달 또는 오류 발생 (pIndex=14): 'schoolInfo'\n",
      "전체 수집된 학교 수: 12579개\n"
     ]
    }
   ],
   "source": [
    "import requests\n",
    "import pandas as pd\n",
    "import os\n",
    "from dotenv import load_dotenv\n",
    "\n",
    "load_dotenv()\n",
    "NEIS_KEY = os.getenv(\"NEIS_KEY\")\n",
    "\n",
    "def fetch_all_school_data():\n",
    "    all_rows = []\n",
    "    pIndex = 1\n",
    "    pSize = 1000  # 최대 페이지 크기\n",
    "    \n",
    "    while True:\n",
    "        url = \"https://open.neis.go.kr/hub/schoolInfo\"\n",
    "        params = {\n",
    "            \"KEY\": NEIS_KEY,\n",
    "            \"Type\": \"json\",\n",
    "            \"pIndex\": pIndex,\n",
    "            \"pSize\": pSize\n",
    "        }\n",
    "        res = requests.get(url, params=params)\n",
    "        if res.status_code != 200:\n",
    "            print(f\"요청 실패 (pIndex={pIndex}):\", res.status_code)\n",
    "            break\n",
    "\n",
    "        data = res.json()\n",
    "        try:\n",
    "            schoolData = data['schoolInfo'][1]['row']\n",
    "            all_rows.extend(schoolData)\n",
    "            print(f\"{pIndex}페이지 수집 완료 ({len(schoolData)}개)\")\n",
    "        except Exception as e:\n",
    "            print(f\"마지막 페이지 도달 또는 오류 발생 (pIndex={pIndex}): {e}\")\n",
    "            break\n",
    "        \n",
    "        pIndex += 1  # 다음 페이지 요청\n",
    "\n",
    "    df_all_school = pd.json_normalize(all_rows)\n",
    "    return df_all_school\n",
    "\n",
    "# 실행 및 확인\n",
    "df_school = fetch_all_school_data()\n",
    "print(f\"전체 수집된 학교 수: {len(df_school)}개\")\n"
   ]
  },
  {
   "cell_type": "code",
   "execution_count": 156,
   "id": "335f24f9-a10b-4db9-a236-c49918e46346",
   "metadata": {},
   "outputs": [
    {
     "name": "stdout",
     "output_type": "stream",
     "text": [
      "최종 대상 학교 수: 1000개\n"
     ]
    }
   ],
   "source": [
    "# 데이터 전처리 - 서울특별시 초/중학교만 \n",
    "df_school_target = df_school[\n",
    "    (df_school['LCTN_SC_NM'] == '서울특별시') &\n",
    "    (df_school['SCHUL_KND_SC_NM'].isin(['초등학교', '중학교']))\n",
    "].copy()\n",
    "\n",
    "print(f\"최종 대상 학교 수: {len(df_school_target)}개\")"
   ]
  },
  {
   "cell_type": "code",
   "execution_count": 157,
   "id": "244acbb4-e89e-42c5-a8b3-22e7516b96da",
   "metadata": {},
   "outputs": [
    {
     "data": {
      "text/html": [
       "<div>\n",
       "<style scoped>\n",
       "    .dataframe tbody tr th:only-of-type {\n",
       "        vertical-align: middle;\n",
       "    }\n",
       "\n",
       "    .dataframe tbody tr th {\n",
       "        vertical-align: top;\n",
       "    }\n",
       "\n",
       "    .dataframe thead th {\n",
       "        text-align: right;\n",
       "    }\n",
       "</style>\n",
       "<table border=\"1\" class=\"dataframe\">\n",
       "  <thead>\n",
       "    <tr style=\"text-align: right;\">\n",
       "      <th></th>\n",
       "      <th>ATPT_OFCDC_SC_CODE</th>\n",
       "      <th>ATPT_OFCDC_SC_NM</th>\n",
       "      <th>SD_SCHUL_CODE</th>\n",
       "      <th>SCHUL_NM</th>\n",
       "      <th>ENG_SCHUL_NM</th>\n",
       "      <th>SCHUL_KND_SC_NM</th>\n",
       "      <th>LCTN_SC_NM</th>\n",
       "      <th>JU_ORG_NM</th>\n",
       "      <th>FOND_SC_NM</th>\n",
       "      <th>ORG_RDNZC</th>\n",
       "      <th>...</th>\n",
       "      <th>ORG_FAXNO</th>\n",
       "      <th>HS_SC_NM</th>\n",
       "      <th>INDST_SPECL_CCCCL_EXST_YN</th>\n",
       "      <th>HS_GNRL_BUSNS_SC_NM</th>\n",
       "      <th>SPCLY_PURPS_HS_ORD_NM</th>\n",
       "      <th>ENE_BFE_SEHF_SC_NM</th>\n",
       "      <th>DGHT_SC_NM</th>\n",
       "      <th>FOND_YMD</th>\n",
       "      <th>FOAS_MEMRD</th>\n",
       "      <th>LOAD_DTM</th>\n",
       "    </tr>\n",
       "  </thead>\n",
       "  <tbody>\n",
       "    <tr>\n",
       "      <th>1</th>\n",
       "      <td>B10</td>\n",
       "      <td>서울특별시교육청</td>\n",
       "      <td>7130165</td>\n",
       "      <td>가락중학교</td>\n",
       "      <td>Karak Middle School</td>\n",
       "      <td>중학교</td>\n",
       "      <td>서울특별시</td>\n",
       "      <td>서울특별시강동송파교육지원청</td>\n",
       "      <td>공립</td>\n",
       "      <td>05673</td>\n",
       "      <td>...</td>\n",
       "      <td>02-2143-3119</td>\n",
       "      <td></td>\n",
       "      <td>N</td>\n",
       "      <td>일반계</td>\n",
       "      <td>None</td>\n",
       "      <td>전기</td>\n",
       "      <td>주간</td>\n",
       "      <td>19860129</td>\n",
       "      <td>19860506</td>\n",
       "      <td>20230615</td>\n",
       "    </tr>\n",
       "    <tr>\n",
       "      <th>2</th>\n",
       "      <td>B10</td>\n",
       "      <td>서울특별시교육청</td>\n",
       "      <td>7041164</td>\n",
       "      <td>가산중학교</td>\n",
       "      <td>Gasan Middle School</td>\n",
       "      <td>중학교</td>\n",
       "      <td>서울특별시</td>\n",
       "      <td>서울특별시남부교육지원청</td>\n",
       "      <td>공립</td>\n",
       "      <td>08584</td>\n",
       "      <td>...</td>\n",
       "      <td>02-892-8477</td>\n",
       "      <td></td>\n",
       "      <td>N</td>\n",
       "      <td>일반계</td>\n",
       "      <td>None</td>\n",
       "      <td>전기</td>\n",
       "      <td>주간</td>\n",
       "      <td>19700810</td>\n",
       "      <td>19710303</td>\n",
       "      <td>20230615</td>\n",
       "    </tr>\n",
       "    <tr>\n",
       "      <th>3</th>\n",
       "      <td>B10</td>\n",
       "      <td>서울특별시교육청</td>\n",
       "      <td>7130166</td>\n",
       "      <td>가원중학교</td>\n",
       "      <td>Gawon Middle School</td>\n",
       "      <td>중학교</td>\n",
       "      <td>서울특별시</td>\n",
       "      <td>서울특별시강동송파교육지원청</td>\n",
       "      <td>공립</td>\n",
       "      <td>05831</td>\n",
       "      <td>...</td>\n",
       "      <td>02-443-5825</td>\n",
       "      <td></td>\n",
       "      <td>N</td>\n",
       "      <td>일반계</td>\n",
       "      <td>None</td>\n",
       "      <td>전기</td>\n",
       "      <td>주간</td>\n",
       "      <td>19881224</td>\n",
       "      <td>19881224</td>\n",
       "      <td>20230615</td>\n",
       "    </tr>\n",
       "  </tbody>\n",
       "</table>\n",
       "<p>3 rows × 25 columns</p>\n",
       "</div>"
      ],
      "text/plain": [
       "  ATPT_OFCDC_SC_CODE ATPT_OFCDC_SC_NM SD_SCHUL_CODE SCHUL_NM  \\\n",
       "1                B10         서울특별시교육청       7130165    가락중학교   \n",
       "2                B10         서울특별시교육청       7041164    가산중학교   \n",
       "3                B10         서울특별시교육청       7130166    가원중학교   \n",
       "\n",
       "          ENG_SCHUL_NM SCHUL_KND_SC_NM LCTN_SC_NM       JU_ORG_NM FOND_SC_NM  \\\n",
       "1  Karak Middle School             중학교      서울특별시  서울특별시강동송파교육지원청         공립   \n",
       "2  Gasan Middle School             중학교      서울특별시    서울특별시남부교육지원청         공립   \n",
       "3  Gawon Middle School             중학교      서울특별시  서울특별시강동송파교육지원청         공립   \n",
       "\n",
       "  ORG_RDNZC  ...     ORG_FAXNO HS_SC_NM INDST_SPECL_CCCCL_EXST_YN  \\\n",
       "1    05673   ...  02-2143-3119                                  N   \n",
       "2    08584   ...   02-892-8477                                  N   \n",
       "3    05831   ...   02-443-5825                                  N   \n",
       "\n",
       "  HS_GNRL_BUSNS_SC_NM SPCLY_PURPS_HS_ORD_NM ENE_BFE_SEHF_SC_NM DGHT_SC_NM  \\\n",
       "1                 일반계                  None                 전기         주간   \n",
       "2                 일반계                  None                 전기         주간   \n",
       "3                 일반계                  None                 전기         주간   \n",
       "\n",
       "   FOND_YMD FOAS_MEMRD  LOAD_DTM  \n",
       "1  19860129   19860506  20230615  \n",
       "2  19700810   19710303  20230615  \n",
       "3  19881224   19881224  20230615  \n",
       "\n",
       "[3 rows x 25 columns]"
      ]
     },
     "execution_count": 157,
     "metadata": {},
     "output_type": "execute_result"
    }
   ],
   "source": [
    "df_school_target.head(3)"
   ]
  },
  {
   "cell_type": "code",
   "execution_count": 158,
   "id": "c3015db9-5373-426c-964e-2643ea6407e4",
   "metadata": {},
   "outputs": [],
   "source": [
    "# !pip install tqdm"
   ]
  },
  {
   "cell_type": "code",
   "execution_count": 159,
   "id": "6f49b7a0-0264-4912-ae64-c1666f3dfc99",
   "metadata": {},
   "outputs": [
    {
     "name": "stdout",
     "output_type": "stream",
     "text": [
      " 학군데이터 결측치  개수 : ATPT_OFCDC_SC_CODE              0\n",
      "ATPT_OFCDC_SC_NM                0\n",
      "SD_SCHUL_CODE                   0\n",
      "SCHUL_NM                        0\n",
      "ENG_SCHUL_NM                    0\n",
      "SCHUL_KND_SC_NM                 0\n",
      "LCTN_SC_NM                      0\n",
      "JU_ORG_NM                       0\n",
      "FOND_SC_NM                      0\n",
      "ORG_RDNZC                       0\n",
      "ORG_RDNMA                       0\n",
      "ORG_RDNDA                       0\n",
      "ORG_TELNO                       0\n",
      "HMPG_ADRES                      0\n",
      "COEDU_SC_NM                     0\n",
      "ORG_FAXNO                       1\n",
      "HS_SC_NM                      572\n",
      "INDST_SPECL_CCCCL_EXST_YN       0\n",
      "HS_GNRL_BUSNS_SC_NM            20\n",
      "SPCLY_PURPS_HS_ORD_NM        1000\n",
      "ENE_BFE_SEHF_SC_NM              0\n",
      "DGHT_SC_NM                      0\n",
      "FOND_YMD                        0\n",
      "FOAS_MEMRD                      0\n",
      "LOAD_DTM                        0\n",
      "dtype: int64\n",
      " 실거래+역세권 데이터 결측치  개수 : aptDong                  0\n",
      "aptNm                    0\n",
      "buildYear                0\n",
      "buyerGbn                 0\n",
      "cdealDay                 0\n",
      "cdealType                0\n",
      "dealAmount               0\n",
      "dealDay                  0\n",
      "dealMonth                0\n",
      "dealYear                 0\n",
      "dealingGbn               0\n",
      "estateAgentSggNm         0\n",
      "excluUseAr               0\n",
      "floor                    0\n",
      "jibun                    0\n",
      "landLeaseholdGbn         0\n",
      "rgstDate                 0\n",
      "sggCd                    0\n",
      "slerGbn                  0\n",
      "umdNm                    0\n",
      "buildingAge              0\n",
      "isHighFloor              0\n",
      "dealYearMonth            0\n",
      "dealQuarter              0\n",
      "estateAgentSggNmClean    0\n",
      "aptAddress               0\n",
      "isStationNearby          0\n",
      "aptLat                   0\n",
      "aptLng                   0\n",
      "area_bin                 0\n",
      "dtype: int64\n"
     ]
    }
   ],
   "source": [
    "print(f\" 학군데이터 결측치  개수 : {df_school_target.isna().sum()}\")\n",
    "print(f\" 실거래+역세권 데이터 결측치  개수 : {df.isna().sum()}\")\n"
   ]
  },
  {
   "cell_type": "code",
   "execution_count": 160,
   "id": "71b4dec7-33b4-48e1-9c67-6dd3b223f863",
   "metadata": {},
   "outputs": [],
   "source": [
    "# df_school_target = df_school_target.dropna(subset=[])\n",
    "df = df.dropna(subset=['aptLat', 'aptLng', 'area_bin'])"
   ]
  },
  {
   "cell_type": "code",
   "execution_count": 161,
   "id": "5ce81894-afb2-4e99-bec5-dc1333e8f0ad",
   "metadata": {},
   "outputs": [
    {
     "name": "stdout",
     "output_type": "stream",
     "text": [
      " 학군데이터 결측치  개수 : ATPT_OFCDC_SC_CODE              0\n",
      "ATPT_OFCDC_SC_NM                0\n",
      "SD_SCHUL_CODE                   0\n",
      "SCHUL_NM                        0\n",
      "ENG_SCHUL_NM                    0\n",
      "SCHUL_KND_SC_NM                 0\n",
      "LCTN_SC_NM                      0\n",
      "JU_ORG_NM                       0\n",
      "FOND_SC_NM                      0\n",
      "ORG_RDNZC                       0\n",
      "ORG_RDNMA                       0\n",
      "ORG_RDNDA                       0\n",
      "ORG_TELNO                       0\n",
      "HMPG_ADRES                      0\n",
      "COEDU_SC_NM                     0\n",
      "ORG_FAXNO                       1\n",
      "HS_SC_NM                      572\n",
      "INDST_SPECL_CCCCL_EXST_YN       0\n",
      "HS_GNRL_BUSNS_SC_NM            20\n",
      "SPCLY_PURPS_HS_ORD_NM        1000\n",
      "ENE_BFE_SEHF_SC_NM              0\n",
      "DGHT_SC_NM                      0\n",
      "FOND_YMD                        0\n",
      "FOAS_MEMRD                      0\n",
      "LOAD_DTM                        0\n",
      "dtype: int64\n",
      " 실거래+역세권 데이터 결측치  개수 : aptDong                  0\n",
      "aptNm                    0\n",
      "buildYear                0\n",
      "buyerGbn                 0\n",
      "cdealDay                 0\n",
      "cdealType                0\n",
      "dealAmount               0\n",
      "dealDay                  0\n",
      "dealMonth                0\n",
      "dealYear                 0\n",
      "dealingGbn               0\n",
      "estateAgentSggNm         0\n",
      "excluUseAr               0\n",
      "floor                    0\n",
      "jibun                    0\n",
      "landLeaseholdGbn         0\n",
      "rgstDate                 0\n",
      "sggCd                    0\n",
      "slerGbn                  0\n",
      "umdNm                    0\n",
      "buildingAge              0\n",
      "isHighFloor              0\n",
      "dealYearMonth            0\n",
      "dealQuarter              0\n",
      "estateAgentSggNmClean    0\n",
      "aptAddress               0\n",
      "isStationNearby          0\n",
      "aptLat                   0\n",
      "aptLng                   0\n",
      "area_bin                 0\n",
      "dtype: int64\n"
     ]
    }
   ],
   "source": [
    "print(f\" 학군데이터 결측치  개수 : {df_school_target.isna().sum()}\")\n",
    "print(f\" 실거래+역세권 데이터 결측치  개수 : {df.isna().sum()}\")"
   ]
  },
  {
   "cell_type": "code",
   "execution_count": 162,
   "id": "51c04613-ac6a-41da-b7a4-8df7891cb77b",
   "metadata": {},
   "outputs": [
    {
     "name": "stderr",
     "output_type": "stream",
     "text": [
      "100%|███████████████████████████████████████| 1000/1000 [18:04<00:00,  1.08s/it]\n"
     ]
    }
   ],
   "source": [
    "# 학교 주소로 위도/경도 추출해서 df_school에 추가\n",
    "from tqdm import tqdm\n",
    "import time\n",
    "addresses = df_school_target[\"ORG_RDNMA\"].dropna()\n",
    "school_lat = []\n",
    "school_lng = []\n",
    "\n",
    "for addr in tqdm(df_school_target[\"ORG_RDNMA\"], total=len(df_school_target)):\n",
    "    coords = get_coords(addr)\n",
    "    if coords:\n",
    "        lat, lng = coords\n",
    "    else:\n",
    "        lat, lng = (None, None)\n",
    "    school_lat.append(lat)\n",
    "    school_lng.append(lng)\n",
    "    time.sleep(1)  # 카카오 API rate limit 방지\n",
    "\n",
    "# 위경도 컬럼 추가\n",
    "df_school_target[\"SC_LAT\"] = school_lat\n",
    "df_school_target[\"SC_LNG\"] = school_lng\n",
    "\n",
    "\n"
   ]
  },
  {
   "cell_type": "code",
   "execution_count": 163,
   "id": "44d12ffb-3080-4093-aa1b-996aa0801b9b",
   "metadata": {
    "scrolled": true
   },
   "outputs": [
    {
     "data": {
      "text/plain": [
       "Index(['ATPT_OFCDC_SC_CODE', 'ATPT_OFCDC_SC_NM', 'SD_SCHUL_CODE', 'SCHUL_NM',\n",
       "       'ENG_SCHUL_NM', 'SCHUL_KND_SC_NM', 'LCTN_SC_NM', 'JU_ORG_NM',\n",
       "       'FOND_SC_NM', 'ORG_RDNZC', 'ORG_RDNMA', 'ORG_RDNDA', 'ORG_TELNO',\n",
       "       'HMPG_ADRES', 'COEDU_SC_NM', 'ORG_FAXNO', 'HS_SC_NM',\n",
       "       'INDST_SPECL_CCCCL_EXST_YN', 'HS_GNRL_BUSNS_SC_NM',\n",
       "       'SPCLY_PURPS_HS_ORD_NM', 'ENE_BFE_SEHF_SC_NM', 'DGHT_SC_NM', 'FOND_YMD',\n",
       "       'FOAS_MEMRD', 'LOAD_DTM', 'SC_LAT', 'SC_LNG'],\n",
       "      dtype='object')"
      ]
     },
     "execution_count": 163,
     "metadata": {},
     "output_type": "execute_result"
    }
   ],
   "source": [
    "df_school_target.columns"
   ]
  },
  {
   "cell_type": "code",
   "execution_count": 164,
   "id": "09bdb733-e9ed-490e-bfd4-b74ac481eef7",
   "metadata": {},
   "outputs": [
    {
     "name": "stdout",
     "output_type": "stream",
     "text": [
      " 학군데이터 결측치  개수 : ATPT_OFCDC_SC_CODE              0\n",
      "ATPT_OFCDC_SC_NM                0\n",
      "SD_SCHUL_CODE                   0\n",
      "SCHUL_NM                        0\n",
      "ENG_SCHUL_NM                    0\n",
      "SCHUL_KND_SC_NM                 0\n",
      "LCTN_SC_NM                      0\n",
      "JU_ORG_NM                       0\n",
      "FOND_SC_NM                      0\n",
      "ORG_RDNZC                       0\n",
      "ORG_RDNMA                       0\n",
      "ORG_RDNDA                       0\n",
      "ORG_TELNO                       0\n",
      "HMPG_ADRES                      0\n",
      "COEDU_SC_NM                     0\n",
      "ORG_FAXNO                       1\n",
      "HS_SC_NM                      572\n",
      "INDST_SPECL_CCCCL_EXST_YN       0\n",
      "HS_GNRL_BUSNS_SC_NM            20\n",
      "SPCLY_PURPS_HS_ORD_NM        1000\n",
      "ENE_BFE_SEHF_SC_NM              0\n",
      "DGHT_SC_NM                      0\n",
      "FOND_YMD                        0\n",
      "FOAS_MEMRD                      0\n",
      "LOAD_DTM                        0\n",
      "SC_LAT                          4\n",
      "SC_LNG                          4\n",
      "dtype: int64\n",
      " 실거래+역세권 데이터 결측치  개수 : aptDong                  0\n",
      "aptNm                    0\n",
      "buildYear                0\n",
      "buyerGbn                 0\n",
      "cdealDay                 0\n",
      "cdealType                0\n",
      "dealAmount               0\n",
      "dealDay                  0\n",
      "dealMonth                0\n",
      "dealYear                 0\n",
      "dealingGbn               0\n",
      "estateAgentSggNm         0\n",
      "excluUseAr               0\n",
      "floor                    0\n",
      "jibun                    0\n",
      "landLeaseholdGbn         0\n",
      "rgstDate                 0\n",
      "sggCd                    0\n",
      "slerGbn                  0\n",
      "umdNm                    0\n",
      "buildingAge              0\n",
      "isHighFloor              0\n",
      "dealYearMonth            0\n",
      "dealQuarter              0\n",
      "estateAgentSggNmClean    0\n",
      "aptAddress               0\n",
      "isStationNearby          0\n",
      "aptLat                   0\n",
      "aptLng                   0\n",
      "area_bin                 0\n",
      "dtype: int64\n"
     ]
    }
   ],
   "source": [
    "print(f\" 학군데이터 결측치  개수 : {df_school_target.isna().sum()}\")\n",
    "print(f\" 실거래+역세권 데이터 결측치  개수 : {df.isna().sum()}\")\n"
   ]
  },
  {
   "cell_type": "code",
   "execution_count": 165,
   "id": "39cd86b6-a8a7-4521-810f-5dec547e4bc8",
   "metadata": {},
   "outputs": [],
   "source": [
    "df_school_target = df_school_target.dropna(subset=[\"SC_LAT\", \"SC_LNG\"])\n",
    "df = df.dropna(subset=[\"aptLat\", \"aptLng\"])"
   ]
  },
  {
   "cell_type": "code",
   "execution_count": 166,
   "id": "18ec5a14-2e8c-4e85-86cc-a024ed7c1aad",
   "metadata": {
    "scrolled": true
   },
   "outputs": [
    {
     "data": {
      "text/plain": [
       "ATPT_OFCDC_SC_CODE             0\n",
       "ATPT_OFCDC_SC_NM               0\n",
       "SD_SCHUL_CODE                  0\n",
       "SCHUL_NM                       0\n",
       "ENG_SCHUL_NM                   0\n",
       "SCHUL_KND_SC_NM                0\n",
       "LCTN_SC_NM                     0\n",
       "JU_ORG_NM                      0\n",
       "FOND_SC_NM                     0\n",
       "ORG_RDNZC                      0\n",
       "ORG_RDNMA                      0\n",
       "ORG_RDNDA                      0\n",
       "ORG_TELNO                      0\n",
       "HMPG_ADRES                     0\n",
       "COEDU_SC_NM                    0\n",
       "ORG_FAXNO                      1\n",
       "HS_SC_NM                     571\n",
       "INDST_SPECL_CCCCL_EXST_YN      0\n",
       "HS_GNRL_BUSNS_SC_NM           20\n",
       "SPCLY_PURPS_HS_ORD_NM        996\n",
       "ENE_BFE_SEHF_SC_NM             0\n",
       "DGHT_SC_NM                     0\n",
       "FOND_YMD                       0\n",
       "FOAS_MEMRD                     0\n",
       "LOAD_DTM                       0\n",
       "SC_LAT                         0\n",
       "SC_LNG                         0\n",
       "dtype: int64"
      ]
     },
     "execution_count": 166,
     "metadata": {},
     "output_type": "execute_result"
    }
   ],
   "source": [
    "df_school_target.isna().sum()"
   ]
  },
  {
   "cell_type": "code",
   "execution_count": 105,
   "id": "33e15bd7-54a2-49c8-9b1e-bee472cac0e3",
   "metadata": {},
   "outputs": [
    {
     "data": {
      "text/plain": [
       "aptDong                  0\n",
       "aptNm                    0\n",
       "buildYear                0\n",
       "buyerGbn                 0\n",
       "cdealDay                 0\n",
       "cdealType                0\n",
       "dealAmount               0\n",
       "dealDay                  0\n",
       "dealMonth                0\n",
       "dealYear                 0\n",
       "dealingGbn               0\n",
       "estateAgentSggNm         0\n",
       "excluUseAr               0\n",
       "floor                    0\n",
       "jibun                    0\n",
       "landLeaseholdGbn         0\n",
       "rgstDate                 0\n",
       "sggCd                    0\n",
       "slerGbn                  0\n",
       "umdNm                    0\n",
       "buildingAge              0\n",
       "isHighFloor              0\n",
       "dealYearMonth            0\n",
       "dealQuarter              0\n",
       "estateAgentSggNmClean    0\n",
       "aptAddress               0\n",
       "isStationNearby          0\n",
       "aptLat                   0\n",
       "aptLng                   0\n",
       "area_bin                 3\n",
       "dtype: int64"
      ]
     },
     "execution_count": 105,
     "metadata": {},
     "output_type": "execute_result"
    }
   ],
   "source": [
    "df.isna().sum()"
   ]
  },
  {
   "cell_type": "code",
   "execution_count": 167,
   "id": "385e119e-8000-4772-8ca0-d562360411fb",
   "metadata": {},
   "outputs": [],
   "source": [
    "from geopy.distance import geodesic\n",
    "import numpy as np\n",
    "\n",
    "# 학군 프리미엄 여부만 계산하는 간단한 함수\n",
    "def has_school_premium(lat, lng, school_df, distance_limit=500):\n",
    "    for school_type in [\"초등학교\", \"중학교\"]:\n",
    "        filtered = school_df[school_df[\"SCHUL_KND_SC_NM\"] == school_type]\n",
    "\n",
    "        for _, row in filtered.iterrows():\n",
    "            school_lat = row[\"SC_LAT\"][0] if isinstance(row[\"SC_LAT\"], list) else row[\"SC_LAT\"]\n",
    "            school_lng = row[\"SC_LNG\"][0] if isinstance(row[\"SC_LNG\"], list) else row[\"SC_LNG\"]\n",
    "\n",
    "            if pd.notnull(school_lat) and pd.notnull(school_lng):\n",
    "                dist = geodesic((lat, lng), (school_lat, school_lng)).meters\n",
    "                if dist <= distance_limit:\n",
    "                    return True  # 학군 프리미엄 있음\n",
    "    return False  # 두 학교 다 거리 밖\n",
    "\n",
    "# 전체 아파트에 대해 학군 프리미엄 여부 계산\n",
    "school_premium_flags = []\n",
    "\n",
    "for _, row in df.iterrows():\n",
    "    lat = row[\"aptLat\"]\n",
    "    lng = row[\"aptLng\"]\n",
    "\n",
    "    if pd.notnull(lat) and pd.notnull(lng):\n",
    "        has_premium = has_school_premium(lat, lng, df_school_target)\n",
    "    else:\n",
    "        has_premium = False  # 좌표 없는 경우 False 처리\n",
    "\n",
    "    school_premium_flags.append(has_premium)\n",
    "\n"
   ]
  },
  {
   "cell_type": "code",
   "execution_count": 168,
   "id": "16d5decd-d64c-4c35-b28c-33df140de184",
   "metadata": {},
   "outputs": [],
   "source": [
    "# 학군 프리미엄 여부 추가 (500m이내는 학군 프리미엄)\n",
    "df['isSchoolPremium'] = school_premium_flags\n",
    "df['isSchoolPremium'] = df['isSchoolPremium'].astype(int)"
   ]
  },
  {
   "cell_type": "code",
   "execution_count": 108,
   "id": "c7bef2cd-e275-4d32-b90d-8e1703cf3c99",
   "metadata": {},
   "outputs": [],
   "source": [
    "# from geopy.distance import geodesic\n",
    "# import numpy as np\n",
    "\n",
    "# # 아파트와 학교 거리 계산 함수\n",
    "# def find_nearest_school_distance(lat, lng, school_df, school_type):\n",
    "#     filtered = df_school_target[df_school_target[\"SCHUL_KND_SC_NM\"] == school_type]\n",
    "#     min_dist = np.inf\n",
    "#     nearest_school = None\n",
    "    \n",
    "#     for _, row in filtered.iterrows():\n",
    "#         school_lat = row[\"SC_LAT\"][0] if isinstance(row[\"SC_LAT\"], list) else row[\"SC_LAT\"]\n",
    "#         school_lng = row[\"SC_LNG\"][0] if isinstance(row[\"SC_LNG\"], list) else row[\"SC_LNG\"]\n",
    "\n",
    "#         if pd.notnull(school_lat) and pd.notnull(school_lng):\n",
    "#             dist = geodesic((lat, lng), (school_lat, school_lng)).meters\n",
    "            \n",
    "#             if dist < min_dist:\n",
    "#                 min_dist = dist\n",
    "#                 nearest_school = row[\"SCHUL_NM\"]\n",
    "    \n",
    "#     return min_dist, nearest_school\n",
    "    \n",
    "# # 초등학교와 중학교 거리 계산\n",
    "# apt_to_elementary = []\n",
    "# apt_to_middle = []\n",
    "\n",
    "# for _, row in df.iterrows():\n",
    "#     lat = row[\"aptLat\"]\n",
    "#     lng = row[\"aptLng\"]\n",
    "\n",
    "#     # 초등학교 거리 및 이름\n",
    "#     dist_e, name_e = find_nearest_school_distance(lat, lng, df_school_target, \"초등학교\")\n",
    "#     apt_to_elementary.append((dist_e, name_e))\n",
    "\n",
    "#     # 중학교 거리 및 이름\n",
    "#     dist_m, name_m = find_nearest_school_distance(lat, lng, df_school_target, \"중학교\")\n",
    "#     apt_to_middle.append((dist_m, name_m))\n",
    "    \n",
    "# # 초 중학교 이름 및 거리 컬럼 추가\n",
    "# df[\"nearestElementaryDistance\"] = [x[0] for x in apt_to_elementary]\n",
    "# df[\"nearestElementaryName\"] = [x[1] for x in apt_to_elementary]\n",
    "# df[\"nearestMiddleDistance\"] = [x[0] for x in apt_to_middle]\n",
    "# df[\"nearestMiddleName\"] = [x[1] for x in apt_to_middle]\n",
    "\n",
    "# # None (NaN) 값을 2501m로 대체 → 2.5km 이상 떨어진 경우 의미\n",
    "# df['nearestElementaryDistance'] = df['nearestElementaryDistance'].fillna(2501)\n",
    "# df['nearestMiddleDistance'] = df['nearestMiddleDistance'].fillna(2501)\n",
    "\n",
    "# #학군 프리미엄 여부 추가 (500m이내는 학군 프리미엄)\n",
    "# df['isSchoolPremium'] = np.where(\n",
    "#     (df['nearestElementaryDistance'] <= 1000) | (df['nearestMiddleDistance'] <= 1000),\n",
    "#     True, False)"
   ]
  },
  {
   "cell_type": "code",
   "execution_count": 109,
   "id": "6f0701dc-5eb0-4f71-b51b-bae72a3675d6",
   "metadata": {
    "scrolled": true
   },
   "outputs": [
    {
     "data": {
      "text/plain": [
       "(488.6887008828377, '서울등원초등학교')"
      ]
     },
     "execution_count": 109,
     "metadata": {},
     "output_type": "execute_result"
    }
   ],
   "source": [
    "# find_nearest_school_distance(df['aptLat'][0], df['aptLng'][0], df_school, \"초등학교\")\n",
    "# # find_nearest_school_distance(df['aptLat'][0], df['aptLng'][0], df_school, \"중학교\")"
   ]
  },
  {
   "cell_type": "code",
   "execution_count": 169,
   "id": "c62f8d48-678c-45bf-870f-3a35886fb3d8",
   "metadata": {},
   "outputs": [
    {
     "data": {
      "text/plain": [
       "aptDong                  0\n",
       "aptNm                    0\n",
       "buildYear                0\n",
       "buyerGbn                 0\n",
       "cdealDay                 0\n",
       "cdealType                0\n",
       "dealAmount               0\n",
       "dealDay                  0\n",
       "dealMonth                0\n",
       "dealYear                 0\n",
       "dealingGbn               0\n",
       "estateAgentSggNm         0\n",
       "excluUseAr               0\n",
       "floor                    0\n",
       "jibun                    0\n",
       "landLeaseholdGbn         0\n",
       "rgstDate                 0\n",
       "sggCd                    0\n",
       "slerGbn                  0\n",
       "umdNm                    0\n",
       "buildingAge              0\n",
       "isHighFloor              0\n",
       "dealYearMonth            0\n",
       "dealQuarter              0\n",
       "estateAgentSggNmClean    0\n",
       "aptAddress               0\n",
       "isStationNearby          0\n",
       "aptLat                   0\n",
       "aptLng                   0\n",
       "area_bin                 0\n",
       "isSchoolPremium          0\n",
       "dtype: int64"
      ]
     },
     "execution_count": 169,
     "metadata": {},
     "output_type": "execute_result"
    }
   ],
   "source": [
    "df.isna().sum()"
   ]
  },
  {
   "cell_type": "code",
   "execution_count": 170,
   "id": "b2ad834d-d5f2-4a58-8d7f-1d96485264c0",
   "metadata": {},
   "outputs": [
    {
     "data": {
      "text/plain": [
       "Index(['aptDong', 'aptNm', 'buildYear', 'buyerGbn', 'cdealDay', 'cdealType',\n",
       "       'dealAmount', 'dealDay', 'dealMonth', 'dealYear', 'dealingGbn',\n",
       "       'estateAgentSggNm', 'excluUseAr', 'floor', 'jibun', 'landLeaseholdGbn',\n",
       "       'rgstDate', 'sggCd', 'slerGbn', 'umdNm', 'buildingAge', 'isHighFloor',\n",
       "       'dealYearMonth', 'dealQuarter', 'estateAgentSggNmClean', 'aptAddress',\n",
       "       'isStationNearby', 'aptLat', 'aptLng', 'area_bin', 'isSchoolPremium'],\n",
       "      dtype='object')"
      ]
     },
     "execution_count": 170,
     "metadata": {},
     "output_type": "execute_result"
    }
   ],
   "source": [
    "df.columns"
   ]
  },
  {
   "cell_type": "code",
   "execution_count": 171,
   "id": "75d9143c-e084-45ed-804d-fc2c9cca6c74",
   "metadata": {},
   "outputs": [
    {
     "data": {
      "image/png": "[encoded data removed]",
      "text/plain": [
       "<Figure size 640x480 with 1 Axes>"
      ]
     },
     "metadata": {},
     "output_type": "display_data"
    }
   ],
   "source": [
    "import seaborn as sns\n",
    "import matplotlib.pyplot as plt\n",
    "\n",
    "# 박스플롯: 학교 여부별 거래금액\n",
    "sns.boxplot(x='isSchoolPremium', y='dealAmount', data=df)\n",
    "plt.title('학교 인접 여부에 따른 아파트 가격 분포')\n",
    "plt.show()\n"
   ]
  },
  {
   "cell_type": "code",
   "execution_count": 172,
   "id": "6ffa0216-88f0-440f-80c1-d58bdeeedf83",
   "metadata": {},
   "outputs": [
    {
     "name": "stdout",
     "output_type": "stream",
     "text": [
      "                         mean   median  count\n",
      "isSchoolPremium                              \n",
      "0                65605.263158  71000.0     19\n",
      "1                84701.288095  80500.0    420\n"
     ]
    }
   ],
   "source": [
    "# 지하철 여부별 평균, 중앙값\n",
    "price_by_school = df.groupby('isSchoolPremium')['dealAmount'].agg(['mean', 'median', 'count'])\n",
    "print(price_by_school)\n"
   ]
  },
  {
   "cell_type": "code",
   "execution_count": 173,
   "id": "bf4b6e1b-dfce-4127-914e-494b641a007a",
   "metadata": {},
   "outputs": [
    {
     "data": {
      "text/plain": [
       "<seaborn.axisgrid.FacetGrid at 0x311135c40>"
      ]
     },
     "execution_count": 173,
     "metadata": {},
     "output_type": "execute_result"
    },
    {
     "data": {
      "image/png": "[encoded data removed]",
      "text/plain": [
       "<Figure size 617.611x500 with 1 Axes>"
      ]
     },
     "metadata": {},
     "output_type": "display_data"
    }
   ],
   "source": [
    "#지하철 여부 + 층수 = 가격 변화\n",
    "sns.catplot(x='floor', y='dealAmount', hue='isSchoolPremium', data=df, kind='box')\n"
   ]
  },
  {
   "cell_type": "code",
   "execution_count": 174,
   "id": "f6779022-5626-4d7d-bb16-8b8fd6b1f65f",
   "metadata": {},
   "outputs": [
    {
     "data": {
      "text/plain": [
       "<Axes: xlabel='area_bin', ylabel='dealAmount'>"
      ]
     },
     "execution_count": 174,
     "metadata": {},
     "output_type": "execute_result"
    },
    {
     "data": {
      "image/png": "[encoded data removed]",
      "text/plain": [
       "<Figure size 640x480 with 1 Axes>"
      ]
     },
     "metadata": {},
     "output_type": "display_data"
    }
   ],
   "source": [
    "# 지하철 여부 + 전용면적 구간화\n",
    "df['area_bin'] = pd.cut(df['excluUseAr'], bins=[0, 30, 60, 90, 120, 150], labels=['~30', '30~60', '60~90', '90~120', '120~150'])\n",
    "sns.boxplot(x='area_bin', y='dealAmount', hue='isSchoolPremium', data=df)\n"
   ]
  },
  {
   "cell_type": "code",
   "execution_count": 176,
   "id": "33e36221-4318-4579-9086-25b5ab7b3981",
   "metadata": {},
   "outputs": [
    {
     "name": "stdout",
     "output_type": "stream",
     "text": [
      "LinearRegression → MAE: 13207.54, R²: 0.7548\n",
      "RandomForest → MAE: 5502.06, R²: 0.9214\n",
      "XGBoost → MAE: 4766.88, R²: 0.9260\n",
      "LightGBM → MAE: 5077.21, R²: 0.9293\n"
     ]
    },
    {
     "data": {
      "text/plain": [
       "(              Model           MAE        R2\n",
       " 0  LinearRegression  13207.537295  0.754780\n",
       " 1      RandomForest   5502.060646  0.921412\n",
       " 2           XGBoost   4766.879883  0.925958\n",
       " 3          LightGBM   5077.213906  0.929306,\n",
       " {'LinearRegression': LinearRegression(),\n",
       "  'RandomForest': RandomForestRegressor(random_state=42),\n",
       "  'XGBoost': XGBRegressor(base_score=None, booster=None, callbacks=None,\n",
       "               colsample_bylevel=None, colsample_bynode=None,\n",
       "               colsample_bytree=None, device=None, early_stopping_rounds=None,\n",
       "               enable_categorical=False, eval_metric=None, feature_types=None,\n",
       "               gamma=None, grow_policy=None, importance_type=None,\n",
       "               interaction_constraints=None, learning_rate=None, max_bin=None,\n",
       "               max_cat_threshold=None, max_cat_to_onehot=None,\n",
       "               max_delta_step=None, max_depth=None, max_leaves=None,\n",
       "               min_child_weight=None, missing=nan, monotone_constraints=None,\n",
       "               multi_strategy=None, n_estimators=100, n_jobs=None,\n",
       "               num_parallel_tree=None, random_state=42, ...),\n",
       "  'LightGBM': LGBMRegressor(max_depth=10, min_data_in_leaf=5, num_leaves=50, random_state=42,\n",
       "                verbose=-1)},\n",
       "      excluUseAr  floor  buildingAge  isHighFloor  isStationNearby  \\\n",
       " 280       84.99      1           32            0                1   \n",
       " 309       59.90      4           21            0                1   \n",
       " 31        58.65     14           33            0                1   \n",
       " 85        49.53      4            6            0                1   \n",
       " 316       84.98      7           20            0                1   \n",
       " ..          ...    ...          ...          ...              ...   \n",
       " 110       59.67     11           26            0                1   \n",
       " 284       59.97      9           26            0                1   \n",
       " 366       27.37      9            9            0                1   \n",
       " 457       13.79      7           12            0                0   \n",
       " 106       84.92      2           11            0                1   \n",
       " \n",
       "      isSchoolPremium  umdNm_가양동  umdNm_내발산동  umdNm_등촌동  umdNm_마곡동  umdNm_방화동  \\\n",
       " 280                1      False       False      False      False       True   \n",
       " 309                1      False       False      False      False      False   \n",
       " 31                 1       True       False      False      False      False   \n",
       " 85                 1      False       False      False      False      False   \n",
       " 316                1      False        True      False      False      False   \n",
       " ..               ...        ...         ...        ...        ...        ...   \n",
       " 110                1      False       False       True      False      False   \n",
       " 284                1       True       False      False      False      False   \n",
       " 366                1      False       False      False      False      False   \n",
       " 457                1      False       False      False      False      False   \n",
       " 106                1      False       False      False       True      False   \n",
       " \n",
       "      umdNm_염창동  umdNm_화곡동  \n",
       " 280      False      False  \n",
       " 309       True      False  \n",
       " 31       False      False  \n",
       " 85       False       True  \n",
       " 316      False      False  \n",
       " ..         ...        ...  \n",
       " 110      False      False  \n",
       " 284      False      False  \n",
       " 366      False       True  \n",
       " 457      False       True  \n",
       " 106      False      False  \n",
       " \n",
       " [351 rows x 13 columns],\n",
       "      excluUseAr  floor  buildingAge  isHighFloor  isStationNearby  \\\n",
       " 279     84.9300     20           20            1                1   \n",
       " 79      58.1400      9           30            0                0   \n",
       " 365     84.9900     14           10            0                1   \n",
       " 269     59.9825     12            8            0                0   \n",
       " 344     58.1400      8           30            0                1   \n",
       " ..          ...    ...          ...          ...              ...   \n",
       " 58     144.1230      3           23            0                0   \n",
       " 141    113.3376      5           22            0                1   \n",
       " 24      29.9300      4            7            0                1   \n",
       " 17      59.7600     11           26            0                1   \n",
       " 67      84.9800      8           19            0                0   \n",
       " \n",
       "      isSchoolPremium  umdNm_가양동  umdNm_내발산동  umdNm_등촌동  umdNm_마곡동  umdNm_방화동  \\\n",
       " 279                1      False       False      False      False      False   \n",
       " 79                 1      False       False       True      False      False   \n",
       " 365                1      False       False      False      False      False   \n",
       " 269                1      False       False      False       True      False   \n",
       " 344                1      False       False       True      False      False   \n",
       " ..               ...        ...         ...        ...        ...        ...   \n",
       " 58                 1      False       False      False      False      False   \n",
       " 141                1      False       False      False      False       True   \n",
       " 24                 1      False       False      False      False      False   \n",
       " 17                 1       True       False      False      False      False   \n",
       " 67                 1      False       False      False      False      False   \n",
       " \n",
       "      umdNm_염창동  umdNm_화곡동  \n",
       " 279       True      False  \n",
       " 79       False      False  \n",
       " 365      False       True  \n",
       " 269      False      False  \n",
       " 344      False      False  \n",
       " ..         ...        ...  \n",
       " 58       False       True  \n",
       " 141      False      False  \n",
       " 24       False       True  \n",
       " 17       False      False  \n",
       " 67        True      False  \n",
       " \n",
       " [88 rows x 13 columns],\n",
       " 280     69400\n",
       " 309     66300\n",
       " 31      83500\n",
       " 85      43000\n",
       " 316    137000\n",
       "         ...  \n",
       " 110     74000\n",
       " 284     74500\n",
       " 366     21400\n",
       " 457      7400\n",
       " 106    131500\n",
       " Name: dealAmount, Length: 351, dtype: int64,\n",
       " 279    132000\n",
       " 79      77900\n",
       " 365    137000\n",
       " 269    127000\n",
       " 344     83000\n",
       "         ...  \n",
       " 58     121000\n",
       " 141     81000\n",
       " 24      25500\n",
       " 17      89500\n",
       " 67      81000\n",
       " Name: dealAmount, Length: 88, dtype: int64)"
      ]
     },
     "execution_count": 176,
     "metadata": {},
     "output_type": "execute_result"
    }
   ],
   "source": [
    "features = ['excluUseAr', 'floor', 'buildingAge', 'umdNm',\n",
    "            'isHighFloor', 'isStationNearby', 'isSchoolPremium', '']\n",
    "train_compare_models(df, features)"
   ]
  },
  {
   "cell_type": "code",
   "execution_count": 177,
   "id": "9ddd3e73-3bcf-4fc4-a7d6-a7c033a561b5",
   "metadata": {},
   "outputs": [
    {
     "data": {
      "text/plain": [
       "aptDong                    object\n",
       "aptNm                      object\n",
       "buildYear                   int64\n",
       "buyerGbn                   object\n",
       "cdealDay                   object\n",
       "cdealType                  object\n",
       "dealAmount                  int64\n",
       "dealDay                     int64\n",
       "dealMonth                   int64\n",
       "dealYear                    int64\n",
       "dealingGbn                 object\n",
       "estateAgentSggNm           object\n",
       "excluUseAr                float64\n",
       "floor                       int64\n",
       "jibun                      object\n",
       "landLeaseholdGbn           object\n",
       "rgstDate                   object\n",
       "sggCd                       int64\n",
       "slerGbn                    object\n",
       "umdNm                      object\n",
       "buildingAge                 int64\n",
       "isHighFloor                 int64\n",
       "dealYearMonth              object\n",
       "dealQuarter                 int64\n",
       "estateAgentSggNmClean      object\n",
       "aptAddress                 object\n",
       "isStationNearby             int64\n",
       "aptLat                    float64\n",
       "aptLng                    float64\n",
       "area_bin                 category\n",
       "isSchoolPremium             int64\n",
       "dtype: object"
      ]
     },
     "execution_count": 177,
     "metadata": {},
     "output_type": "execute_result"
    }
   ],
   "source": [
    "df.dtypes"
   ]
  },
  {
   "cell_type": "code",
   "execution_count": 178,
   "id": "655a24ec-64ec-47c5-bb4a-1a33e1066ae5",
   "metadata": {},
   "outputs": [
    {
     "data": {
      "text/html": [
       "<div>\n",
       "<style scoped>\n",
       "    .dataframe tbody tr th:only-of-type {\n",
       "        vertical-align: middle;\n",
       "    }\n",
       "\n",
       "    .dataframe tbody tr th {\n",
       "        vertical-align: top;\n",
       "    }\n",
       "\n",
       "    .dataframe thead th {\n",
       "        text-align: right;\n",
       "    }\n",
       "</style>\n",
       "<table border=\"1\" class=\"dataframe\">\n",
       "  <thead>\n",
       "    <tr style=\"text-align: right;\">\n",
       "      <th></th>\n",
       "      <th>dealAmount</th>\n",
       "      <th>excluUseAr</th>\n",
       "      <th>floor</th>\n",
       "      <th>buildingAge</th>\n",
       "      <th>dealQuarter</th>\n",
       "      <th>isStationNearby</th>\n",
       "      <th>isHighFloor</th>\n",
       "      <th>isSchoolPremium</th>\n",
       "    </tr>\n",
       "  </thead>\n",
       "  <tbody>\n",
       "    <tr>\n",
       "      <th>0</th>\n",
       "      <td>110000</td>\n",
       "      <td>85.00</td>\n",
       "      <td>14</td>\n",
       "      <td>22</td>\n",
       "      <td>1</td>\n",
       "      <td>0</td>\n",
       "      <td>0</td>\n",
       "      <td>1</td>\n",
       "    </tr>\n",
       "    <tr>\n",
       "      <th>1</th>\n",
       "      <td>56991</td>\n",
       "      <td>117.69</td>\n",
       "      <td>7</td>\n",
       "      <td>28</td>\n",
       "      <td>1</td>\n",
       "      <td>0</td>\n",
       "      <td>0</td>\n",
       "      <td>1</td>\n",
       "    </tr>\n",
       "    <tr>\n",
       "      <th>2</th>\n",
       "      <td>73000</td>\n",
       "      <td>49.50</td>\n",
       "      <td>4</td>\n",
       "      <td>33</td>\n",
       "      <td>1</td>\n",
       "      <td>1</td>\n",
       "      <td>0</td>\n",
       "      <td>1</td>\n",
       "    </tr>\n",
       "  </tbody>\n",
       "</table>\n",
       "</div>"
      ],
      "text/plain": [
       "   dealAmount  excluUseAr  floor  buildingAge  dealQuarter  isStationNearby  \\\n",
       "0      110000       85.00     14           22            1                0   \n",
       "1       56991      117.69      7           28            1                0   \n",
       "2       73000       49.50      4           33            1                1   \n",
       "\n",
       "   isHighFloor  isSchoolPremium  \n",
       "0            0                1  \n",
       "1            0                1  \n",
       "2            0                1  "
      ]
     },
     "execution_count": 178,
     "metadata": {},
     "output_type": "execute_result"
    }
   ],
   "source": [
    "df_numeric = clean_numeric_df(df)\n",
    "df_numeric.head(3)"
   ]
  },
  {
   "cell_type": "code",
   "execution_count": 179,
   "id": "bf6259b4-7ded-423a-8302-54715ec7a962",
   "metadata": {
    "scrolled": true
   },
   "outputs": [],
   "source": [
    "# 상관관계 계산 전에 dealQuarter 제거\n",
    "df_numeric = df_numeric.drop(columns = ['dealQuarter'])"
   ]
  },
  {
   "cell_type": "code",
   "execution_count": 180,
   "id": "16b6a7f0-4277-4044-a8c0-4e7083f4458c",
   "metadata": {
    "scrolled": true
   },
   "outputs": [
    {
     "data": {
      "image/png": "[encoded data removed]",
      "text/plain": [
       "<Figure size 1000x800 with 2 Axes>"
      ]
     },
     "metadata": {},
     "output_type": "display_data"
    },
    {
     "name": "stdout",
     "output_type": "stream",
     "text": [
      "dealAmount         1.000000\n",
      "excluUseAr         0.696780\n",
      "floor              0.204114\n",
      "isHighFloor        0.193749\n",
      "isSchoolPremium    0.115308\n",
      "isStationNearby    0.103165\n",
      "buildingAge       -0.438616\n",
      "Name: dealAmount, dtype: float64\n"
     ]
    }
   ],
   "source": [
    "plot_dealamount_correlation(df_numeric)"
   ]
  },
  {
   "cell_type": "markdown",
   "id": "f627f2a3-85f4-442e-8bf5-f22f27c92906",
   "metadata": {},
   "source": [
    "먼저 df['isSchoolPriemium']의 컬럼만 넣어서 모델을 돌렸는데 대략 MAE는4700~5000만원의 오차가 나왔다.살짝 애매하긴 한것 같다. \\\n",
    "R2값은 0.9이상으로 괜찮은 값이 나온 것 같다. \\\n",
    "학군여부 컬럼 또한 상관관계에서는 영향이 미미 했지만 학군여부 컬럼을 넣어 모델을 돌린결과 \\\n",
    "더 괜찮은 성능을 보였으므로 다른 컬럼에 좋은 영향을 미치는 것 같다. \\\n",
    "이후에는 초/중학교의 거리 컬럼을 추가해서 비교해 보려고한다."
   ]
  },
  {
   "cell_type": "code",
   "execution_count": 183,
   "id": "76cea6c5-136a-481a-81bf-79684e4a9cf1",
   "metadata": {},
   "outputs": [
    {
     "name": "stdout",
     "output_type": "stream",
     "text": [
      "LinearRegression → MAE: 13207.54, R²: 0.7548\n",
      "RandomForest → MAE: 5502.06, R²: 0.9214\n",
      "XGBoost → MAE: 4766.88, R²: 0.9260\n",
      "LightGBM → MAE: 5077.21, R²: 0.9293\n",
      "[TRAIN] MAE: 1386.66, R²: 0.9961\n",
      "[VALID] MAE: 5077.21, R²: 0.9293\n"
     ]
    }
   ],
   "source": [
    "# LightGBM 과적합 여부 판단\n",
    "from sklearn.metrics import mean_absolute_error, r2_score\n",
    "# 모델 학습\n",
    "result_df, models, X_train, X_valid, y_train, y_valid = train_compare_models(df, features)\n",
    "\n",
    "# LightGBM 모델 성능 확인\n",
    "model = models['LightGBM']\n",
    "y_train_pred = model.predict(X_train)\n",
    "y_valid_pred = model.predict(X_valid)\n",
    "\n",
    "mae_train = mean_absolute_error(y_train, y_train_pred)\n",
    "mae_valid = mean_absolute_error(y_valid, y_valid_pred)\n",
    "r2_train = r2_score(y_train, y_train_pred)\n",
    "r2_valid = r2_score(y_valid, y_valid_pred)\n",
    "\n",
    "print(f\"[TRAIN] MAE: {mae_train:.2f}, R²: {r2_train:.4f}\")\n",
    "print(f\"[VALID] MAE: {mae_valid:.2f}, R²: {r2_valid:.4f}\")\n"
   ]
  },
  {
   "cell_type": "markdown",
   "id": "36471125-d57a-4bed-aff8-442f3d0bc75c",
   "metadata": {},
   "source": [
    "실제데이터와 예측데이터를 비교해본 결과 \\\n",
    "R2 값은 valid_data가 0.9 이상이므로 이정도면 인용이 가능해보임 \\\n",
    "MAE값은 valid_data와 train_data가 4배 가량 차이가 나고 dealAmount 단위가 만원단위기 때문에 \\\n",
    "5077만원의 오차가 있다는 것이다. 예측력은 나쁘지 않지만 오차가 크다고 판단되어 \\\n",
    "학군 거리 데이터를 추가적으로 피처엔지니어링 하려고한다."
   ]
  },
  {
   "cell_type": "code",
   "execution_count": 185,
   "id": "7705b65c-f694-482d-8d6c-0bb1e3b01a07",
   "metadata": {},
   "outputs": [],
   "source": [
    "from base_model_utils import preprocess_base_df\n",
    "df = preprocess_base_df(df)\n",
    "df.to_csv('03_add_school_df.csv', index=False)"
   ]
  },
  {
   "cell_type": "code",
   "execution_count": null,
   "id": "db2ebee2-4810-496a-8279-e1cf5f18cfd7",
   "metadata": {},
   "outputs": [],
   "source": []
  }
 ],
 "metadata": {
  "kernelspec": {
   "display_name": "Python 3 (ipykernel)",
   "language": "python",
   "name": "python3"
  },
  "language_info": {
   "codemirror_mode": {
    "name": "ipython",
    "version": 3
   },
   "file_extension": ".py",
   "mimetype": "text/x-python",
   "name": "python",
   "nbconvert_exporter": "python",
   "pygments_lexer": "ipython3",
   "version": "3.9.23"
  }
 },
 "nbformat": 4,
 "nbformat_minor": 5
}
